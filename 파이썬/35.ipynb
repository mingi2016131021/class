{
 "cells": [
  {
   "cell_type": "code",
   "execution_count": 3,
   "id": "167d8d5c-3f9c-4c45-9d08-8089b233a559",
   "metadata": {},
   "outputs": [],
   "source": [
    "class Solution(object):\n",
    "    def hammingDistance(self, x, y):\n",
    "        c=x^y\n",
    "        strc=bin(c)[2:]\n",
    "        return strc.count(\"1\")"
   ]
  },
  {
   "cell_type": "code",
   "execution_count": null,
   "id": "ce442cd0-4bcb-4570-9d2f-f32abf10072c",
   "metadata": {},
   "outputs": [],
   "source": []
  }
 ],
 "metadata": {
  "kernelspec": {
   "display_name": "Python 3 (ipykernel)",
   "language": "python",
   "name": "python3"
  },
  "language_info": {
   "codemirror_mode": {
    "name": "ipython",
    "version": 3
   },
   "file_extension": ".py",
   "mimetype": "text/x-python",
   "name": "python",
   "nbconvert_exporter": "python",
   "pygments_lexer": "ipython3",
   "version": "3.11.7"
  }
 },
 "nbformat": 4,
 "nbformat_minor": 5
}
