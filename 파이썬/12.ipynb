{
 "cells": [
  {
   "cell_type": "code",
   "execution_count": 2,
   "id": "281d39e3-1965-45f8-90fb-1103951a65a6",
   "metadata": {},
   "outputs": [],
   "source": [
    "class Solution(object):\n",
    "    def reverseList(self, head):\n",
    "        if head is None:\n",
    "            return None\n",
    "        curr = head\n",
    "        pre = None\n",
    "        while curr is not None:\n",
    "            nxt = curr.next\n",
    "            curr.next = pre\n",
    "            pre = curr\n",
    "            curr = nxt\n",
    "        head = pre\n",
    "        return head"
   ]
  },
  {
   "cell_type": "code",
   "execution_count": null,
   "id": "eba27706-46c6-424a-a510-c6fe0e21112d",
   "metadata": {},
   "outputs": [],
   "source": []
  }
 ],
 "metadata": {
  "kernelspec": {
   "display_name": "Python 3 (ipykernel)",
   "language": "python",
   "name": "python3"
  },
  "language_info": {
   "codemirror_mode": {
    "name": "ipython",
    "version": 3
   },
   "file_extension": ".py",
   "mimetype": "text/x-python",
   "name": "python",
   "nbconvert_exporter": "python",
   "pygments_lexer": "ipython3",
   "version": "3.11.7"
  }
 },
 "nbformat": 4,
 "nbformat_minor": 5
}
