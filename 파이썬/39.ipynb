{
 "cells": [
  {
   "cell_type": "code",
   "execution_count": 3,
   "id": "6db280ce-5146-45a2-abf6-ac0d8c2ab196",
   "metadata": {},
   "outputs": [],
   "source": [
    "class Solution(object):\n",
    "    def divisorGame(self, n):\n",
    "        return n%2==0"
   ]
  },
  {
   "cell_type": "code",
   "execution_count": null,
   "id": "3bfd257f-799c-47a2-8fd3-bcdec3bd70f3",
   "metadata": {},
   "outputs": [],
   "source": []
  }
 ],
 "metadata": {
  "kernelspec": {
   "display_name": "Python 3 (ipykernel)",
   "language": "python",
   "name": "python3"
  },
  "language_info": {
   "codemirror_mode": {
    "name": "ipython",
    "version": 3
   },
   "file_extension": ".py",
   "mimetype": "text/x-python",
   "name": "python",
   "nbconvert_exporter": "python",
   "pygments_lexer": "ipython3",
   "version": "3.11.7"
  }
 },
 "nbformat": 4,
 "nbformat_minor": 5
}
