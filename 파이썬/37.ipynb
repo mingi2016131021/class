{
 "cells": [
  {
   "cell_type": "code",
   "execution_count": 5,
   "id": "bf8877e3-8fa5-4611-ab1d-7b33b063c636",
   "metadata": {},
   "outputs": [],
   "source": [
    "class Solution:\n",
    "    def lemonadeChange(self, bills):\n",
    "        change5=0\n",
    "        change10=0\n",
    "        change20=0\n",
    "        for i in range(len(bills)):\n",
    "            if bills[i]==5:\n",
    "                change5+=1\n",
    "            elif bills[i]==10:\n",
    "                change10+=1\n",
    "                change5-=1\n",
    "            elif bills[i]==20:\n",
    "                if change10>0 :\n",
    "                    change5-=1\n",
    "                    change10-=1\n",
    "                else:\n",
    "                    change5-=3\n",
    "                change20+=1\n",
    "            if change5<0 or change10<0 or change20<0:\n",
    "                return False\n",
    "        return True"
   ]
  },
  {
   "cell_type": "code",
   "execution_count": null,
   "id": "e7e681bc-a24b-49b7-862a-35f38222a338",
   "metadata": {},
   "outputs": [],
   "source": []
  }
 ],
 "metadata": {
  "kernelspec": {
   "display_name": "Python 3 (ipykernel)",
   "language": "python",
   "name": "python3"
  },
  "language_info": {
   "codemirror_mode": {
    "name": "ipython",
    "version": 3
   },
   "file_extension": ".py",
   "mimetype": "text/x-python",
   "name": "python",
   "nbconvert_exporter": "python",
   "pygments_lexer": "ipython3",
   "version": "3.11.7"
  }
 },
 "nbformat": 4,
 "nbformat_minor": 5
}
