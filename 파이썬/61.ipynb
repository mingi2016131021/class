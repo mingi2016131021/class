{
 "cells": [
  {
   "cell_type": "code",
   "execution_count": 8,
   "id": "0eadb782-1cf5-43b5-93e7-2c94d14c56f6",
   "metadata": {},
   "outputs": [],
   "source": [
    "class Solution(object):\n",
    "    def findShortestSubArray(self, nums):\n",
    "        first_occurrence = {}\n",
    "        last_occurrence = {}\n",
    "        frequency = {}\n",
    "        max_frequency = 0\n",
    "        for i, num in enumerate(nums):\n",
    "            if num not in first_occurrence:\n",
    "                first_occurrence[num] = i\n",
    "            last_occurrence[num] = i\n",
    "            frequency[num] = frequency.get(num, 0) + 1\n",
    "            max_frequency = max(max_frequency, frequency[num])\n",
    "        degree = max_frequency\n",
    "        min_length = len(nums)\n",
    "        for num, freq in frequency.items():\n",
    "            if freq == degree:\n",
    "                length = last_occurrence[num] - first_occurrence[num] + 1\n",
    "                min_length = min(min_length, length)\n",
    "        return min_length"
   ]
  },
  {
   "cell_type": "code",
   "execution_count": null,
   "id": "0823282f-2365-49d5-be9f-cfba2fc85473",
   "metadata": {},
   "outputs": [],
   "source": []
  }
 ],
 "metadata": {
  "kernelspec": {
   "display_name": "Python 3 (ipykernel)",
   "language": "python",
   "name": "python3"
  },
  "language_info": {
   "codemirror_mode": {
    "name": "ipython",
    "version": 3
   },
   "file_extension": ".py",
   "mimetype": "text/x-python",
   "name": "python",
   "nbconvert_exporter": "python",
   "pygments_lexer": "ipython3",
   "version": "3.11.7"
  }
 },
 "nbformat": 4,
 "nbformat_minor": 5
}
