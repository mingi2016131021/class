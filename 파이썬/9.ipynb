{
 "cells": [
  {
   "cell_type": "code",
   "execution_count": 2,
   "id": "e23a85be-2da0-41a4-9932-aae6b275d8b6",
   "metadata": {},
   "outputs": [],
   "source": [
    "class Solution(object):\n",
    "    def singleNumber(self, nums):\n",
    "        a=0\n",
    "        while len(nums)>0:\n",
    "            if nums.count(nums[a])==1:\n",
    "                return nums[a]\n",
    "            else:\n",
    "                a=a+1"
   ]
  },
  {
   "cell_type": "code",
   "execution_count": null,
   "id": "f6a6e1ca-c47d-4b8f-8db7-b2c104441bf6",
   "metadata": {},
   "outputs": [],
   "source": []
  }
 ],
 "metadata": {
  "kernelspec": {
   "display_name": "Python 3 (ipykernel)",
   "language": "python",
   "name": "python3"
  },
  "language_info": {
   "codemirror_mode": {
    "name": "ipython",
    "version": 3
   },
   "file_extension": ".py",
   "mimetype": "text/x-python",
   "name": "python",
   "nbconvert_exporter": "python",
   "pygments_lexer": "ipython3",
   "version": "3.11.7"
  }
 },
 "nbformat": 4,
 "nbformat_minor": 5
}
