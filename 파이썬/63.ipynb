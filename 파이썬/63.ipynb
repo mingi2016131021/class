{
 "cells": [
  {
   "cell_type": "code",
   "execution_count": 8,
   "id": "0fee1b43-3318-4b7b-aff6-b6f7735b2c6c",
   "metadata": {},
   "outputs": [],
   "source": [
    "class Solution(object):\n",
    "    def uncommonFromSentences(self, s1, s2):\n",
    "        s = s1.split() + s2.split()\n",
    "        res = []\n",
    "        for i in s:\n",
    "            if s.count(i) == 1:\n",
    "                res.append(i)\n",
    "        return res"
   ]
  },
  {
   "cell_type": "code",
   "execution_count": null,
   "id": "57642083-d7a2-404e-a2b9-ffd4c2e28e21",
   "metadata": {},
   "outputs": [],
   "source": []
  }
 ],
 "metadata": {
  "kernelspec": {
   "display_name": "Python 3 (ipykernel)",
   "language": "python",
   "name": "python3"
  },
  "language_info": {
   "codemirror_mode": {
    "name": "ipython",
    "version": 3
   },
   "file_extension": ".py",
   "mimetype": "text/x-python",
   "name": "python",
   "nbconvert_exporter": "python",
   "pygments_lexer": "ipython3",
   "version": "3.11.7"
  }
 },
 "nbformat": 4,
 "nbformat_minor": 5
}
