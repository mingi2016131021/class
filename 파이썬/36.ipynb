{
 "cells": [
  {
   "cell_type": "code",
   "execution_count": 5,
   "id": "03d0b61f-aad2-43f0-bae2-4b0fc2de02c1",
   "metadata": {},
   "outputs": [],
   "source": [
    "class Solution(object):\n",
    "    def countSegments(self, s):\n",
    "        count=0\n",
    "        l=s.split(\" \")\n",
    "        for i in l:\n",
    "            if i==\" \" or i==\"\":\n",
    "                continue\n",
    "            else:\n",
    "                count+=1\n",
    "        return count"
   ]
  },
  {
   "cell_type": "code",
   "execution_count": null,
   "id": "d4db3d52-f5e8-4fc7-b3c2-883afb71443c",
   "metadata": {},
   "outputs": [],
   "source": []
  }
 ],
 "metadata": {
  "kernelspec": {
   "display_name": "Python 3 (ipykernel)",
   "language": "python",
   "name": "python3"
  },
  "language_info": {
   "codemirror_mode": {
    "name": "ipython",
    "version": 3
   },
   "file_extension": ".py",
   "mimetype": "text/x-python",
   "name": "python",
   "nbconvert_exporter": "python",
   "pygments_lexer": "ipython3",
   "version": "3.11.7"
  }
 },
 "nbformat": 4,
 "nbformat_minor": 5
}
