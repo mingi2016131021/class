{
 "cells": [
  {
   "cell_type": "code",
   "execution_count": 3,
   "id": "06f60104-54e2-4135-bfe5-6ceb2ba59400",
   "metadata": {},
   "outputs": [],
   "source": [
    "class Solution:\n",
    "    def missingInteger(self, nums):\n",
    "        count=nums[0]\n",
    "        for i in range(1, len(nums)):\n",
    "            if nums[i]== nums[i-1]+1:\n",
    "                count+=nums[i]\n",
    "            else:\n",
    "                break\n",
    "        while True:\n",
    "            if count in nums:\n",
    "                count+=1\n",
    "            else:\n",
    "                break\n",
    "        return count"
   ]
  },
  {
   "cell_type": "code",
   "execution_count": null,
   "id": "782d55ef-3084-4590-89dc-97162d15f85e",
   "metadata": {},
   "outputs": [],
   "source": []
  }
 ],
 "metadata": {
  "kernelspec": {
   "display_name": "Python 3 (ipykernel)",
   "language": "python",
   "name": "python3"
  },
  "language_info": {
   "codemirror_mode": {
    "name": "ipython",
    "version": 3
   },
   "file_extension": ".py",
   "mimetype": "text/x-python",
   "name": "python",
   "nbconvert_exporter": "python",
   "pygments_lexer": "ipython3",
   "version": "3.11.7"
  }
 },
 "nbformat": 4,
 "nbformat_minor": 5
}
