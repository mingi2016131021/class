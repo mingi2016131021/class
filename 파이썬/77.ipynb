{
 "cells": [
  {
   "cell_type": "code",
   "execution_count": 6,
   "id": "f7f9a195-4dfc-457c-859a-5920920464cf",
   "metadata": {},
   "outputs": [],
   "source": [
    "class Solution(object):\n",
    "    def reverseOnlyLetters(self, s):\n",
    "        l=list(s)\n",
    "        i=0\n",
    "        j=len(l)-1\n",
    "        while i<j:\n",
    "            if l[i].isalpha() and l[j].isalpha():\n",
    "                l[i],l[j]=l[j],l[i]\n",
    "                i+=1\n",
    "                j-=1\n",
    "            if not l[i].isalpha():\n",
    "                i+=1\n",
    "            if not l[j].isalpha():\n",
    "                j-=1\n",
    "\n",
    "        return ''.join(l)"
   ]
  },
  {
   "cell_type": "code",
   "execution_count": null,
   "id": "99ea2997-23bb-4397-9aa8-6474787076cd",
   "metadata": {},
   "outputs": [],
   "source": []
  }
 ],
 "metadata": {
  "kernelspec": {
   "display_name": "Python 3 (ipykernel)",
   "language": "python",
   "name": "python3"
  },
  "language_info": {
   "codemirror_mode": {
    "name": "ipython",
    "version": 3
   },
   "file_extension": ".py",
   "mimetype": "text/x-python",
   "name": "python",
   "nbconvert_exporter": "python",
   "pygments_lexer": "ipython3",
   "version": "3.11.7"
  }
 },
 "nbformat": 4,
 "nbformat_minor": 5
}
