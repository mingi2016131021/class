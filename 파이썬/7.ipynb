{
 "cells": [
  {
   "cell_type": "code",
   "execution_count": 3,
   "id": "02405170-5271-4481-8aab-7dfb9a8a79ce",
   "metadata": {},
   "outputs": [],
   "source": [
    "class Solution(object):\n",
    "    def generate(self, numRows):\n",
    "        for i in range(0,numRows):\n",
    "            l=[]\n",
    "            for j in range(i+1):\n",
    "                if j==0 or j==i:\n",
    "                    l.append(1)\n",
    "                else:\n",
    "                    l.append(sum(result[i-1][j-1:j+1]))\n",
    "            result[i]=l\n",
    "        return result"
   ]
  },
  {
   "cell_type": "code",
   "execution_count": null,
   "id": "a5c9d8ee-6eec-4ac7-8ec2-98199631117f",
   "metadata": {},
   "outputs": [],
   "source": []
  }
 ],
 "metadata": {
  "kernelspec": {
   "display_name": "Python 3 (ipykernel)",
   "language": "python",
   "name": "python3"
  },
  "language_info": {
   "codemirror_mode": {
    "name": "ipython",
    "version": 3
   },
   "file_extension": ".py",
   "mimetype": "text/x-python",
   "name": "python",
   "nbconvert_exporter": "python",
   "pygments_lexer": "ipython3",
   "version": "3.11.7"
  }
 },
 "nbformat": 4,
 "nbformat_minor": 5
}
