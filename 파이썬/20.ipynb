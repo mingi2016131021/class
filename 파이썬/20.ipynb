{
 "cells": [
  {
   "cell_type": "code",
   "execution_count": 5,
   "id": "3d1d8ca1-6e03-4ccf-bfff-1aa55b7a1292",
   "metadata": {},
   "outputs": [],
   "source": [
    "class Solution(object):\n",
    "    def relativeSortArray(self, arr1, arr2):\n",
    "        l = []\n",
    "        for i in arr2:\n",
    "            while i in arr1:\n",
    "                l.append(i)\n",
    "                arr1.remove(i)\n",
    "        return l + sorted(arr1)"
   ]
  },
  {
   "cell_type": "code",
   "execution_count": null,
   "id": "4f78fa03-12c0-41ce-bf61-4d6a1ac8ceca",
   "metadata": {},
   "outputs": [],
   "source": []
  }
 ],
 "metadata": {
  "kernelspec": {
   "display_name": "Python 3 (ipykernel)",
   "language": "python",
   "name": "python3"
  },
  "language_info": {
   "codemirror_mode": {
    "name": "ipython",
    "version": 3
   },
   "file_extension": ".py",
   "mimetype": "text/x-python",
   "name": "python",
   "nbconvert_exporter": "python",
   "pygments_lexer": "ipython3",
   "version": "3.11.7"
  }
 },
 "nbformat": 4,
 "nbformat_minor": 5
}
