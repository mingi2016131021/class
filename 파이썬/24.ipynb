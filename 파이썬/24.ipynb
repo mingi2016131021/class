{
 "cells": [
  {
   "cell_type": "code",
   "execution_count": 16,
   "id": "2430c4d3-8241-422d-8059-1c27b7edb24a",
   "metadata": {},
   "outputs": [],
   "source": [
    "class Solution:\n",
    "\t\tdef restoreString(self, s: str, indices):\n",
    "\t\t\tl1 = [0]*len(s)\n",
    "\n",
    "\t\t\tfor i  in range(0, len(s)):\n",
    "\t\t\t\tl1[indices[i]] = s[i]\n",
    "\n",
    "\t\t\treturn \"\".join(l1)"
   ]
  },
  {
   "cell_type": "code",
   "execution_count": null,
   "id": "9a85b3e5-38a0-4caf-92c0-12aba8aed09d",
   "metadata": {},
   "outputs": [],
   "source": []
  }
 ],
 "metadata": {
  "kernelspec": {
   "display_name": "Python 3 (ipykernel)",
   "language": "python",
   "name": "python3"
  },
  "language_info": {
   "codemirror_mode": {
    "name": "ipython",
    "version": 3
   },
   "file_extension": ".py",
   "mimetype": "text/x-python",
   "name": "python",
   "nbconvert_exporter": "python",
   "pygments_lexer": "ipython3",
   "version": "3.11.7"
  }
 },
 "nbformat": 4,
 "nbformat_minor": 5
}
