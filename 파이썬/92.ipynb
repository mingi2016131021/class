{
 "cells": [
  {
   "cell_type": "code",
   "execution_count": 3,
   "id": "16464dcb-b919-4753-b1e5-8c606979639d",
   "metadata": {},
   "outputs": [],
   "source": [
    "class Solution(object):\n",
    "    def maximumCount(self, nums):\n",
    "        positive = 0\n",
    "        negative = 0\n",
    "        for i in range(len(nums)):\n",
    "            if nums[i] == 0:\n",
    "                pass\n",
    "            elif nums[i] > 0:\n",
    "                positive+=1\n",
    "            else:\n",
    "                negative+=1\n",
    "            \n",
    "        if positive > negative:\n",
    "            return positive\n",
    "        else:\n",
    "            return negative"
   ]
  },
  {
   "cell_type": "code",
   "execution_count": null,
   "id": "7fda0099-0de4-4932-93a8-fc8637c26c21",
   "metadata": {},
   "outputs": [],
   "source": []
  }
 ],
 "metadata": {
  "kernelspec": {
   "display_name": "Python 3 (ipykernel)",
   "language": "python",
   "name": "python3"
  },
  "language_info": {
   "codemirror_mode": {
    "name": "ipython",
    "version": 3
   },
   "file_extension": ".py",
   "mimetype": "text/x-python",
   "name": "python",
   "nbconvert_exporter": "python",
   "pygments_lexer": "ipython3",
   "version": "3.11.7"
  }
 },
 "nbformat": 4,
 "nbformat_minor": 5
}
