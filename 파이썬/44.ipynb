{
 "cells": [
  {
   "cell_type": "code",
   "execution_count": 7,
   "id": "8a3956b2-0b1c-470c-bd25-24792cef0275",
   "metadata": {},
   "outputs": [],
   "source": [
    "class Solution:\n",
    "    def convertToBase7(self, num):\n",
    "        ans = \"\"\n",
    "\n",
    "        if num == 0:\n",
    "            return \"0\"\n",
    "\n",
    "        minus = 0\n",
    "\n",
    "        if num < 0:\n",
    "            minus = 1\n",
    "            num *= -1\n",
    "\n",
    "        while num > 0:\n",
    "\n",
    "            remainder = num % 7\n",
    "\n",
    "            num -= remainder\n",
    "\n",
    "            num = num//7\n",
    "\n",
    "            ans = str(remainder) + ans\n",
    "        \n",
    "        if minus:\n",
    "            ans = \"-\" + ans\n",
    "\n",
    "        return ans"
   ]
  },
  {
   "cell_type": "code",
   "execution_count": null,
   "id": "06d3d262-02c1-43f4-8c3d-35957851f11b",
   "metadata": {},
   "outputs": [],
   "source": []
  }
 ],
 "metadata": {
  "kernelspec": {
   "display_name": "Python 3 (ipykernel)",
   "language": "python",
   "name": "python3"
  },
  "language_info": {
   "codemirror_mode": {
    "name": "ipython",
    "version": 3
   },
   "file_extension": ".py",
   "mimetype": "text/x-python",
   "name": "python",
   "nbconvert_exporter": "python",
   "pygments_lexer": "ipython3",
   "version": "3.11.7"
  }
 },
 "nbformat": 4,
 "nbformat_minor": 5
}
