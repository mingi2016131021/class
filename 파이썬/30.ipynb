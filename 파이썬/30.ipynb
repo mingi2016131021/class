{
 "cells": [
  {
   "cell_type": "code",
   "execution_count": 3,
   "id": "4bd4345c-4a4f-4b19-aac1-9cdefdee17d4",
   "metadata": {},
   "outputs": [],
   "source": [
    "class Solution(object):\n",
    "    def floodFill(self, image, sr, sc, color):\n",
    "        row_col_startColor = image[sr][sc]\n",
    "        \n",
    "        def fillCordination(x, y):\n",
    "            if x < 0 or x >= len(image): \n",
    "                return\n",
    "            if y < 0 or y >= len(image[0]): \n",
    "                return\n",
    "            \n",
    "            if image[x][y] == color: \n",
    "                return\n",
    "            if image[x][y] != row_col_startColor: \n",
    "                return\n",
    "            \n",
    "            image[x][y] = color\n",
    "            \n",
    "            fillCordination(x-1, y)\n",
    "            fillCordination(x+1, y)\n",
    "            fillCordination(x, y+1)\n",
    "            fillCordination(x, y-1)\n",
    "        \n",
    "        fillCordination(sr, sc)\n",
    "        return image"
   ]
  },
  {
   "cell_type": "code",
   "execution_count": null,
   "id": "a3c2f826-15c2-458c-9e14-7e810dd9d59d",
   "metadata": {},
   "outputs": [],
   "source": []
  }
 ],
 "metadata": {
  "kernelspec": {
   "display_name": "Python 3 (ipykernel)",
   "language": "python",
   "name": "python3"
  },
  "language_info": {
   "codemirror_mode": {
    "name": "ipython",
    "version": 3
   },
   "file_extension": ".py",
   "mimetype": "text/x-python",
   "name": "python",
   "nbconvert_exporter": "python",
   "pygments_lexer": "ipython3",
   "version": "3.11.7"
  }
 },
 "nbformat": 4,
 "nbformat_minor": 5
}
