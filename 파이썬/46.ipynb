{
 "cells": [
  {
   "cell_type": "code",
   "execution_count": 5,
   "id": "650b4e34-472d-48e0-9fd6-1723459ddb4f",
   "metadata": {},
   "outputs": [],
   "source": [
    "class Solution:\n",
    "    def validPalindrome(self, s):\n",
    "        if s==s[::-1]:\n",
    "            return True\n",
    "        l,r=0,len(s)-1\n",
    "        print(l,r)\n",
    "        while l<r:\n",
    "            if s[l]==s[r]:\n",
    "                l+=1\n",
    "                r-=1 \n",
    "            else:\n",
    "                return s[l:r+1]==s[l:r+1][::-1] or s[l+1:r+1]==s[l+1:r+1][::-1] or s[l:r]==s[l:r][::-1]"
   ]
  },
  {
   "cell_type": "code",
   "execution_count": null,
   "id": "a829bc45-7cc7-4ad4-a435-d633614efb22",
   "metadata": {},
   "outputs": [],
   "source": []
  }
 ],
 "metadata": {
  "kernelspec": {
   "display_name": "Python 3 (ipykernel)",
   "language": "python",
   "name": "python3"
  },
  "language_info": {
   "codemirror_mode": {
    "name": "ipython",
    "version": 3
   },
   "file_extension": ".py",
   "mimetype": "text/x-python",
   "name": "python",
   "nbconvert_exporter": "python",
   "pygments_lexer": "ipython3",
   "version": "3.11.7"
  }
 },
 "nbformat": 4,
 "nbformat_minor": 5
}
