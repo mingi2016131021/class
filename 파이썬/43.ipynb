{
 "cells": [
  {
   "cell_type": "code",
   "execution_count": 4,
   "id": "744b7bcb-031a-4659-ac2f-2b9da6766fd5",
   "metadata": {},
   "outputs": [],
   "source": [
    "class Solution:\n",
    "    def findComplement(self, num):\n",
    "        s=bin(num).replace('0b','')\n",
    "        t=''\n",
    "        for i in s:\n",
    "            if i=='0':\n",
    "                t+='1'\n",
    "            else:\n",
    "                t+='0'\n",
    "        return int(t,2)"
   ]
  },
  {
   "cell_type": "code",
   "execution_count": null,
   "id": "c5f20efb-6140-4730-831a-f439d8d32530",
   "metadata": {},
   "outputs": [],
   "source": []
  }
 ],
 "metadata": {
  "kernelspec": {
   "display_name": "Python 3 (ipykernel)",
   "language": "python",
   "name": "python3"
  },
  "language_info": {
   "codemirror_mode": {
    "name": "ipython",
    "version": 3
   },
   "file_extension": ".py",
   "mimetype": "text/x-python",
   "name": "python",
   "nbconvert_exporter": "python",
   "pygments_lexer": "ipython3",
   "version": "3.11.7"
  }
 },
 "nbformat": 4,
 "nbformat_minor": 5
}
