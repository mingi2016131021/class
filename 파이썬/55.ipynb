{
 "cells": [
  {
   "cell_type": "code",
   "execution_count": 5,
   "id": "1f5ea1dc-0c5f-4236-a955-c7b9cdb5229b",
   "metadata": {},
   "outputs": [],
   "source": [
    "class Solution:\n",
    "    def isBalanced(self, root):\n",
    "        if not root:\n",
    "            return True\n",
    "\n",
    "        return abs(self.getHeight(root.left) - self.getHeight(root.right)) < 2 and self.isBalanced(root.left) and self.isBalanced(root.right)\n",
    "\n",
    "    def getHeight(self, root):\n",
    "        if not root:\n",
    "            return 0\n",
    "\n",
    "        return 1 + max(self.getHeight(root.left), self.getHeight(root.right))"
   ]
  },
  {
   "cell_type": "code",
   "execution_count": null,
   "id": "a77dfc5f-8953-4ad1-9390-9f494597d48a",
   "metadata": {},
   "outputs": [],
   "source": []
  }
 ],
 "metadata": {
  "kernelspec": {
   "display_name": "Python 3 (ipykernel)",
   "language": "python",
   "name": "python3"
  },
  "language_info": {
   "codemirror_mode": {
    "name": "ipython",
    "version": 3
   },
   "file_extension": ".py",
   "mimetype": "text/x-python",
   "name": "python",
   "nbconvert_exporter": "python",
   "pygments_lexer": "ipython3",
   "version": "3.11.7"
  }
 },
 "nbformat": 4,
 "nbformat_minor": 5
}
