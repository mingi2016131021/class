{
 "cells": [
  {
   "cell_type": "code",
   "execution_count": 2,
   "id": "a0ac4af7-28d2-4d27-8d27-9582890af5e7",
   "metadata": {},
   "outputs": [],
   "source": [
    "class Solution(object):\n",
    "    def calPoints(self, operations):\n",
    "        a=[]\n",
    "        for each in operations:\n",
    "            if each=='C':\n",
    "                a.pop()\n",
    "            elif each=='D':\n",
    "                a.append(a[-1]*2)\n",
    "            elif each=='+':\n",
    "                a.append(a[-1]+a[-2])\n",
    "            else:\n",
    "                a.append(int(each))\n",
    "        return sum(a)"
   ]
  },
  {
   "cell_type": "code",
   "execution_count": null,
   "id": "4c691a7a-520d-4da6-9e0f-4f7dd4fb4440",
   "metadata": {},
   "outputs": [],
   "source": []
  }
 ],
 "metadata": {
  "kernelspec": {
   "display_name": "Python 3 (ipykernel)",
   "language": "python",
   "name": "python3"
  },
  "language_info": {
   "codemirror_mode": {
    "name": "ipython",
    "version": 3
   },
   "file_extension": ".py",
   "mimetype": "text/x-python",
   "name": "python",
   "nbconvert_exporter": "python",
   "pygments_lexer": "ipython3",
   "version": "3.11.7"
  }
 },
 "nbformat": 4,
 "nbformat_minor": 5
}
