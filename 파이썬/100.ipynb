{
 "cells": [
  {
   "cell_type": "code",
   "execution_count": 25,
   "id": "cf34815a-3140-4f2d-9d0e-35598e58c832",
   "metadata": {},
   "outputs": [],
   "source": [
    "class Solution(object):\n",
    "    def isFascinating(self, n):\n",
    "        power2 = n * 2\n",
    "        power3 = n * 3\n",
    "        s1,s2,s3 = str(n),str(power2),str(power3)\n",
    "        concat = s1+s2+s3\n",
    "        nums = [1,2,3,4,5,6,7,8,9]\n",
    "\n",
    "        t = []\n",
    "        for i in concat:\n",
    "            t.append(int(i))\n",
    "        \n",
    "        #flag = False\n",
    "        if 0 in t:\n",
    "            return False\n",
    "        else:\n",
    "            for i in range(len(t)):\n",
    "                if t. count(i) > 1 or nums[i] not in t:\n",
    "                    return False\n",
    "        \n",
    "        return True\n"
   ]
  }
 ],
 "metadata": {
  "kernelspec": {
   "display_name": "Python 3 (ipykernel)",
   "language": "python",
   "name": "python3"
  },
  "language_info": {
   "codemirror_mode": {
    "name": "ipython",
    "version": 3
   },
   "file_extension": ".py",
   "mimetype": "text/x-python",
   "name": "python",
   "nbconvert_exporter": "python",
   "pygments_lexer": "ipython3",
   "version": "3.11.7"
  }
 },
 "nbformat": 4,
 "nbformat_minor": 5
}
