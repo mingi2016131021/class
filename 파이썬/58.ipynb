{
 "cells": [
  {
   "cell_type": "code",
   "execution_count": 3,
   "id": "6943fc88-d7e9-4d28-bfe0-058363e2acb0",
   "metadata": {},
   "outputs": [],
   "source": [
    "class Solution(object):\n",
    "    def binaryTreePaths(self, root):\n",
    "        res = []\n",
    "        path = str(root.val)\n",
    "        def helper(node, res, path):\n",
    "            if node.left:\n",
    "                path_left = path + \"->\" + str(node.left.val)\n",
    "                helper(node.left, res, path_left)\n",
    "            if node.right:\n",
    "                path_right = path + \"->\" + str(node.right.val)\n",
    "                helper(node.right, res, path_right)\n",
    "            if not node.right and not node.left:\n",
    "                res.append(path)\n",
    "        helper(root, res, path)\n",
    "        return res"
   ]
  },
  {
   "cell_type": "code",
   "execution_count": null,
   "id": "ac5c65b2-dc5c-4880-b8f6-9583b47fd8ed",
   "metadata": {},
   "outputs": [],
   "source": []
  }
 ],
 "metadata": {
  "kernelspec": {
   "display_name": "Python 3 (ipykernel)",
   "language": "python",
   "name": "python3"
  },
  "language_info": {
   "codemirror_mode": {
    "name": "ipython",
    "version": 3
   },
   "file_extension": ".py",
   "mimetype": "text/x-python",
   "name": "python",
   "nbconvert_exporter": "python",
   "pygments_lexer": "ipython3",
   "version": "3.11.7"
  }
 },
 "nbformat": 4,
 "nbformat_minor": 5
}
