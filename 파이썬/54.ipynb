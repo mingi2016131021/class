{
 "cells": [
  {
   "cell_type": "code",
   "execution_count": 5,
   "id": "4dc6faab-6483-4863-b75a-79dad3b377d8",
   "metadata": {},
   "outputs": [],
   "source": [
    "class Solution:\n",
    "    def intersection(self, nums1, nums2):\n",
    "        s1=set(nums1)\n",
    "        s2=set(nums2)\n",
    "        a=[]\n",
    "        for i in s1:\n",
    "            if i in s2:\n",
    "                a.append(i)\n",
    "        return a"
   ]
  },
  {
   "cell_type": "code",
   "execution_count": null,
   "id": "f50f7183-3259-49ce-8965-9f2cd3938736",
   "metadata": {},
   "outputs": [],
   "source": []
  }
 ],
 "metadata": {
  "kernelspec": {
   "display_name": "Python 3 (ipykernel)",
   "language": "python",
   "name": "python3"
  },
  "language_info": {
   "codemirror_mode": {
    "name": "ipython",
    "version": 3
   },
   "file_extension": ".py",
   "mimetype": "text/x-python",
   "name": "python",
   "nbconvert_exporter": "python",
   "pygments_lexer": "ipython3",
   "version": "3.11.7"
  }
 },
 "nbformat": 4,
 "nbformat_minor": 5
}
