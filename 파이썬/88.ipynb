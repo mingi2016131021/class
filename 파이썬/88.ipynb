{
 "cells": [
  {
   "cell_type": "code",
   "execution_count": 3,
   "id": "66d987a1-0f16-4f0e-bcda-389197d7835e",
   "metadata": {},
   "outputs": [],
   "source": [
    "class Solution:\n",
    "    def checkAlmostEquivalent(self, word1, word2):\n",
    "        for alph in (set(word1)|set(word2)):\n",
    "            if max(word1.count(alph),word2.count(alph))-min((word1.count(alph),word2.count(alph)))>3:\n",
    "                return False\n",
    "        return True"
   ]
  },
  {
   "cell_type": "code",
   "execution_count": null,
   "id": "e0c97efd-71ae-48bb-846b-4466d5c9905d",
   "metadata": {},
   "outputs": [],
   "source": []
  }
 ],
 "metadata": {
  "kernelspec": {
   "display_name": "Python 3 (ipykernel)",
   "language": "python",
   "name": "python3"
  },
  "language_info": {
   "codemirror_mode": {
    "name": "ipython",
    "version": 3
   },
   "file_extension": ".py",
   "mimetype": "text/x-python",
   "name": "python",
   "nbconvert_exporter": "python",
   "pygments_lexer": "ipython3",
   "version": "3.11.7"
  }
 },
 "nbformat": 4,
 "nbformat_minor": 5
}
