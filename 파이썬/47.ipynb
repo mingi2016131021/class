{
 "cells": [
  {
   "cell_type": "code",
   "execution_count": 3,
   "id": "cd02ae34-b56c-477d-8b0f-6a2fb4f1e5e6",
   "metadata": {},
   "outputs": [],
   "source": [
    "class Solution(object):\n",
    "    def shortestCompletingWord(self, licensePlate, words):\n",
    "        C=[ch.lower() for ch in licensePlate if ch.isalpha()]\n",
    "        Ans=''\n",
    "        for word in words:\n",
    "            for ch in C:\n",
    "                if C.count(ch)<=word.count(ch):\n",
    "                    continue\n",
    "                else:\n",
    "                    break\n",
    "            else:\n",
    "                if len(word)<len(Ans) or Ans=='':\n",
    "                    Ans=word\n",
    "        return Ans"
   ]
  },
  {
   "cell_type": "code",
   "execution_count": null,
   "id": "2664d38b-f37e-4d53-b161-fc1e9cdfed1c",
   "metadata": {},
   "outputs": [],
   "source": []
  }
 ],
 "metadata": {
  "kernelspec": {
   "display_name": "Python 3 (ipykernel)",
   "language": "python",
   "name": "python3"
  },
  "language_info": {
   "codemirror_mode": {
    "name": "ipython",
    "version": 3
   },
   "file_extension": ".py",
   "mimetype": "text/x-python",
   "name": "python",
   "nbconvert_exporter": "python",
   "pygments_lexer": "ipython3",
   "version": "3.11.7"
  }
 },
 "nbformat": 4,
 "nbformat_minor": 5
}
