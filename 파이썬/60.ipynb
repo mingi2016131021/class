{
 "cells": [
  {
   "cell_type": "code",
   "execution_count": 4,
   "id": "1dabc936-08f1-4b47-8adc-0b15fcd6286c",
   "metadata": {},
   "outputs": [],
   "source": [
    "class Solution:\n",
    "    def fizzBuzz(self, n):\n",
    "        l=[]\n",
    "        for i in range(1,n+1):\n",
    "            if i%3==0 and i%5==0:\n",
    "                l.append(\"FizzBuzz\")\n",
    "            elif i%3==0:\n",
    "                l.append(\"Fizz\")\n",
    "            elif i%5==0:\n",
    "                l.append(\"Buzz\")\n",
    "            else:\n",
    "                l.append(str(i))\n",
    "        return l"
   ]
  },
  {
   "cell_type": "code",
   "execution_count": null,
   "id": "b0b959e0-9238-42c1-8c78-290aed025d97",
   "metadata": {},
   "outputs": [],
   "source": []
  }
 ],
 "metadata": {
  "kernelspec": {
   "display_name": "Python 3 (ipykernel)",
   "language": "python",
   "name": "python3"
  },
  "language_info": {
   "codemirror_mode": {
    "name": "ipython",
    "version": 3
   },
   "file_extension": ".py",
   "mimetype": "text/x-python",
   "name": "python",
   "nbconvert_exporter": "python",
   "pygments_lexer": "ipython3",
   "version": "3.11.7"
  }
 },
 "nbformat": 4,
 "nbformat_minor": 5
}
