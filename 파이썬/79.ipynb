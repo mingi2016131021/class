{
 "cells": [
  {
   "cell_type": "code",
   "execution_count": 22,
   "id": "32092e44-4800-40db-84c8-8ef37f614269",
   "metadata": {},
   "outputs": [
    {
     "ename": "TabError",
     "evalue": "inconsistent use of tabs and spaces in indentation (1941517224.py, line 7)",
     "output_type": "error",
     "traceback": [
      "\u001b[1;36m  Cell \u001b[1;32mIn[22], line 7\u001b[1;36m\u001b[0m\n\u001b[1;33m    return False\u001b[0m\n\u001b[1;37m    ^\u001b[0m\n\u001b[1;31mTabError\u001b[0m\u001b[1;31m:\u001b[0m inconsistent use of tabs and spaces in indentation\n"
     ]
    }
   ],
   "source": [
    "class Solution(object):\n",
    "    def canConstruct(self, ransomNote, magazine):\n",
    "    \trn = Counter(ransomNote)\n",
    "    \tmg = Counter(magazine)\n",
    "    \tfor key in rn:\n",
    "    \t\tif key not in mg:\n",
    "\t\t\treturn False\n",
    "    \t\telse:\n",
    "    \t\t\tif rn[key] > mg[key]:\n",
    "        return False\n",
    "    \treturn True"
   ]
  },
  {
   "cell_type": "code",
   "execution_count": null,
   "id": "bedb2f5d-e283-4639-b491-3c5d78699841",
   "metadata": {},
   "outputs": [],
   "source": []
  }
 ],
 "metadata": {
  "kernelspec": {
   "display_name": "Python 3 (ipykernel)",
   "language": "python",
   "name": "python3"
  },
  "language_info": {
   "codemirror_mode": {
    "name": "ipython",
    "version": 3
   },
   "file_extension": ".py",
   "mimetype": "text/x-python",
   "name": "python",
   "nbconvert_exporter": "python",
   "pygments_lexer": "ipython3",
   "version": "3.11.7"
  }
 },
 "nbformat": 4,
 "nbformat_minor": 5
}
