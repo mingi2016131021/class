{
 "cells": [
  {
   "cell_type": "code",
   "execution_count": 3,
   "id": "09e60f33-3060-4330-859b-c9bd19fdd4c6",
   "metadata": {},
   "outputs": [],
   "source": [
    "class Solution(object):\n",
    "    def countCharacters(self, words, chars):\n",
    "        count = 0\n",
    "        res = 0\n",
    "        for word in words:\n",
    "            j = word\n",
    "            for i in word:\n",
    "                if word.count(i) <= chars.count(i):\n",
    "                    count+=1\n",
    "            if count==len(j):\n",
    "                res+=len(j)\n",
    "            count = 0\n",
    "        \n",
    "        return res"
   ]
  },
  {
   "cell_type": "code",
   "execution_count": null,
   "id": "c85fbe6a-c5ef-495f-8528-f3dc978be4f3",
   "metadata": {},
   "outputs": [],
   "source": []
  }
 ],
 "metadata": {
  "kernelspec": {
   "display_name": "Python 3 (ipykernel)",
   "language": "python",
   "name": "python3"
  },
  "language_info": {
   "codemirror_mode": {
    "name": "ipython",
    "version": 3
   },
   "file_extension": ".py",
   "mimetype": "text/x-python",
   "name": "python",
   "nbconvert_exporter": "python",
   "pygments_lexer": "ipython3",
   "version": "3.11.7"
  }
 },
 "nbformat": 4,
 "nbformat_minor": 5
}
