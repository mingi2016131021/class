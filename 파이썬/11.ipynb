{
 "cells": [
  {
   "cell_type": "code",
   "execution_count": 2,
   "id": "816940d5-11d9-483c-aebf-a7d775464c64",
   "metadata": {},
   "outputs": [],
   "source": [
    "class Solution(object):\n",
    "    def guessNumber(self, n):\n",
    "        start,end,mid = 1,n,0\n",
    "\n",
    "        while start <= end:\n",
    "            mid = start+(end - start)/2\n",
    "            g = guess(mid)\n",
    "\n",
    "            if g == 0:\n",
    "                return mid\n",
    "            elif g == -1:\n",
    "                end = mid - 1\n",
    "            else:\n",
    "                start = mid + 1\n"
   ]
  },
  {
   "cell_type": "code",
   "execution_count": null,
   "id": "1525a98b-3bb9-4867-8070-c436467537a9",
   "metadata": {},
   "outputs": [],
   "source": []
  }
 ],
 "metadata": {
  "kernelspec": {
   "display_name": "Python 3 (ipykernel)",
   "language": "python",
   "name": "python3"
  },
  "language_info": {
   "codemirror_mode": {
    "name": "ipython",
    "version": 3
   },
   "file_extension": ".py",
   "mimetype": "text/x-python",
   "name": "python",
   "nbconvert_exporter": "python",
   "pygments_lexer": "ipython3",
   "version": "3.11.7"
  }
 },
 "nbformat": 4,
 "nbformat_minor": 5
}
