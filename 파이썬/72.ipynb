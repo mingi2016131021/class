{
 "cells": [
  {
   "cell_type": "code",
   "execution_count": 3,
   "id": "ca6b6c16-20b4-40ac-8cb8-d61b5938afb1",
   "metadata": {},
   "outputs": [],
   "source": [
    "class Solution:\n",
    "    def canPlaceFlowers(self, flowerbed, n):\n",
    "        helper=[0]+flowerbed+[0]\n",
    "        count=0\n",
    "        for i in range(1,len(helper)-1):\n",
    "            if helper[i]==1 or helper[i-1]==1 or helper[i+1]==1:\n",
    "                continue\n",
    "            else:\n",
    "                count+=1\n",
    "                helper[i]=1\n",
    "        return count>=n"
   ]
  },
  {
   "cell_type": "code",
   "execution_count": null,
   "id": "bbb3ea50-c0b5-4848-abc2-0c9e7b95a5dc",
   "metadata": {},
   "outputs": [],
   "source": []
  }
 ],
 "metadata": {
  "kernelspec": {
   "display_name": "Python 3 (ipykernel)",
   "language": "python",
   "name": "python3"
  },
  "language_info": {
   "codemirror_mode": {
    "name": "ipython",
    "version": 3
   },
   "file_extension": ".py",
   "mimetype": "text/x-python",
   "name": "python",
   "nbconvert_exporter": "python",
   "pygments_lexer": "ipython3",
   "version": "3.11.7"
  }
 },
 "nbformat": 4,
 "nbformat_minor": 5
}
