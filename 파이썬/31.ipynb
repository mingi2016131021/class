{
 "cells": [
  {
   "cell_type": "code",
   "execution_count": 3,
   "id": "f923260d-d06d-4f9a-b61b-7b1df0024a1d",
   "metadata": {},
   "outputs": [],
   "source": [
    "class Solution:\n",
    "    def isMonotonic(self, nums):\n",
    "        n=len(nums)\n",
    "        inc=True\n",
    "        dec=True\n",
    "        for i in range(1,n):\n",
    "            if nums[i]>nums[i-1]:\n",
    "                dec=False\n",
    "            if nums[i]<nums[i-1]:\n",
    "                inc=False\n",
    "        return inc or dec            "
   ]
  },
  {
   "cell_type": "code",
   "execution_count": null,
   "id": "7b54da86-82c9-4a85-8fa6-e9a9f2c77ebb",
   "metadata": {},
   "outputs": [],
   "source": []
  }
 ],
 "metadata": {
  "kernelspec": {
   "display_name": "Python 3 (ipykernel)",
   "language": "python",
   "name": "python3"
  },
  "language_info": {
   "codemirror_mode": {
    "name": "ipython",
    "version": 3
   },
   "file_extension": ".py",
   "mimetype": "text/x-python",
   "name": "python",
   "nbconvert_exporter": "python",
   "pygments_lexer": "ipython3",
   "version": "3.11.7"
  }
 },
 "nbformat": 4,
 "nbformat_minor": 5
}
