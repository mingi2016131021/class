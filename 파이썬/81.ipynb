{
 "cells": [
  {
   "cell_type": "code",
   "execution_count": 3,
   "id": "c324d6a2-1227-4d45-914f-e28545384108",
   "metadata": {},
   "outputs": [],
   "source": [
    "class Solution(object):\n",
    "    def preorder(self, root):\n",
    "        \n",
    "        def dfs(root, output):\n",
    "            if not root:\n",
    "                return None\n",
    "            output.append(root.val)\n",
    "            for child in root.children:\n",
    "                dfs(child, output)\n",
    "            return output\n",
    "        \n",
    "        return dfs(root, [])"
   ]
  },
  {
   "cell_type": "code",
   "execution_count": null,
   "id": "bbb26161-ef86-4284-bf99-6606cd8f7339",
   "metadata": {},
   "outputs": [],
   "source": []
  }
 ],
 "metadata": {
  "kernelspec": {
   "display_name": "Python 3 (ipykernel)",
   "language": "python",
   "name": "python3"
  },
  "language_info": {
   "codemirror_mode": {
    "name": "ipython",
    "version": 3
   },
   "file_extension": ".py",
   "mimetype": "text/x-python",
   "name": "python",
   "nbconvert_exporter": "python",
   "pygments_lexer": "ipython3",
   "version": "3.11.7"
  }
 },
 "nbformat": 4,
 "nbformat_minor": 5
}
