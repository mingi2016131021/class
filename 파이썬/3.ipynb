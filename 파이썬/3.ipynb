{
 "cells": [
  {
   "cell_type": "code",
   "execution_count": 3,
   "id": "e39c3abf-a77d-4722-ab48-5b516a6f1000",
   "metadata": {},
   "outputs": [],
   "source": [
    "class Solution(object):\n",
    "    def plusOne(self, digits):\n",
    "        i, carry, ret = len(digits)-1, 1, []\n",
    "        while carry or i >= 0:\n",
    "            if i >= 0:\n",
    "                carry += digits[i]\n",
    "                i -= 1\n",
    "            ret.append(carry%10)\n",
    "            carry //= 10\n",
    "        return ret[::-1]\n"
   ]
  },
  {
   "cell_type": "code",
   "execution_count": null,
   "id": "e478f434-c081-4fa3-944a-cd1de9e6dd61",
   "metadata": {},
   "outputs": [],
   "source": []
  }
 ],
 "metadata": {
  "kernelspec": {
   "display_name": "Python 3 (ipykernel)",
   "language": "python",
   "name": "python3"
  },
  "language_info": {
   "codemirror_mode": {
    "name": "ipython",
    "version": 3
   },
   "file_extension": ".py",
   "mimetype": "text/x-python",
   "name": "python",
   "nbconvert_exporter": "python",
   "pygments_lexer": "ipython3",
   "version": "3.11.7"
  }
 },
 "nbformat": 4,
 "nbformat_minor": 5
}
