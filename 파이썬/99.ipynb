{
 "cells": [
  {
   "cell_type": "code",
   "execution_count": 3,
   "id": "7b18d133-851c-4f27-8b35-b6d505bea0ed",
   "metadata": {},
   "outputs": [],
   "source": [
    "class Solution(object):\n",
    "    def isGood(self, nums):\n",
    "        n=max(nums)\n",
    "        base=list(range(1,n+1))\n",
    "        base.append(n)\n",
    "        nums.sort()\n",
    "        if len(base)!=len(nums):\n",
    "            return False\n",
    "        elif base==nums:\n",
    "            return True\n",
    "        else:\n",
    "            return False"
   ]
  },
  {
   "cell_type": "code",
   "execution_count": null,
   "id": "bd1944e3-3737-4e1d-afef-1d6fd034cc30",
   "metadata": {},
   "outputs": [],
   "source": []
  }
 ],
 "metadata": {
  "kernelspec": {
   "display_name": "Python 3 (ipykernel)",
   "language": "python",
   "name": "python3"
  },
  "language_info": {
   "codemirror_mode": {
    "name": "ipython",
    "version": 3
   },
   "file_extension": ".py",
   "mimetype": "text/x-python",
   "name": "python",
   "nbconvert_exporter": "python",
   "pygments_lexer": "ipython3",
   "version": "3.11.7"
  }
 },
 "nbformat": 4,
 "nbformat_minor": 5
}
