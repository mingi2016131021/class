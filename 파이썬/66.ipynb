{
 "cells": [
  {
   "cell_type": "code",
   "execution_count": 2,
   "id": "84fc5154-d83a-40c4-9342-b46c18b56bfc",
   "metadata": {},
   "outputs": [],
   "source": [
    "class Solution(object):\n",
    "    def gcdOfStrings(self, str1, str2):\n",
    "        temp_str = ''\n",
    "        if len(str2)> len(str1):\n",
    "            str1,str2= str2,str1\n",
    "        for i in range(len(str2),0,-1):\n",
    "            temp_str = str2[:i]\n",
    "\n",
    "            if temp_str * (len(str1)//len(temp_str)) == str1 and temp_str * (len(str2)//len(temp_str)) == str2:\n",
    "                return temp_str\n",
    "        return ''"
   ]
  },
  {
   "cell_type": "code",
   "execution_count": null,
   "id": "6ec9f366-881c-4562-be15-9b3246b9a983",
   "metadata": {},
   "outputs": [],
   "source": []
  }
 ],
 "metadata": {
  "kernelspec": {
   "display_name": "Python 3 (ipykernel)",
   "language": "python",
   "name": "python3"
  },
  "language_info": {
   "codemirror_mode": {
    "name": "ipython",
    "version": 3
   },
   "file_extension": ".py",
   "mimetype": "text/x-python",
   "name": "python",
   "nbconvert_exporter": "python",
   "pygments_lexer": "ipython3",
   "version": "3.11.7"
  }
 },
 "nbformat": 4,
 "nbformat_minor": 5
}
