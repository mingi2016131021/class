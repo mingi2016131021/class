{
 "cells": [
  {
   "cell_type": "code",
   "execution_count": 3,
   "id": "86ec4e84-62c5-4c2a-9b25-9d64b721de28",
   "metadata": {},
   "outputs": [],
   "source": [
    "class Solution(object):\n",
    "    def numSpecial(self, mat):\n",
    "        indRow = []\n",
    "        indCol = []\n",
    "        ans = 0\n",
    "        for el in mat:\n",
    "            if sum(el) == 1:\n",
    "                indRow.append(mat.index(el))\n",
    "        for i in range(len(mat[0])):\n",
    "            sum1 = 0\n",
    "            for j in range(len(mat)):\n",
    "                if mat[j][i] == 1:\n",
    "                    sum1 += 1\n",
    "            if sum1 == 1:\n",
    "                indCol.append(i)\n",
    "        for el1 in indRow:\n",
    "            for el2 in indCol:\n",
    "                if mat[el1][el2] == 1:\n",
    "                    ans += 1\n",
    "        return ans"
   ]
  },
  {
   "cell_type": "code",
   "execution_count": null,
   "id": "60c0df8f-f58c-4d54-aea9-40f44d2eb915",
   "metadata": {},
   "outputs": [],
   "source": []
  }
 ],
 "metadata": {
  "kernelspec": {
   "display_name": "Python 3 (ipykernel)",
   "language": "python",
   "name": "python3"
  },
  "language_info": {
   "codemirror_mode": {
    "name": "ipython",
    "version": 3
   },
   "file_extension": ".py",
   "mimetype": "text/x-python",
   "name": "python",
   "nbconvert_exporter": "python",
   "pygments_lexer": "ipython3",
   "version": "3.11.7"
  }
 },
 "nbformat": 4,
 "nbformat_minor": 5
}
