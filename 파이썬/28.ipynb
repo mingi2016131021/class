{
 "cells": [
  {
   "cell_type": "code",
   "execution_count": 3,
   "id": "7c69d645-3d56-4650-811b-0822db2e38a2",
   "metadata": {},
   "outputs": [],
   "source": [
    "class Solution(object):\n",
    "    def leafSimilar(self, root1, root2):\n",
    "        def get_leaf_values(root, leaf_values):\n",
    "            if root is None:\n",
    "                return\n",
    "            if root.left is None and root.right is None:\n",
    "                leaf_values.append(root.val)\n",
    "            get_leaf_values(root.left, leaf_values)\n",
    "            get_leaf_values(root.right, leaf_values)\n",
    "        \n",
    "        leaf_values1, leaf_values2 = [], []\n",
    "        get_leaf_values(root1, leaf_values1)\n",
    "        get_leaf_values(root2, leaf_values2)\n",
    "        \n",
    "        return leaf_values1 == leaf_values2"
   ]
  },
  {
   "cell_type": "code",
   "execution_count": null,
   "id": "7e31dfc4-4221-4ef5-9706-cae3146448f7",
   "metadata": {},
   "outputs": [],
   "source": []
  }
 ],
 "metadata": {
  "kernelspec": {
   "display_name": "Python 3 (ipykernel)",
   "language": "python",
   "name": "python3"
  },
  "language_info": {
   "codemirror_mode": {
    "name": "ipython",
    "version": 3
   },
   "file_extension": ".py",
   "mimetype": "text/x-python",
   "name": "python",
   "nbconvert_exporter": "python",
   "pygments_lexer": "ipython3",
   "version": "3.11.7"
  }
 },
 "nbformat": 4,
 "nbformat_minor": 5
}
