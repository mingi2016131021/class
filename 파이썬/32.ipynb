{
 "cells": [
  {
   "cell_type": "code",
   "execution_count": 7,
   "id": "3bb4e2d1-2c84-43c6-8253-a1169ade73be",
   "metadata": {},
   "outputs": [],
   "source": [
    "class Solution:\n",
    "    def largestPerimeter(self, nums):\n",
    "        if len(nums) < 3:\n",
    "            return 0\n",
    "        \n",
    "        nums.sort(reverse = True)\n",
    "        for i in range(3,len(nums)+1):\n",
    "            if(nums[i-3] < nums[i-2] + nums[i-1]):\n",
    "                return sum(nums[i-3:i])\n",
    "        \n",
    "        return 0"
   ]
  },
  {
   "cell_type": "code",
   "execution_count": null,
   "id": "af5366a5-8e6a-4f2f-a063-bf7d5017d311",
   "metadata": {},
   "outputs": [],
   "source": []
  }
 ],
 "metadata": {
  "kernelspec": {
   "display_name": "Python 3 (ipykernel)",
   "language": "python",
   "name": "python3"
  },
  "language_info": {
   "codemirror_mode": {
    "name": "ipython",
    "version": 3
   },
   "file_extension": ".py",
   "mimetype": "text/x-python",
   "name": "python",
   "nbconvert_exporter": "python",
   "pygments_lexer": "ipython3",
   "version": "3.11.7"
  }
 },
 "nbformat": 4,
 "nbformat_minor": 5
}
