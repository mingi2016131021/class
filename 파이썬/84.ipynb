{
 "cells": [
  {
   "cell_type": "code",
   "execution_count": 3,
   "id": "8db4d257-861c-4c7a-87dc-cbf723d41ce8",
   "metadata": {},
   "outputs": [],
   "source": [
    "class Solution:\n",
    "\tdef search(self, nums, target):\n",
    "\t\tlow=0\n",
    "\t\thigh=len(nums)-1\n",
    "\n",
    "\t\twhile low<=high:\n",
    "\t\t\tmid=(low+high)//2\n",
    "\n",
    "\t\t\tif nums[mid]==target:\n",
    "\t\t\t\treturn mid\n",
    "\t\t\telif nums[mid]>target:\n",
    "\t\t\t\thigh=mid-1\n",
    "\t\t\telse:\n",
    "\t\t\t\tlow=mid+1\n",
    "\n",
    "\t\treturn -1"
   ]
  },
  {
   "cell_type": "code",
   "execution_count": null,
   "id": "0381c900-9cf1-4f5f-8794-852f3f925eb3",
   "metadata": {},
   "outputs": [],
   "source": []
  }
 ],
 "metadata": {
  "kernelspec": {
   "display_name": "Python 3 (ipykernel)",
   "language": "python",
   "name": "python3"
  },
  "language_info": {
   "codemirror_mode": {
    "name": "ipython",
    "version": 3
   },
   "file_extension": ".py",
   "mimetype": "text/x-python",
   "name": "python",
   "nbconvert_exporter": "python",
   "pygments_lexer": "ipython3",
   "version": "3.11.7"
  }
 },
 "nbformat": 4,
 "nbformat_minor": 5
}
