{
 "cells": [
  {
   "cell_type": "code",
   "execution_count": 1,
   "id": "2bed2e72-5b94-465e-aeec-30b98a92abc6",
   "metadata": {},
   "outputs": [],
   "source": [
    "class Solution(object):\n",
    "    def getRow(self, row):\n",
    "        result = []\n",
    "        start = 1\n",
    "        result.append(start)\n",
    "        for i in range(row):\n",
    "            start *= (row - i)\n",
    "            start //= (i + 1)\n",
    "            result.append(start)\n",
    "        return result"
   ]
  },
  {
   "cell_type": "code",
   "execution_count": null,
   "id": "e8bcddd8-3bd6-4d5f-b9b5-e412ab2b4944",
   "metadata": {},
   "outputs": [],
   "source": []
  }
 ],
 "metadata": {
  "kernelspec": {
   "display_name": "Python 3 (ipykernel)",
   "language": "python",
   "name": "python3"
  },
  "language_info": {
   "codemirror_mode": {
    "name": "ipython",
    "version": 3
   },
   "file_extension": ".py",
   "mimetype": "text/x-python",
   "name": "python",
   "nbconvert_exporter": "python",
   "pygments_lexer": "ipython3",
   "version": "3.11.7"
  }
 },
 "nbformat": 4,
 "nbformat_minor": 5
}
