{
 "cells": [
  {
   "cell_type": "code",
   "execution_count": 2,
   "id": "c9bed2ef-efdf-45e2-ba89-3f6fd2de1fa8",
   "metadata": {},
   "outputs": [],
   "source": [
    "class Solution:\n",
    "    def getTargetCopy(self, original, cloned, target):\n",
    "        if not original or not cloned:\n",
    "            return None\n",
    "        \n",
    "        if cloned.val == target.val:\n",
    "            return cloned\n",
    "        \n",
    "        return self.getTargetCopy(original.left, cloned.left, target) or self.getTargetCopy(original.right, cloned.right, target)"
   ]
  },
  {
   "cell_type": "code",
   "execution_count": null,
   "id": "143baf85-7df7-4c6f-8a00-f92fc9284c97",
   "metadata": {},
   "outputs": [],
   "source": []
  }
 ],
 "metadata": {
  "kernelspec": {
   "display_name": "Python 3 (ipykernel)",
   "language": "python",
   "name": "python3"
  },
  "language_info": {
   "codemirror_mode": {
    "name": "ipython",
    "version": 3
   },
   "file_extension": ".py",
   "mimetype": "text/x-python",
   "name": "python",
   "nbconvert_exporter": "python",
   "pygments_lexer": "ipython3",
   "version": "3.11.7"
  }
 },
 "nbformat": 4,
 "nbformat_minor": 5
}
