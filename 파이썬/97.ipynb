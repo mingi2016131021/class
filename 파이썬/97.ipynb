{
 "cells": [
  {
   "cell_type": "code",
   "execution_count": 9,
   "id": "0b65f6bd-5ff7-442d-92d4-a368d87ed850",
   "metadata": {},
   "outputs": [
    {
     "ename": "IndentationError",
     "evalue": "unindent does not match any outer indentation level (<tokenize>, line 15)",
     "output_type": "error",
     "traceback": [
      "\u001b[1;36m  File \u001b[1;32m<tokenize>:15\u001b[1;36m\u001b[0m\n\u001b[1;33m    count+=1\u001b[0m\n\u001b[1;37m    ^\u001b[0m\n\u001b[1;31mIndentationError\u001b[0m\u001b[1;31m:\u001b[0m unindent does not match any outer indentation level\n"
     ]
    }
   ],
   "source": [
    "class Solution(object):\n",
    "    def countSymmetricIntegers(self, low, high):\n",
    "\t\t\tleft = 0\n",
    "\t\t\tright = 0\n",
    "\t\t\tcount = 0\n",
    "\t\t\tfor i in range(low,high+1):\n",
    "    \t\t\ttemp = str(i)\n",
    "\t\t\t\tif len(temp)%2!=0:\n",
    "\t\t\t\t\tmid = len(temp)/2\n",
    "    \t\t\tfor j in range(0,mid):\n",
    "\t\t\t\t\t\tleft+=int(temp[j])\n",
    "    \t\t\tfor j in range(mid,len(temp)):\n",
    "\t\t\t\t\t\tright+=int(temp[j])\n",
    "\t\t\tif left==right:\n",
    "                count+=1\n",
    "\t\t\t\tleft = 0\n",
    "\t\t\t\tright = 0\n",
    "\t\t\t\treturn count"
   ]
  },
  {
   "cell_type": "code",
   "execution_count": null,
   "id": "8c2499a0-5dc1-44ca-a3f6-08f4171f42a9",
   "metadata": {},
   "outputs": [],
   "source": []
  }
 ],
 "metadata": {
  "kernelspec": {
   "display_name": "Python 3 (ipykernel)",
   "language": "python",
   "name": "python3"
  },
  "language_info": {
   "codemirror_mode": {
    "name": "ipython",
    "version": 3
   },
   "file_extension": ".py",
   "mimetype": "text/x-python",
   "name": "python",
   "nbconvert_exporter": "python",
   "pygments_lexer": "ipython3",
   "version": "3.11.7"
  }
 },
 "nbformat": 4,
 "nbformat_minor": 5
}
