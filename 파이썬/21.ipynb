{
 "cells": [
  {
   "cell_type": "code",
   "execution_count": 2,
   "id": "7e1810a1-b25b-4c14-9f4d-9a13dff4bf0f",
   "metadata": {},
   "outputs": [],
   "source": [
    "class Solution(object):\n",
    "    def minimumAbsDifference(self, arr):\n",
    "        res = []\n",
    "        arr.sort()\n",
    "        minAbs = arr[1] - arr[0]\n",
    "        for i in range(1, len(arr) - 1):\n",
    "            if arr[i + 1] - arr[i] < minAbs:\n",
    "                minAbs = arr[i + 1] - arr[i]\n",
    "        for j in range(len(arr) - 1):\n",
    "            if arr[j + 1] - arr[j] == minAbs:\n",
    "                res.append([arr[j], arr[j + 1]])\n",
    "        return res"
   ]
  },
  {
   "cell_type": "code",
   "execution_count": null,
   "id": "b82d9811-6899-432e-9adb-d20dcd17e4ea",
   "metadata": {},
   "outputs": [],
   "source": []
  }
 ],
 "metadata": {
  "kernelspec": {
   "display_name": "Python 3 (ipykernel)",
   "language": "python",
   "name": "python3"
  },
  "language_info": {
   "codemirror_mode": {
    "name": "ipython",
    "version": 3
   },
   "file_extension": ".py",
   "mimetype": "text/x-python",
   "name": "python",
   "nbconvert_exporter": "python",
   "pygments_lexer": "ipython3",
   "version": "3.11.7"
  }
 },
 "nbformat": 4,
 "nbformat_minor": 5
}
