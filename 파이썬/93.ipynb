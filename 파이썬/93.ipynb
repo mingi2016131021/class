{
 "cells": [
  {
   "cell_type": "code",
   "execution_count": 3,
   "id": "ef8e61f8-77e1-40e5-9a70-0d4eb7ee09ce",
   "metadata": {},
   "outputs": [],
   "source": [
    "class Solution(object):\n",
    "    def findIndices(self, nums, indexDifference, valueDifference):\n",
    "        l=[]\n",
    "        l1=[]\n",
    "        for x in range(0,len(nums)):\n",
    "            for y in range(0,len(nums)):\n",
    "                if (abs(x-y)>=indexDifference) and (abs(nums[x]-nums[y])>=valueDifference):\n",
    "                    l.append(x)\n",
    "                    l.append(y)\n",
    "                    l1.append(l)\n",
    "                    l=[]\n",
    "        if len(l1)>0:\n",
    "            return l1[0]\n",
    "        else:\n",
    "            return [-1,-1]"
   ]
  },
  {
   "cell_type": "code",
   "execution_count": null,
   "id": "610ff577-0461-40bf-8b39-ed64f7495d9e",
   "metadata": {},
   "outputs": [],
   "source": []
  }
 ],
 "metadata": {
  "kernelspec": {
   "display_name": "Python 3 (ipykernel)",
   "language": "python",
   "name": "python3"
  },
  "language_info": {
   "codemirror_mode": {
    "name": "ipython",
    "version": 3
   },
   "file_extension": ".py",
   "mimetype": "text/x-python",
   "name": "python",
   "nbconvert_exporter": "python",
   "pygments_lexer": "ipython3",
   "version": "3.11.7"
  }
 },
 "nbformat": 4,
 "nbformat_minor": 5
}
