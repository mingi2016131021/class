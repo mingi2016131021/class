{
 "cells": [
  {
   "cell_type": "code",
   "execution_count": 14,
   "id": "a9cdc0f7-fb12-4e5a-847b-2c95debbcdc5",
   "metadata": {},
   "outputs": [],
   "source": [
    "class Solution:\n",
    "    def lastStoneWeight(self, stones):\n",
    "        stones=[-s for s in stones]\n",
    "        heapify(stones)\n",
    "        while len(stones)>1:\n",
    "            first=heappop(stones)*-1\n",
    "            second=heappop(stones)*-1\n",
    "            lastover=abs(first-second)\n",
    "            heappush(stones,lastover*-1)\n",
    "\n",
    "        return -stones[0]    "
   ]
  },
  {
   "cell_type": "code",
   "execution_count": null,
   "id": "fea45ad2-6ff0-407f-8298-11f68343161c",
   "metadata": {},
   "outputs": [],
   "source": []
  }
 ],
 "metadata": {
  "kernelspec": {
   "display_name": "Python 3 (ipykernel)",
   "language": "python",
   "name": "python3"
  },
  "language_info": {
   "codemirror_mode": {
    "name": "ipython",
    "version": 3
   },
   "file_extension": ".py",
   "mimetype": "text/x-python",
   "name": "python",
   "nbconvert_exporter": "python",
   "pygments_lexer": "ipython3",
   "version": "3.11.7"
  }
 },
 "nbformat": 4,
 "nbformat_minor": 5
}
