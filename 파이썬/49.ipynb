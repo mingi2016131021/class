{
 "cells": [
  {
   "cell_type": "code",
   "execution_count": 3,
   "id": "9f05fdfa-695d-49c0-a7ff-7a16c0132c43",
   "metadata": {},
   "outputs": [],
   "source": [
    "class Solution(object):\n",
    "    def validMountainArray(self, arr):\n",
    "     def checkforstricincrising(arr):\n",
    "       \n",
    "        if len(set(arr))==len(arr):\n",
    "            temp=arr[:]\n",
    "            temp.sort()\n",
    "            if temp==arr:\n",
    "                return True\n",
    "            else:\n",
    "                return False\n",
    "        else:\n",
    "            return False\n",
    "\n",
    "     def checkforstricdec(arr):\n",
    "       \n",
    "        if len(set(arr))==len(arr):\n",
    "            temp=arr[:]\n",
    "            temp.sort()\n",
    "            temp.reverse()\n",
    "            if temp==arr:\n",
    "                return True\n",
    "            else:\n",
    "                return False\n",
    "        else:\n",
    "            return False\n",
    "     if len(arr)<3:\n",
    "        return False\n",
    "     elif len(arr)==3:\n",
    "        if arr[0]<arr[1] and arr[1]>arr[2]:\n",
    "            return True\n",
    "        else:\n",
    "            return False\n",
    "     else:\n",
    "        maximum=max(arr)\n",
    "        indice=arr.index(maximum)\n",
    "        if indice<=len(arr)-2 and indice >= 1:\n",
    "\n",
    "            if arr.count(maximum)>1:\n",
    "              return False\n",
    "            else:\n",
    "              return checkforstricincrising(arr[0:indice]) and checkforstricdec(arr[indice:])\n",
    "        else:\n",
    "            return False"
   ]
  },
  {
   "cell_type": "code",
   "execution_count": null,
   "id": "15557b13-9883-4ca1-83b9-9d17a9891893",
   "metadata": {},
   "outputs": [],
   "source": []
  }
 ],
 "metadata": {
  "kernelspec": {
   "display_name": "Python 3 (ipykernel)",
   "language": "python",
   "name": "python3"
  },
  "language_info": {
   "codemirror_mode": {
    "name": "ipython",
    "version": 3
   },
   "file_extension": ".py",
   "mimetype": "text/x-python",
   "name": "python",
   "nbconvert_exporter": "python",
   "pygments_lexer": "ipython3",
   "version": "3.11.7"
  }
 },
 "nbformat": 4,
 "nbformat_minor": 5
}
