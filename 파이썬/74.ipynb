{
 "cells": [
  {
   "cell_type": "code",
   "execution_count": 3,
   "id": "85b563e6-c636-477e-a398-e69d28bb2f85",
   "metadata": {},
   "outputs": [],
   "source": [
    "class MyHashSet:\n",
    "\n",
    "    def __init__(self):\n",
    "        self.arry=[[] for _ in range(1000)]\n",
    "\n",
    "    def add(self, key):\n",
    "        subkey=key%1000\n",
    "        if not self.contains(key):\n",
    "            self.arry[subkey].append(key)\n",
    "        \n",
    "\n",
    "    def remove(self, key):\n",
    "        subkey=key%1000\n",
    "        if self.contains(key):\n",
    "            self.arry[subkey].remove(key)\n",
    "    def contains(self, key):\n",
    "        subkey=key%1000\n",
    "        return key in self.arry[subkey]"
   ]
  },
  {
   "cell_type": "code",
   "execution_count": null,
   "id": "c30deb74-f8fc-448c-9c9d-5e866a97a405",
   "metadata": {},
   "outputs": [],
   "source": []
  }
 ],
 "metadata": {
  "kernelspec": {
   "display_name": "Python 3 (ipykernel)",
   "language": "python",
   "name": "python3"
  },
  "language_info": {
   "codemirror_mode": {
    "name": "ipython",
    "version": 3
   },
   "file_extension": ".py",
   "mimetype": "text/x-python",
   "name": "python",
   "nbconvert_exporter": "python",
   "pygments_lexer": "ipython3",
   "version": "3.11.7"
  }
 },
 "nbformat": 4,
 "nbformat_minor": 5
}
