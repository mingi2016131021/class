{
 "cells": [
  {
   "cell_type": "code",
   "execution_count": 2,
   "id": "23d5b8d0-93c7-4e80-ad51-93d6f37a1511",
   "metadata": {},
   "outputs": [],
   "source": [
    "class Solution(object):\n",
    "    def calculateTax(self, brackets, income):\n",
    "        prevLimit = ans = 0\n",
    "        for limit, percent  in brackets:\n",
    "            amt = income if income < (limit - prevLimit) else (limit - prevLimit)\n",
    "          \n",
    "            ans += amt * percent / 100.00\n",
    "            income -= amt\n",
    "            prevLimit = limit\n",
    "            \n",
    "        return ans"
   ]
  },
  {
   "cell_type": "code",
   "execution_count": null,
   "id": "0508a118-baed-49d3-9b47-e2673bbe6b4d",
   "metadata": {},
   "outputs": [],
   "source": []
  }
 ],
 "metadata": {
  "kernelspec": {
   "display_name": "Python 3 (ipykernel)",
   "language": "python",
   "name": "python3"
  },
  "language_info": {
   "codemirror_mode": {
    "name": "ipython",
    "version": 3
   },
   "file_extension": ".py",
   "mimetype": "text/x-python",
   "name": "python",
   "nbconvert_exporter": "python",
   "pygments_lexer": "ipython3",
   "version": "3.11.7"
  }
 },
 "nbformat": 4,
 "nbformat_minor": 5
}
