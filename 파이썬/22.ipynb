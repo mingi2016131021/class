{
 "cells": [
  {
   "cell_type": "code",
   "execution_count": 2,
   "id": "672b105e-6592-4209-b5bf-8ebed0cde4be",
   "metadata": {},
   "outputs": [],
   "source": [
    "class Solution(object):\n",
    "    def stringMatching(self, words):\n",
    "        l=len(words)\n",
    "        list=[]\n",
    "        for i in range(l):\n",
    "            for j in range(i+1,l):\n",
    "                if words[i] in words[j]:\n",
    "                    list.append(words[i])\n",
    "                    break\n",
    "            else:\n",
    "                for k in range(i-1,-1,-1):\n",
    "                    if words[i] in words[k]:\n",
    "                        list.append(words[i])\n",
    "                        break    \n",
    "        return list              "
   ]
  },
  {
   "cell_type": "code",
   "execution_count": null,
   "id": "ff057f86-6b98-42d3-97f3-bcae37c963c2",
   "metadata": {},
   "outputs": [],
   "source": []
  }
 ],
 "metadata": {
  "kernelspec": {
   "display_name": "Python 3 (ipykernel)",
   "language": "python",
   "name": "python3"
  },
  "language_info": {
   "codemirror_mode": {
    "name": "ipython",
    "version": 3
   },
   "file_extension": ".py",
   "mimetype": "text/x-python",
   "name": "python",
   "nbconvert_exporter": "python",
   "pygments_lexer": "ipython3",
   "version": "3.11.7"
  }
 },
 "nbformat": 4,
 "nbformat_minor": 5
}
