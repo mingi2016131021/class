{
 "cells": [
  {
   "cell_type": "code",
   "execution_count": 4,
   "id": "acdbe897-e958-47a9-8e84-74421e4c63a9",
   "metadata": {},
   "outputs": [],
   "source": [
    "class Solution:\n",
    "    def checkIfExist(self, arr):\n",
    "        seen_values = {}\n",
    "        count = 0 \n",
    "        for num in arr:\n",
    "            seen_values[num] = count\n",
    "            count = count + 1\n",
    "        count_1 = 0 \n",
    "        for num in arr:\n",
    "            double = num * 2\n",
    "            if double in seen_values and seen_values[double] != count_1:\n",
    "                return True\n",
    "            \n",
    "            count_1 = count_1 + 1 \n",
    "        return False"
   ]
  },
  {
   "cell_type": "code",
   "execution_count": null,
   "id": "c8cc7a18-a899-40e4-ad3a-61b673680cd1",
   "metadata": {},
   "outputs": [],
   "source": []
  }
 ],
 "metadata": {
  "kernelspec": {
   "display_name": "Python 3 (ipykernel)",
   "language": "python",
   "name": "python3"
  },
  "language_info": {
   "codemirror_mode": {
    "name": "ipython",
    "version": 3
   },
   "file_extension": ".py",
   "mimetype": "text/x-python",
   "name": "python",
   "nbconvert_exporter": "python",
   "pygments_lexer": "ipython3",
   "version": "3.11.7"
  }
 },
 "nbformat": 4,
 "nbformat_minor": 5
}
