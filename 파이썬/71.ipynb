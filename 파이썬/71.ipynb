{
 "cells": [
  {
   "cell_type": "code",
   "execution_count": 2,
   "id": "be72df64-be6f-43b6-a5e8-80ca7362e313",
   "metadata": {},
   "outputs": [],
   "source": [
    "class Solution(object):\n",
    "    def findPoisonedDuration(self, timeSeries, duration):\n",
    "        poisoned = 0\n",
    "        start = 0\n",
    "        end = 0\n",
    "        for ele in timeSeries:\n",
    "            if ele > end:\n",
    "                poisoned += (end-start)\n",
    "                start = ele\n",
    "                end = ele + duration\n",
    "            else:\n",
    "                end = ele + duration\n",
    "        poisoned += (end-start)\n",
    "        return poisoned"
   ]
  },
  {
   "cell_type": "code",
   "execution_count": null,
   "id": "dd5ddf8f-a6e8-432c-a9e0-b4c7cc534cf5",
   "metadata": {},
   "outputs": [],
   "source": []
  }
 ],
 "metadata": {
  "kernelspec": {
   "display_name": "Python 3 (ipykernel)",
   "language": "python",
   "name": "python3"
  },
  "language_info": {
   "codemirror_mode": {
    "name": "ipython",
    "version": 3
   },
   "file_extension": ".py",
   "mimetype": "text/x-python",
   "name": "python",
   "nbconvert_exporter": "python",
   "pygments_lexer": "ipython3",
   "version": "3.11.7"
  }
 },
 "nbformat": 4,
 "nbformat_minor": 5
}
