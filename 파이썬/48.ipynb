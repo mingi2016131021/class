{
 "cells": [
  {
   "cell_type": "code",
   "execution_count": 2,
   "id": "f8b1a32b-e809-47f7-a672-ee356d62c885",
   "metadata": {},
   "outputs": [],
   "source": [
    "class Solution:\n",
    "    def buddyStrings(self, s, goal):\n",
    "        l=[]\n",
    "        if len(s)!=len(goal):\n",
    "            return False\n",
    "        if s==goal and len(set(s))<len(s):\n",
    "            return True\n",
    "        for i in range(len(s)):\n",
    "            if s[i]!=goal[i]:\n",
    "                l.append(i)\n",
    "        if len(l)==2 and s[l[0]]==goal[l[1]] and s[l[1]]==goal[l[0]]:\n",
    "            return True\n",
    "        else:\n",
    "            return False"
   ]
  },
  {
   "cell_type": "code",
   "execution_count": null,
   "id": "8c50d99a-c379-466c-9395-ed9bed80dd0a",
   "metadata": {},
   "outputs": [],
   "source": []
  }
 ],
 "metadata": {
  "kernelspec": {
   "display_name": "Python 3 (ipykernel)",
   "language": "python",
   "name": "python3"
  },
  "language_info": {
   "codemirror_mode": {
    "name": "ipython",
    "version": 3
   },
   "file_extension": ".py",
   "mimetype": "text/x-python",
   "name": "python",
   "nbconvert_exporter": "python",
   "pygments_lexer": "ipython3",
   "version": "3.11.7"
  }
 },
 "nbformat": 4,
 "nbformat_minor": 5
}
