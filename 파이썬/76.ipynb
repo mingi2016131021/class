{
 "cells": [
  {
   "cell_type": "code",
   "execution_count": 2,
   "id": "43064b2a-41ad-4f2e-b241-32a3017f816d",
   "metadata": {},
   "outputs": [],
   "source": [
    "class Solution:\n",
    "    def largeGroupPositions(self, s):\n",
    "        l,r=0,1\n",
    "        z=[]\n",
    "        while r<len(s):\n",
    "            if s[r-1]==s[r]:\n",
    "                r+=1\n",
    "            if r==len(s) and r-l>=3:\n",
    "                z.append([l,r-1])\n",
    "            elif r==len(s) and r-l<3:\n",
    "                c=1\n",
    "            elif s[r]!=s[r-1] and r-l>=3:\n",
    "                z.append([l,r-1])\n",
    "                l=r\n",
    "                r+=1\n",
    "            elif s[r]!=s[r-1] and r-l<3:\n",
    "                l=r\n",
    "                r+=1\n",
    "        return z"
   ]
  },
  {
   "cell_type": "code",
   "execution_count": null,
   "id": "9544295d-4ff2-406c-8824-8ad47b03140c",
   "metadata": {},
   "outputs": [],
   "source": []
  }
 ],
 "metadata": {
  "kernelspec": {
   "display_name": "Python 3 (ipykernel)",
   "language": "python",
   "name": "python3"
  },
  "language_info": {
   "codemirror_mode": {
    "name": "ipython",
    "version": 3
   },
   "file_extension": ".py",
   "mimetype": "text/x-python",
   "name": "python",
   "nbconvert_exporter": "python",
   "pygments_lexer": "ipython3",
   "version": "3.11.7"
  }
 },
 "nbformat": 4,
 "nbformat_minor": 5
}
