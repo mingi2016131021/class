{
 "cells": [
  {
   "cell_type": "code",
   "execution_count": 3,
   "id": "14673ed5-756c-4c4e-8cc9-7aef5dd6a2e9",
   "metadata": {},
   "outputs": [],
   "source": [
    "class Solution(object):\n",
    "    def minDepth(self, root):\n",
    "        if (root==None):\n",
    "            return 0\n",
    "        def chk(a):\n",
    "            if(a.left==None and a.right==None):\n",
    "                return 1\n",
    "            if(a.left==None and a.right!=None):\n",
    "                mn=chk(a.right)+1\n",
    "                return mn\n",
    "            if(a.left!=None and a.right==None):\n",
    "                mn=chk(a.left)+1\n",
    "                return mn\n",
    "            else:\n",
    "                mn=min(chk(a.left),chk(a.right))\n",
    "                mn=mn+1\n",
    "                return mn   \n",
    "        return chk(root)             "
   ]
  },
  {
   "cell_type": "code",
   "execution_count": null,
   "id": "b1d7324c-ada9-4762-befd-d7c45ba45411",
   "metadata": {},
   "outputs": [],
   "source": []
  }
 ],
 "metadata": {
  "kernelspec": {
   "display_name": "Python 3 (ipykernel)",
   "language": "python",
   "name": "python3"
  },
  "language_info": {
   "codemirror_mode": {
    "name": "ipython",
    "version": 3
   },
   "file_extension": ".py",
   "mimetype": "text/x-python",
   "name": "python",
   "nbconvert_exporter": "python",
   "pygments_lexer": "ipython3",
   "version": "3.11.7"
  }
 },
 "nbformat": 4,
 "nbformat_minor": 5
}
