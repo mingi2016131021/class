{
 "cells": [
  {
   "cell_type": "code",
   "execution_count": 2,
   "id": "7162f6b6-7212-438c-ad4c-cba1c27aef8a",
   "metadata": {},
   "outputs": [],
   "source": [
    "class Solution(object):\n",
    "    def addToArrayForm(self, num, k):\n",
    "        for i in range(0, len(num)):\n",
    "            s += str(num[i])\n",
    "        \n",
    "        intS = int(s) + k\n",
    "        sintS = str(intS)\n",
    "\n",
    "        res = []\n",
    "        for i in range(len(sintS)):\n",
    "            res.append(int(sintS[i]))\n",
    "        \n",
    "        return res"
   ]
  },
  {
   "cell_type": "code",
   "execution_count": null,
   "id": "0b9bf0d0-de8c-4270-811c-668e42f5fabd",
   "metadata": {},
   "outputs": [],
   "source": []
  }
 ],
 "metadata": {
  "kernelspec": {
   "display_name": "Python 3 (ipykernel)",
   "language": "python",
   "name": "python3"
  },
  "language_info": {
   "codemirror_mode": {
    "name": "ipython",
    "version": 3
   },
   "file_extension": ".py",
   "mimetype": "text/x-python",
   "name": "python",
   "nbconvert_exporter": "python",
   "pygments_lexer": "ipython3",
   "version": "3.11.7"
  }
 },
 "nbformat": 4,
 "nbformat_minor": 5
}
