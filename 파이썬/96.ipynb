{
 "cells": [
  {
   "cell_type": "code",
   "execution_count": 2,
   "id": "fec62028-5615-4b27-b110-0dbbcd0f8c03",
   "metadata": {},
   "outputs": [],
   "source": [
    "class Solution(object):\n",
    "    def minOperations(self, nums, k):\n",
    "        op=0\n",
    "        c=0\n",
    "        v=[]\n",
    "        for i in range(len(nums)-1,-1,-1):\n",
    "            if nums[i]<=k and nums[i] not in v:\n",
    "                v.append(nums[i])\n",
    "                c+=1\n",
    "            if c==k:\n",
    "                return op+1\n",
    "            op+=1\n",
    "        return -1"
   ]
  },
  {
   "cell_type": "code",
   "execution_count": null,
   "id": "c8cbc295-3e8c-46ab-aca7-314a3d9645d2",
   "metadata": {},
   "outputs": [],
   "source": []
  }
 ],
 "metadata": {
  "kernelspec": {
   "display_name": "Python 3 (ipykernel)",
   "language": "python",
   "name": "python3"
  },
  "language_info": {
   "codemirror_mode": {
    "name": "ipython",
    "version": 3
   },
   "file_extension": ".py",
   "mimetype": "text/x-python",
   "name": "python",
   "nbconvert_exporter": "python",
   "pygments_lexer": "ipython3",
   "version": "3.11.7"
  }
 },
 "nbformat": 4,
 "nbformat_minor": 5
}
