{
 "cells": [
  {
   "cell_type": "code",
   "execution_count": 3,
   "id": "5645e784-b901-437a-a1b4-46d77bf1b74e",
   "metadata": {},
   "outputs": [],
   "source": [
    "class Solution(object):\n",
    "    def addedInteger(self, nums1, nums2):\n",
    "        min_nums1=min(nums1)\n",
    "        min_nums2=min(nums2)\n",
    "        return min_nums2-min_nums1"
   ]
  },
  {
   "cell_type": "code",
   "execution_count": null,
   "id": "88589466-f453-4625-8d27-4e5019e2596f",
   "metadata": {},
   "outputs": [],
   "source": []
  }
 ],
 "metadata": {
  "kernelspec": {
   "display_name": "Python 3 (ipykernel)",
   "language": "python",
   "name": "python3"
  },
  "language_info": {
   "codemirror_mode": {
    "name": "ipython",
    "version": 3
   },
   "file_extension": ".py",
   "mimetype": "text/x-python",
   "name": "python",
   "nbconvert_exporter": "python",
   "pygments_lexer": "ipython3",
   "version": "3.11.7"
  }
 },
 "nbformat": 4,
 "nbformat_minor": 5
}
