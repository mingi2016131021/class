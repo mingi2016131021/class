{
 "cells": [
  {
   "cell_type": "code",
   "execution_count": 3,
   "id": "f84019d0-8ff6-48d8-b656-61a6ba1cf707",
   "metadata": {},
   "outputs": [],
   "source": [
    "class Solution(object):\n",
    "    def oddCells(self, m, n, indices):\n",
    "        def increament(mat,r,c):\n",
    "            for i in range(len(mat[0])):\n",
    "                mat[r][i]+=1\n",
    "            \n",
    "            for i in range(len(mat)):\n",
    "                mat[i][c]+=1\n",
    "\n",
    "            return mat\n",
    "\n",
    "        def oddcells(r,c,indices):\n",
    "            mat = [ [0]*c for _ in range(r)]\n",
    "            for i in indices:\n",
    "                row = i[0]\n",
    "                col = i[1]\n",
    "                increament(mat,row,col)\n",
    "            oddCount=0\n",
    "            for i in range(r):\n",
    "                for j in range(c):\n",
    "                    if (mat[i][j])%2!=0:\n",
    "                        oddCount+=1\n",
    "            return oddCount\n",
    "        return oddcells(m,n,indices)"
   ]
  },
  {
   "cell_type": "code",
   "execution_count": null,
   "id": "844aba9b-d631-4dfa-a419-da5783fc34e5",
   "metadata": {},
   "outputs": [],
   "source": []
  }
 ],
 "metadata": {
  "kernelspec": {
   "display_name": "Python 3 (ipykernel)",
   "language": "python",
   "name": "python3"
  },
  "language_info": {
   "codemirror_mode": {
    "name": "ipython",
    "version": 3
   },
   "file_extension": ".py",
   "mimetype": "text/x-python",
   "name": "python",
   "nbconvert_exporter": "python",
   "pygments_lexer": "ipython3",
   "version": "3.11.7"
  }
 },
 "nbformat": 4,
 "nbformat_minor": 5
}
