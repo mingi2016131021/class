{
 "cells": [
  {
   "cell_type": "code",
   "execution_count": 7,
   "id": "1247b46a-f322-471d-82a7-e15ed1c39ca1",
   "metadata": {},
   "outputs": [],
   "source": [
    "class Solution(object):\n",
    "    def maxLengthBetweenEqualCharacters(self, s):\n",
    "        sub_len = []\n",
    "        for i in  range(len(s)):\n",
    "            j=len(s)-1\n",
    "            while(j > i):\n",
    "                if s[i] == s[j]:\n",
    "                    sub_len.append(j-i)\n",
    "                    break\n",
    "                else:\n",
    "                    j -= 1\n",
    "        return max(sub_len)-1 if sub_len else -1\n"
   ]
  },
  {
   "cell_type": "code",
   "execution_count": null,
   "id": "92de8142-966b-40b9-bbcf-a61c09bd6dce",
   "metadata": {},
   "outputs": [],
   "source": []
  }
 ],
 "metadata": {
  "kernelspec": {
   "display_name": "Python 3 (ipykernel)",
   "language": "python",
   "name": "python3"
  },
  "language_info": {
   "codemirror_mode": {
    "name": "ipython",
    "version": 3
   },
   "file_extension": ".py",
   "mimetype": "text/x-python",
   "name": "python",
   "nbconvert_exporter": "python",
   "pygments_lexer": "ipython3",
   "version": "3.11.7"
  }
 },
 "nbformat": 4,
 "nbformat_minor": 5
}
