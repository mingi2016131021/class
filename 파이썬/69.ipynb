{
 "cells": [
  {
   "cell_type": "code",
   "execution_count": 3,
   "id": "ea3aa16d-b32a-47bd-8280-7d692a13344e",
   "metadata": {},
   "outputs": [],
   "source": [
    "class Solution:\n",
    "    def moveZeroes(self, nums):\n",
    "        i=0\n",
    "        j=len(nums)-1\n",
    "        while i<=j:\n",
    "            if nums[i] == 0:\n",
    "                nums.pop(i)\n",
    "                nums.append(0)\n",
    "                j-=1\n",
    "            else:\n",
    "                i+=1"
   ]
  },
  {
   "cell_type": "code",
   "execution_count": null,
   "id": "dab6797d-8302-4b1c-980a-717f377398c2",
   "metadata": {},
   "outputs": [],
   "source": []
  }
 ],
 "metadata": {
  "kernelspec": {
   "display_name": "Python 3 (ipykernel)",
   "language": "python",
   "name": "python3"
  },
  "language_info": {
   "codemirror_mode": {
    "name": "ipython",
    "version": 3
   },
   "file_extension": ".py",
   "mimetype": "text/x-python",
   "name": "python",
   "nbconvert_exporter": "python",
   "pygments_lexer": "ipython3",
   "version": "3.11.7"
  }
 },
 "nbformat": 4,
 "nbformat_minor": 5
}
