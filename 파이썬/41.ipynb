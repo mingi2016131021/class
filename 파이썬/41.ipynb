{
 "cells": [
  {
   "cell_type": "code",
   "execution_count": 2,
   "id": "fb25f3e7-bc69-44ef-b3c8-78823f55494d",
   "metadata": {},
   "outputs": [],
   "source": [
    "class Solution:\n",
    "    def romanToInt(self, s):\n",
    "        ans=0\n",
    "        d={'I':1, 'V':5, 'X':10, 'L':50, 'C':100, 'D':500, 'M':1000}\n",
    "        i=0\n",
    "        while i< len(s):\n",
    "            if i< len(s)-1 and d[s[i]] < d[s[i+1]]:\n",
    "                ans+=d[s[i+1]]-d[s[i]]\n",
    "                i+=1\n",
    "            else:\n",
    "                ans+=d[s[i]]\n",
    "            i+=1\n",
    "        return ans"
   ]
  },
  {
   "cell_type": "code",
   "execution_count": null,
   "id": "b949b0c2-a888-41c0-b0a5-b265bc115a42",
   "metadata": {},
   "outputs": [],
   "source": []
  }
 ],
 "metadata": {
  "kernelspec": {
   "display_name": "Python 3 (ipykernel)",
   "language": "python",
   "name": "python3"
  },
  "language_info": {
   "codemirror_mode": {
    "name": "ipython",
    "version": 3
   },
   "file_extension": ".py",
   "mimetype": "text/x-python",
   "name": "python",
   "nbconvert_exporter": "python",
   "pygments_lexer": "ipython3",
   "version": "3.11.7"
  }
 },
 "nbformat": 4,
 "nbformat_minor": 5
}
