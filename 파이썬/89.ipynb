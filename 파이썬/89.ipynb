{
 "cells": [
  {
   "cell_type": "code",
   "execution_count": 4,
   "id": "38f34345-f101-45f1-93cd-d9b86d51b973",
   "metadata": {},
   "outputs": [],
   "source": [
    "class Solution(object):\n",
    "    def countEven(self, num):\n",
    "        count = 0\n",
    "        for i in range(1,num+1):\n",
    "            x = sum([int(char) for char in str(i)])\n",
    "            if x %2 == 0:\n",
    "                count+=1\n",
    "        return count"
   ]
  },
  {
   "cell_type": "code",
   "execution_count": null,
   "id": "1e6f80d1-b034-49d9-a840-b4677788f964",
   "metadata": {},
   "outputs": [],
   "source": []
  }
 ],
 "metadata": {
  "kernelspec": {
   "display_name": "Python 3 (ipykernel)",
   "language": "python",
   "name": "python3"
  },
  "language_info": {
   "codemirror_mode": {
    "name": "ipython",
    "version": 3
   },
   "file_extension": ".py",
   "mimetype": "text/x-python",
   "name": "python",
   "nbconvert_exporter": "python",
   "pygments_lexer": "ipython3",
   "version": "3.11.7"
  }
 },
 "nbformat": 4,
 "nbformat_minor": 5
}
