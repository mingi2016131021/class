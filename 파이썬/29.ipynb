{
 "cells": [
  {
   "cell_type": "code",
   "execution_count": 4,
   "id": "62d55d55-ec24-4fb4-ae47-6bfdaa001029",
   "metadata": {},
   "outputs": [],
   "source": [
    "class Solution(object):\n",
    "    def leafSimilar(self, root1, root2):\n",
    "        def get_leaf_values(root, leaf_values):\n",
    "            if root is None:\n",
    "                return\n",
    "            if root.left is None and root.right is None:\n",
    "                leaf_values.append(root.val)\n",
    "            get_leaf_values(root.left, leaf_values)\n",
    "            get_leaf_values(root.right, leaf_values)\n",
    "        \n",
    "        leaf_values1, leaf_values2 = [], []\n",
    "        get_leaf_values(root1, leaf_values1)\n",
    "        get_leaf_values(root2, leaf_values2)\n",
    "        \n",
    "        return leaf_values1 == leaf_values2"
   ]
  },
  {
   "cell_type": "code",
   "execution_count": null,
   "id": "b481ad11-8200-4868-8f58-85bc07b39ec8",
   "metadata": {},
   "outputs": [],
   "source": []
  }
 ],
 "metadata": {
  "kernelspec": {
   "display_name": "Python 3 (ipykernel)",
   "language": "python",
   "name": "python3"
  },
  "language_info": {
   "codemirror_mode": {
    "name": "ipython",
    "version": 3
   },
   "file_extension": ".py",
   "mimetype": "text/x-python",
   "name": "python",
   "nbconvert_exporter": "python",
   "pygments_lexer": "ipython3",
   "version": "3.11.7"
  }
 },
 "nbformat": 4,
 "nbformat_minor": 5
}
