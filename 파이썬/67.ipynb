{
 "cells": [
  {
   "cell_type": "code",
   "execution_count": 12,
   "id": "34b3463f-7780-418a-9260-f679ed9eb183",
   "metadata": {},
   "outputs": [],
   "source": [
    "class Solution:\n",
    "    def climbStairs(self, n):\n",
    "        if n<=2:\n",
    "            return n\n",
    "        x= 1\n",
    "        y= 2\n",
    "        z= 0\n",
    "        for i in range(2,n):\n",
    "            z=x+y\n",
    "            x=y\n",
    "            y=z\n",
    "\n",
    "        return z"
   ]
  },
  {
   "cell_type": "code",
   "execution_count": null,
   "id": "c6ad7319-216e-42d8-8178-9283b14fb670",
   "metadata": {},
   "outputs": [],
   "source": []
  }
 ],
 "metadata": {
  "kernelspec": {
   "display_name": "Python 3 (ipykernel)",
   "language": "python",
   "name": "python3"
  },
  "language_info": {
   "codemirror_mode": {
    "name": "ipython",
    "version": 3
   },
   "file_extension": ".py",
   "mimetype": "text/x-python",
   "name": "python",
   "nbconvert_exporter": "python",
   "pygments_lexer": "ipython3",
   "version": "3.11.7"
  }
 },
 "nbformat": 4,
 "nbformat_minor": 5
}
