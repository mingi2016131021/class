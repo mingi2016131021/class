{
 "cells": [
  {
   "cell_type": "code",
   "execution_count": null,
   "id": "9f8d97d2-bb8f-483d-aec6-0ef03eb34ecc",
   "metadata": {},
   "outputs": [],
   "source": [
    "class Solution(object):\n",
    "    def smallestRangeI(self, nums, k):\n",
    "        maxi = max(nums)\n",
    "        mini = min(nums)\n",
    "        score = (maxi - k) - (mini + k)\n",
    "        return max(score, 0)\n"
   ]
  }
 ],
 "metadata": {
  "kernelspec": {
   "display_name": "Python 3 (ipykernel)",
   "language": "python",
   "name": "python3"
  },
  "language_info": {
   "codemirror_mode": {
    "name": "ipython",
    "version": 3
   },
   "file_extension": ".py",
   "mimetype": "text/x-python",
   "name": "python",
   "nbconvert_exporter": "python",
   "pygments_lexer": "ipython3",
   "version": "3.11.7"
  }
 },
 "nbformat": 4,
 "nbformat_minor": 5
}
