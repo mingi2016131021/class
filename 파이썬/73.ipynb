{
 "cells": [
  {
   "cell_type": "code",
   "execution_count": 3,
   "id": "25ba27b3-0b64-47e7-b7d6-fd8daba7c137",
   "metadata": {},
   "outputs": [],
   "source": [
    "class Solution(object):\n",
    "    def averageOfLevels(self, root):\n",
    "        res=[float(root.val)]\n",
    "        queue=[root]\n",
    "        while queue:\n",
    "            temp,level=[],[]\n",
    "            for each in queue:\n",
    "                if each.left:\n",
    "                    level.append(each.left.val)\n",
    "                    temp.append(each.left)\n",
    "                if each.right:\n",
    "                    level.append(each.right.val)\n",
    "                    temp.append(each.right)\n",
    "            queue=temp\n",
    "            if level:\n",
    "                res.append(float(sum(level))/float(len(level)))\n",
    "        return res"
   ]
  },
  {
   "cell_type": "code",
   "execution_count": null,
   "id": "912a5e50-3aac-4da2-ad65-3dcfbed3042b",
   "metadata": {},
   "outputs": [],
   "source": []
  }
 ],
 "metadata": {
  "kernelspec": {
   "display_name": "Python 3 (ipykernel)",
   "language": "python",
   "name": "python3"
  },
  "language_info": {
   "codemirror_mode": {
    "name": "ipython",
    "version": 3
   },
   "file_extension": ".py",
   "mimetype": "text/x-python",
   "name": "python",
   "nbconvert_exporter": "python",
   "pygments_lexer": "ipython3",
   "version": "3.11.7"
  }
 },
 "nbformat": 4,
 "nbformat_minor": 5
}
