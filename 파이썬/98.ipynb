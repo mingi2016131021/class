{
 "cells": [
  {
   "cell_type": "code",
   "execution_count": 3,
   "id": "ce851ede-a556-4982-92fc-ee466b546eb3",
   "metadata": {},
   "outputs": [],
   "source": [
    "class Solution(object):\n",
    "    def numberOfEmployeesWhoMetTarget(self, hours, target):\n",
    "        count=0\n",
    "        for i in hours:\n",
    "            if i>=target:\n",
    "                count+=1\n",
    "        return count"
   ]
  },
  {
   "cell_type": "code",
   "execution_count": null,
   "id": "5c816eb2-9794-42d4-9681-c0e3a54ee145",
   "metadata": {},
   "outputs": [],
   "source": []
  }
 ],
 "metadata": {
  "kernelspec": {
   "display_name": "Python 3 (ipykernel)",
   "language": "python",
   "name": "python3"
  },
  "language_info": {
   "codemirror_mode": {
    "name": "ipython",
    "version": 3
   },
   "file_extension": ".py",
   "mimetype": "text/x-python",
   "name": "python",
   "nbconvert_exporter": "python",
   "pygments_lexer": "ipython3",
   "version": "3.11.7"
  }
 },
 "nbformat": 4,
 "nbformat_minor": 5
}
