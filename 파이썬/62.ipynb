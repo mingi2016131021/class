{
 "cells": [
  {
   "cell_type": "code",
   "execution_count": 2,
   "id": "bdc3569b-4d79-4f9a-b71c-71aaa2334ab0",
   "metadata": {},
   "outputs": [],
   "source": [
    "class Solution:\n",
    "    def minCostClimbingStairs(self, cost):\n",
    "        n = len(cost)\n",
    "        dp = [0] * n\n",
    "        dp[0] = cost[0]\n",
    "        dp[1] = cost[1]\n",
    "\n",
    "        for i in range(2, n):\n",
    "            dp[i] = min(dp[i-1], dp[i-2]) + cost[i]\n",
    "\n",
    "        return min(dp[n-1], dp[n-2])"
   ]
  },
  {
   "cell_type": "code",
   "execution_count": null,
   "id": "1dbff539-d143-4dc8-8be6-0630e9a894b9",
   "metadata": {},
   "outputs": [],
   "source": []
  }
 ],
 "metadata": {
  "kernelspec": {
   "display_name": "Python 3 (ipykernel)",
   "language": "python",
   "name": "python3"
  },
  "language_info": {
   "codemirror_mode": {
    "name": "ipython",
    "version": 3
   },
   "file_extension": ".py",
   "mimetype": "text/x-python",
   "name": "python",
   "nbconvert_exporter": "python",
   "pygments_lexer": "ipython3",
   "version": "3.11.7"
  }
 },
 "nbformat": 4,
 "nbformat_minor": 5
}
