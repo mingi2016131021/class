{
 "cells": [
  {
   "cell_type": "code",
   "execution_count": 5,
   "id": "7f73b9b9-50c5-4fd7-a260-0e30f4ba2d83",
   "metadata": {},
   "outputs": [],
   "source": [
    "class Solution(object):\n",
    "    def maxDepth(self, s):\n",
    "        n = len(s)\n",
    "        stack = []\n",
    "        currBalance = 0\n",
    "        maxBalance = 0\n",
    "        for i in range(n):\n",
    "            if s[i] == \"(\":\n",
    "                currBalance += 1\n",
    "                maxBalance = max(maxBalance, currBalance)\n",
    "            elif s[i] == \")\":\n",
    "                currBalance -= 1\n",
    "        return maxBalance"
   ]
  },
  {
   "cell_type": "code",
   "execution_count": null,
   "id": "4a4e7db5-ecfd-45f9-9fa5-2625e467fdfa",
   "metadata": {},
   "outputs": [],
   "source": []
  }
 ],
 "metadata": {
  "kernelspec": {
   "display_name": "Python 3 (ipykernel)",
   "language": "python",
   "name": "python3"
  },
  "language_info": {
   "codemirror_mode": {
    "name": "ipython",
    "version": 3
   },
   "file_extension": ".py",
   "mimetype": "text/x-python",
   "name": "python",
   "nbconvert_exporter": "python",
   "pygments_lexer": "ipython3",
   "version": "3.11.7"
  }
 },
 "nbformat": 4,
 "nbformat_minor": 5
}
