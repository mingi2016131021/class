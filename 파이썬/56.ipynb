{
 "cells": [
  {
   "cell_type": "code",
   "execution_count": 3,
   "id": "9014904d-e120-47b8-8c5a-67c51bbfbd22",
   "metadata": {},
   "outputs": [],
   "source": [
    "class Solution(object):\n",
    "    def isSymmetric(self, root):\n",
    "        if root is None:\n",
    "            return True\n",
    "        \n",
    "        return self.rootReflection(root.left, root.right)\n",
    "\n",
    "    \n",
    "    def rootReflection(self, leftroot, rightroot):\n",
    "        \n",
    "        if leftroot and rightroot:\n",
    "            return leftroot.val==rightroot.val and self.rootReflection(leftroot.left, rightroot.right) and self.rootReflection(leftroot.right, rightroot.left)\n",
    "        return leftroot==rightroot"
   ]
  },
  {
   "cell_type": "code",
   "execution_count": null,
   "id": "a8acf69c-ae5d-4176-910a-06685241d9ec",
   "metadata": {},
   "outputs": [],
   "source": []
  }
 ],
 "metadata": {
  "kernelspec": {
   "display_name": "Python 3 (ipykernel)",
   "language": "python",
   "name": "python3"
  },
  "language_info": {
   "codemirror_mode": {
    "name": "ipython",
    "version": 3
   },
   "file_extension": ".py",
   "mimetype": "text/x-python",
   "name": "python",
   "nbconvert_exporter": "python",
   "pygments_lexer": "ipython3",
   "version": "3.11.7"
  }
 },
 "nbformat": 4,
 "nbformat_minor": 5
}
