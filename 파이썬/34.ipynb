{
 "cells": [
  {
   "cell_type": "code",
   "execution_count": 3,
   "id": "85640939-9641-424d-a030-3754e2e6dff5",
   "metadata": {},
   "outputs": [],
   "source": [
    "class Solution(object):\n",
    "     def smallerNumbersThanCurrent(self, nums):\n",
    "        l1=[]\n",
    "        s=sorted(nums)\n",
    "        for i in nums:\n",
    "            \n",
    "            l1.append(s.index(i))\n",
    "        return l1"
   ]
  },
  {
   "cell_type": "code",
   "execution_count": null,
   "id": "1337ac14-a01e-45bc-aac8-cf4e3fb2de23",
   "metadata": {},
   "outputs": [],
   "source": []
  }
 ],
 "metadata": {
  "kernelspec": {
   "display_name": "Python 3 (ipykernel)",
   "language": "python",
   "name": "python3"
  },
  "language_info": {
   "codemirror_mode": {
    "name": "ipython",
    "version": 3
   },
   "file_extension": ".py",
   "mimetype": "text/x-python",
   "name": "python",
   "nbconvert_exporter": "python",
   "pygments_lexer": "ipython3",
   "version": "3.11.7"
  }
 },
 "nbformat": 4,
 "nbformat_minor": 5
}
