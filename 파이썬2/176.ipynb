{
 "cells": [
  {
   "cell_type": "code",
   "execution_count": 6,
   "id": "7efaf232-993d-47f2-a1a2-9ebc7231a61f",
   "metadata": {},
   "outputs": [],
   "source": [
    "class Solution(object):\n",
    "    def minimumRightShifts(self, nums):\n",
    "        ref = nums[:]\n",
    "        ref += nums[:]\n",
    "        nums = sorted(nums)\n",
    "\n",
    "        A_str = ' '.join(map(str, nums))\n",
    "        B_str = ' '.join(map(str, ref))\n",
    "        if A_str in B_str:\n",
    "            start = ref.index(nums[0])\n",
    "            return (len(nums) - start) % (len(nums))\n",
    "        else:\n",
    "            return -1"
   ]
  },
  {
   "cell_type": "code",
   "execution_count": null,
   "id": "1a48a8ed-60d0-49c5-9175-d400f06f3ed4",
   "metadata": {},
   "outputs": [],
   "source": []
  }
 ],
 "metadata": {
  "kernelspec": {
   "display_name": "Python 3 (ipykernel)",
   "language": "python",
   "name": "python3"
  },
  "language_info": {
   "codemirror_mode": {
    "name": "ipython",
    "version": 3
   },
   "file_extension": ".py",
   "mimetype": "text/x-python",
   "name": "python",
   "nbconvert_exporter": "python",
   "pygments_lexer": "ipython3",
   "version": "3.11.7"
  }
 },
 "nbformat": 4,
 "nbformat_minor": 5
}
