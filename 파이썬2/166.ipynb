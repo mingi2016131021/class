{
 "cells": [
  {
   "cell_type": "code",
   "execution_count": 2,
   "id": "9ad8bfff-cd8d-43bd-88a4-79ff2491dd05",
   "metadata": {},
   "outputs": [],
   "source": [
    "class Solution:\n",
    "    def dayOfTheWeek(self, day, month, year):\n",
    "        t = [ 0, 3, 2, 5, 0, 3, 5, 1, 4, 6, 2, 4 ]\n",
    "        if (month < 3) :\n",
    "            year = year - 1\n",
    "          \n",
    "        r =  (year + year // 4 - year // 100 + year // 400 + t[month - 1] + day) % 7\n",
    "        if r == 1:\n",
    "            return 'Monday'\n",
    "        elif r == 2:\n",
    "            return 'Tuesday'\n",
    "        elif r == 3:\n",
    "            return 'Wednesday'\n",
    "        elif r == 4:\n",
    "            return 'Thursday'\n",
    "        elif r == 5:\n",
    "            return 'Friday'\n",
    "        elif r == 6:\n",
    "            return 'Saturday'\n",
    "        return 'Sunday'"
   ]
  },
  {
   "cell_type": "code",
   "execution_count": null,
   "id": "47b5ce35-9cd0-4124-bd63-07568801978b",
   "metadata": {},
   "outputs": [],
   "source": []
  }
 ],
 "metadata": {
  "kernelspec": {
   "display_name": "Python 3 (ipykernel)",
   "language": "python",
   "name": "python3"
  },
  "language_info": {
   "codemirror_mode": {
    "name": "ipython",
    "version": 3
   },
   "file_extension": ".py",
   "mimetype": "text/x-python",
   "name": "python",
   "nbconvert_exporter": "python",
   "pygments_lexer": "ipython3",
   "version": "3.11.7"
  }
 },
 "nbformat": 4,
 "nbformat_minor": 5
}
