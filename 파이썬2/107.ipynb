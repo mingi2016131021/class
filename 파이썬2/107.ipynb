{
 "cells": [
  {
   "cell_type": "code",
   "execution_count": 2,
   "id": "482fffbb-05a7-40d1-bcf2-80dd8e4e6791",
   "metadata": {},
   "outputs": [],
   "source": [
    "class Solution:\n",
    "    def isLongPressedName(self, name, typed):\n",
    "        prev = ''\n",
    "        i = 0\n",
    "\n",
    "        for c in typed:\n",
    "            if i < len(name) and c == name[i]:\n",
    "                i += 1\n",
    "                prev = c\n",
    "                continue\n",
    "\n",
    "            if c != prev:\n",
    "                return False\n",
    "\n",
    "        return i == len(name)"
   ]
  },
  {
   "cell_type": "code",
   "execution_count": null,
   "id": "46a6ba12-a659-4a6a-9c4e-17701ec63feb",
   "metadata": {},
   "outputs": [],
   "source": []
  }
 ],
 "metadata": {
  "kernelspec": {
   "display_name": "Python 3 (ipykernel)",
   "language": "python",
   "name": "python3"
  },
  "language_info": {
   "codemirror_mode": {
    "name": "ipython",
    "version": 3
   },
   "file_extension": ".py",
   "mimetype": "text/x-python",
   "name": "python",
   "nbconvert_exporter": "python",
   "pygments_lexer": "ipython3",
   "version": "3.11.7"
  }
 },
 "nbformat": 4,
 "nbformat_minor": 5
}
