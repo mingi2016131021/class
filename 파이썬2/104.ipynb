{
 "cells": [
  {
   "cell_type": "code",
   "execution_count": 2,
   "id": "594808bf-c98e-458c-8d4f-cd6407bc4f72",
   "metadata": {},
   "outputs": [],
   "source": [
    "class Solution:\n",
    "    def longestPalindrome(self, s):\n",
    "        d = {}\n",
    "        for c in s:\n",
    "            d[c] = d.get(c, 0) + 1\n",
    "        res = 0\n",
    "        odd = 0\n",
    "        for count in d.values():\n",
    "            if count // 2 > 0:\n",
    "                res += (count // 2)*2\n",
    "            if count % 2 == 1:\n",
    "                odd = 1\n",
    "        return res + odd"
   ]
  },
  {
   "cell_type": "code",
   "execution_count": null,
   "id": "040090fa-24fc-4008-a81c-47bb970eb8c4",
   "metadata": {},
   "outputs": [],
   "source": []
  }
 ],
 "metadata": {
  "kernelspec": {
   "display_name": "Python 3 (ipykernel)",
   "language": "python",
   "name": "python3"
  },
  "language_info": {
   "codemirror_mode": {
    "name": "ipython",
    "version": 3
   },
   "file_extension": ".py",
   "mimetype": "text/x-python",
   "name": "python",
   "nbconvert_exporter": "python",
   "pygments_lexer": "ipython3",
   "version": "3.11.7"
  }
 },
 "nbformat": 4,
 "nbformat_minor": 5
}
