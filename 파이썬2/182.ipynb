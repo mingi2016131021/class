{
 "cells": [
  {
   "cell_type": "code",
   "execution_count": 8,
   "id": "0458cd72-e9ba-4d4c-92a2-0b62fee15dd7",
   "metadata": {},
   "outputs": [],
   "source": [
    "class Solution(object):\n",
    "    def diagonalPrime(self, nums):\n",
    "\n",
    "        arr = []\n",
    "        x, y = 0, len(nums)-1\n",
    "        for i in range(y+1):\n",
    "            arr.append(nums[i][x])\n",
    "            arr.append(nums[i][y])\n",
    "            x += 1\n",
    "            y -= 1\n",
    "        arr.sort()\n",
    "        c = 0\n",
    "        while arr:\n",
    "            for k in range(2, (arr[-1]//2)+1):\n",
    "                if arr[-1] % k == 0:\n",
    "                    c += 1\n",
    "            if c == 0 and arr[-1] != 1:\n",
    "                return arr[-1]\n",
    "            arr.pop()\n",
    "            c = 0\n",
    "        return 0"
   ]
  },
  {
   "cell_type": "code",
   "execution_count": null,
   "id": "e0017cdf-ca1c-4139-92c7-1cb06b03adc5",
   "metadata": {},
   "outputs": [],
   "source": []
  }
 ],
 "metadata": {
  "kernelspec": {
   "display_name": "Python 3 (ipykernel)",
   "language": "python",
   "name": "python3"
  },
  "language_info": {
   "codemirror_mode": {
    "name": "ipython",
    "version": 3
   },
   "file_extension": ".py",
   "mimetype": "text/x-python",
   "name": "python",
   "nbconvert_exporter": "python",
   "pygments_lexer": "ipython3",
   "version": "3.11.7"
  }
 },
 "nbformat": 4,
 "nbformat_minor": 5
}
