{
 "cells": [
  {
   "cell_type": "code",
   "execution_count": 8,
   "id": "96cbda6f-a734-4a62-938b-5ff53f7cde8f",
   "metadata": {},
   "outputs": [],
   "source": [
    "class Solution:\n",
    "    def rearrangeCharacters(self, s, target):\n",
    "        result=9999\n",
    "        for char in target:\n",
    "            if target.count(char)<=s.count(char):\n",
    "                result=min(result,s.count(char)//target.count(char))\n",
    "            else: \n",
    "                result=0\n",
    "                break\n",
    "        return result"
   ]
  },
  {
   "cell_type": "code",
   "execution_count": null,
   "id": "f81cca06-4e15-4817-9467-5f7995389786",
   "metadata": {},
   "outputs": [],
   "source": []
  }
 ],
 "metadata": {
  "kernelspec": {
   "display_name": "Python 3 (ipykernel)",
   "language": "python",
   "name": "python3"
  },
  "language_info": {
   "codemirror_mode": {
    "name": "ipython",
    "version": 3
   },
   "file_extension": ".py",
   "mimetype": "text/x-python",
   "name": "python",
   "nbconvert_exporter": "python",
   "pygments_lexer": "ipython3",
   "version": "3.11.7"
  }
 },
 "nbformat": 4,
 "nbformat_minor": 5
}
