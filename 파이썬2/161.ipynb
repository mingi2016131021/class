{
 "cells": [
  {
   "cell_type": "code",
   "execution_count": 8,
   "id": "8b5ac8d5-ab09-4fdf-8907-dc2cb6a3e082",
   "metadata": {},
   "outputs": [],
   "source": [
    "class Solution:\n",
    "    def isUnivalTree(self, tree):\n",
    "        if not tree:\n",
    "            return True\n",
    "        \n",
    "        if tree.right:\n",
    "            if tree.val != tree.right.val:\n",
    "                return False\n",
    "            \n",
    "        if tree.left:\n",
    "            if tree.val != tree.left.val:\n",
    "                return False\n",
    "        \n",
    "        return self.isUnivalTree(tree.right) and self.isUnivalTree(tree.left)"
   ]
  },
  {
   "cell_type": "code",
   "execution_count": null,
   "id": "ceb4973b-61db-47eb-b3d1-3063da691cf9",
   "metadata": {},
   "outputs": [],
   "source": []
  }
 ],
 "metadata": {
  "kernelspec": {
   "display_name": "Python 3 (ipykernel)",
   "language": "python",
   "name": "python3"
  },
  "language_info": {
   "codemirror_mode": {
    "name": "ipython",
    "version": 3
   },
   "file_extension": ".py",
   "mimetype": "text/x-python",
   "name": "python",
   "nbconvert_exporter": "python",
   "pygments_lexer": "ipython3",
   "version": "3.11.7"
  }
 },
 "nbformat": 4,
 "nbformat_minor": 5
}
