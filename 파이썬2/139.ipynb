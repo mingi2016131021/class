{
 "cells": [
  {
   "cell_type": "code",
   "execution_count": 2,
   "id": "e5d722e1-4137-433f-86a4-dd69f48c4379",
   "metadata": {},
   "outputs": [],
   "source": [
    "class Solution(object):\n",
    "    def theMaximumAchievableX(self, num, t):\n",
    "        n1=num-t\n",
    "        n2=num+t\n",
    "        t1=n1-t\n",
    "        t2=n2+t\n",
    "        if t1>t2:\n",
    "            return t1\n",
    "        else:\n",
    "            return t2"
   ]
  },
  {
   "cell_type": "code",
   "execution_count": null,
   "id": "603e8dab-5d0b-4e57-9a56-af071522dabd",
   "metadata": {},
   "outputs": [],
   "source": []
  }
 ],
 "metadata": {
  "kernelspec": {
   "display_name": "Python 3 (ipykernel)",
   "language": "python",
   "name": "python3"
  },
  "language_info": {
   "codemirror_mode": {
    "name": "ipython",
    "version": 3
   },
   "file_extension": ".py",
   "mimetype": "text/x-python",
   "name": "python",
   "nbconvert_exporter": "python",
   "pygments_lexer": "ipython3",
   "version": "3.11.7"
  }
 },
 "nbformat": 4,
 "nbformat_minor": 5
}
