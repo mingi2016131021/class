{
 "cells": [
  {
   "cell_type": "code",
   "execution_count": 6,
   "id": "d3cc0f53-4a92-4112-96ca-cdb82d959536",
   "metadata": {},
   "outputs": [],
   "source": [
    "class Solution:\n",
    "    def timeRequiredToBuy(self, tickets, k):\n",
    "        result = 0\n",
    "        for index, ticket in enumerate(tickets):\n",
    "            if index == k:\n",
    "                result += ticket\n",
    "            elif index < k:\n",
    "                result += min(ticket, tickets[k])\n",
    "            elif index > k:\n",
    "                result += min(ticket, tickets[k]) - int(ticket >= tickets[k])\n",
    "\n",
    "        return result"
   ]
  },
  {
   "cell_type": "code",
   "execution_count": null,
   "id": "a5da5f44-eff5-49d7-b415-e6503fe2a693",
   "metadata": {},
   "outputs": [],
   "source": []
  }
 ],
 "metadata": {
  "kernelspec": {
   "display_name": "Python 3 (ipykernel)",
   "language": "python",
   "name": "python3"
  },
  "language_info": {
   "codemirror_mode": {
    "name": "ipython",
    "version": 3
   },
   "file_extension": ".py",
   "mimetype": "text/x-python",
   "name": "python",
   "nbconvert_exporter": "python",
   "pygments_lexer": "ipython3",
   "version": "3.11.7"
  }
 },
 "nbformat": 4,
 "nbformat_minor": 5
}
