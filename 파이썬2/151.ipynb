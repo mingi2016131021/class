{
 "cells": [
  {
   "cell_type": "code",
   "execution_count": 2,
   "id": "26bfbf5c-8252-426b-8436-08bc47ae8f7a",
   "metadata": {},
   "outputs": [],
   "source": [
    "class Solution:\n",
    "    def findTarget(self, root, k):\n",
    "        q = [root] if root else []\n",
    "        complements = set()\n",
    "        while q:\n",
    "            node = q.pop(0)\n",
    "            complement = k - node.val\n",
    "            if node.val in complements:\n",
    "                return True\n",
    "            else:\n",
    "                complements.add(complement)\n",
    "            \n",
    "            if node.left:\n",
    "                q.append(node.left)\n",
    "            if node.right:\n",
    "                q.append(node.right)\n",
    "            \n",
    "        return False"
   ]
  },
  {
   "cell_type": "code",
   "execution_count": null,
   "id": "14273d93-592e-4612-85d8-53bce491344f",
   "metadata": {},
   "outputs": [],
   "source": []
  }
 ],
 "metadata": {
  "kernelspec": {
   "display_name": "Python 3 (ipykernel)",
   "language": "python",
   "name": "python3"
  },
  "language_info": {
   "codemirror_mode": {
    "name": "ipython",
    "version": 3
   },
   "file_extension": ".py",
   "mimetype": "text/x-python",
   "name": "python",
   "nbconvert_exporter": "python",
   "pygments_lexer": "ipython3",
   "version": "3.11.7"
  }
 },
 "nbformat": 4,
 "nbformat_minor": 5
}
