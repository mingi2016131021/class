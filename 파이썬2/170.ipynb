{
 "cells": [
  {
   "cell_type": "code",
   "execution_count": 8,
   "id": "7455cd64-f5e4-4cd9-b400-b8b321f47c86",
   "metadata": {},
   "outputs": [],
   "source": [
    "class Solution(object):\n",
    "    def countConsistentStrings(self, allowed, words):\n",
    "        s=0\n",
    "        for x in words:\n",
    "            if set(x).issubset(set(allowed)):\n",
    "                s=s+1\n",
    "        return s "
   ]
  },
  {
   "cell_type": "code",
   "execution_count": null,
   "id": "08ed4fd9-1fa2-488e-bd6b-55e1127f5a5a",
   "metadata": {},
   "outputs": [],
   "source": []
  }
 ],
 "metadata": {
  "kernelspec": {
   "display_name": "Python 3 (ipykernel)",
   "language": "python",
   "name": "python3"
  },
  "language_info": {
   "codemirror_mode": {
    "name": "ipython",
    "version": 3
   },
   "file_extension": ".py",
   "mimetype": "text/x-python",
   "name": "python",
   "nbconvert_exporter": "python",
   "pygments_lexer": "ipython3",
   "version": "3.11.7"
  }
 },
 "nbformat": 4,
 "nbformat_minor": 5
}
