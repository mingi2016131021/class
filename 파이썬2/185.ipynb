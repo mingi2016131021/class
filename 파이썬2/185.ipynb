{
 "cells": [
  {
   "cell_type": "code",
   "execution_count": 8,
   "id": "722ee966-0d99-4494-9056-33c630ad7295",
   "metadata": {},
   "outputs": [],
   "source": [
    "class Solution:\n",
    "    def minLength(self,s):\n",
    "        slist = list(s)\n",
    "        changed = True\n",
    "        \n",
    "        while changed:\n",
    "            changed = False\n",
    "            i = 0\n",
    "            \n",
    "            while i < len(slist) - 1:\n",
    "                j = i + 1\n",
    "                \n",
    "                if slist[i] == 'A' and slist[j] == 'B':\n",
    "                    slist.pop(j)\n",
    "                    slist.pop(i)\n",
    "                    changed = True\n",
    "                elif slist[i] == 'C' and slist[j] == 'D':\n",
    "                    slist.pop(j)\n",
    "                    slist.pop(i)\n",
    "                    changed = True\n",
    "                else:\n",
    "                    i += 1\n",
    "        \n",
    "        return len(slist)"
   ]
  },
  {
   "cell_type": "code",
   "execution_count": null,
   "id": "e2ea3c69-6645-4e90-aaec-36da7bef278f",
   "metadata": {},
   "outputs": [],
   "source": []
  }
 ],
 "metadata": {
  "kernelspec": {
   "display_name": "Python 3 (ipykernel)",
   "language": "python",
   "name": "python3"
  },
  "language_info": {
   "codemirror_mode": {
    "name": "ipython",
    "version": 3
   },
   "file_extension": ".py",
   "mimetype": "text/x-python",
   "name": "python",
   "nbconvert_exporter": "python",
   "pygments_lexer": "ipython3",
   "version": "3.11.7"
  }
 },
 "nbformat": 4,
 "nbformat_minor": 5
}
