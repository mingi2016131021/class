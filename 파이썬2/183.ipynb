{
 "cells": [
  {
   "cell_type": "code",
   "execution_count": 10,
   "id": "f4a15723-4f77-4ea2-b1d5-4f0c0f0896ae",
   "metadata": {},
   "outputs": [],
   "source": [
    "class Solution(object):\n",
    "    def maxDivScore(self, nums, divisors):\n",
    "        count = 0\n",
    "        m = 0\n",
    "        res = divisors[0]\n",
    "        for i in divisors:\n",
    "            for j in  nums:\n",
    "                if j%i==0:\n",
    "                    count+=1\n",
    "            if m<count:\n",
    "                m = count\n",
    "                res = i\n",
    "            if m == count and res>i:\n",
    "                res = i\n",
    "            count = 0\n",
    "        return res"
   ]
  },
  {
   "cell_type": "code",
   "execution_count": null,
   "id": "39239153-418e-4059-8eff-aa8490f6666f",
   "metadata": {},
   "outputs": [],
   "source": []
  }
 ],
 "metadata": {
  "kernelspec": {
   "display_name": "Python 3 (ipykernel)",
   "language": "python",
   "name": "python3"
  },
  "language_info": {
   "codemirror_mode": {
    "name": "ipython",
    "version": 3
   },
   "file_extension": ".py",
   "mimetype": "text/x-python",
   "name": "python",
   "nbconvert_exporter": "python",
   "pygments_lexer": "ipython3",
   "version": "3.11.7"
  }
 },
 "nbformat": 4,
 "nbformat_minor": 5
}
