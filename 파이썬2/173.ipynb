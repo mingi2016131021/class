{
 "cells": [
  {
   "cell_type": "code",
   "execution_count": 8,
   "id": "23a67613-e19e-4b65-a935-b858df9328fa",
   "metadata": {},
   "outputs": [],
   "source": [
    "class Solution:\n",
    "    def cellsInRange(self, s):\n",
    "        result=[]\n",
    "        for i in range(ord(s[0]),ord(s[3])+1):\n",
    "            rs=\"\"\n",
    "            for j in range(int(s[1]),int(s[4])+1):\n",
    "                rs=chr(i)+str(j)\n",
    "                result.append(rs)\n",
    "        return result"
   ]
  },
  {
   "cell_type": "code",
   "execution_count": null,
   "id": "8566e73e-5b5a-4a97-b745-a7eb2443e718",
   "metadata": {},
   "outputs": [],
   "source": []
  }
 ],
 "metadata": {
  "kernelspec": {
   "display_name": "Python 3 (ipykernel)",
   "language": "python",
   "name": "python3"
  },
  "language_info": {
   "codemirror_mode": {
    "name": "ipython",
    "version": 3
   },
   "file_extension": ".py",
   "mimetype": "text/x-python",
   "name": "python",
   "nbconvert_exporter": "python",
   "pygments_lexer": "ipython3",
   "version": "3.11.7"
  }
 },
 "nbformat": 4,
 "nbformat_minor": 5
}
