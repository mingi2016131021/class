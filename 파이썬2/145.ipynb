{
 "cells": [
  {
   "cell_type": "code",
   "execution_count": 2,
   "id": "afb32cab-2dba-4760-ac27-b9271dce5f06",
   "metadata": {},
   "outputs": [],
   "source": [
    "class Solution:\n",
    "    def readBinaryWatch(self, turnedOn):\n",
    "        res=[]\n",
    "        for i in range(12):\n",
    "            for j in range(60):\n",
    "                if((bin(i)+bin(j)).count('1')==turnedOn):\n",
    "                    k='%d:%02d' %(i, j)\n",
    "                    print(k)\n",
    "                    res.append(k)\n",
    "\n",
    "        return res"
   ]
  },
  {
   "cell_type": "code",
   "execution_count": null,
   "id": "5a1dd2a3-e801-41d2-98ae-e7752a055632",
   "metadata": {},
   "outputs": [],
   "source": []
  }
 ],
 "metadata": {
  "kernelspec": {
   "display_name": "Python 3 (ipykernel)",
   "language": "python",
   "name": "python3"
  },
  "language_info": {
   "codemirror_mode": {
    "name": "ipython",
    "version": 3
   },
   "file_extension": ".py",
   "mimetype": "text/x-python",
   "name": "python",
   "nbconvert_exporter": "python",
   "pygments_lexer": "ipython3",
   "version": "3.11.7"
  }
 },
 "nbformat": 4,
 "nbformat_minor": 5
}
