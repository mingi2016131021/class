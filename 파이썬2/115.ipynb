{
 "cells": [
  {
   "cell_type": "code",
   "execution_count": 2,
   "id": "b1ac42ca-caf7-4a1f-8d1e-5997bad33341",
   "metadata": {},
   "outputs": [],
   "source": [
    "class Solution:\n",
    "    def buildArray(self, nums):\n",
    "        list_1 = []\n",
    "        for i in range(0,len(nums)):\n",
    "            list_1.append(nums[nums[i]])\n",
    "        return list_1"
   ]
  },
  {
   "cell_type": "code",
   "execution_count": null,
   "id": "3b548c46-e91e-4e5c-8908-a8a2c98ad27c",
   "metadata": {},
   "outputs": [],
   "source": []
  }
 ],
 "metadata": {
  "kernelspec": {
   "display_name": "Python 3 (ipykernel)",
   "language": "python",
   "name": "python3"
  },
  "language_info": {
   "codemirror_mode": {
    "name": "ipython",
    "version": 3
   },
   "file_extension": ".py",
   "mimetype": "text/x-python",
   "name": "python",
   "nbconvert_exporter": "python",
   "pygments_lexer": "ipython3",
   "version": "3.11.7"
  }
 },
 "nbformat": 4,
 "nbformat_minor": 5
}
