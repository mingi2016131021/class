{
 "cells": [
  {
   "cell_type": "code",
   "execution_count": null,
   "id": "7e8b6e55-d989-40c1-98bb-6c8076a3b164",
   "metadata": {},
   "outputs": [],
   "source": [
    "class Solution:\n",
    "    def findKthPositive(self, arr, k):\n",
    "        a = arr[-1]\n",
    "        nums = list(set(range(1,a))-set(arr))\n",
    "        nums = sorted(nums)\n",
    "        if len(nums)!=0 and len(nums)>=k:\n",
    "            return nums[k-1]\n",
    "        elif len(nums)<k:\n",
    "            return a + k - len(nums)\n",
    "        elif len(nums) == 0:\n",
    "            return a + k"
   ]
  },
  {
   "cell_type": "code",
   "execution_count": null,
   "id": "2a6d788e-c58c-4436-9c8d-6dffc2722023",
   "metadata": {},
   "outputs": [],
   "source": []
  }
 ],
 "metadata": {
  "kernelspec": {
   "display_name": "Python 3 (ipykernel)",
   "language": "python",
   "name": "python3"
  },
  "language_info": {
   "name": ""
  }
 },
 "nbformat": 4,
 "nbformat_minor": 5
}
