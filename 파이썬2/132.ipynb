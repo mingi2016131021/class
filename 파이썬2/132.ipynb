{
 "cells": [
  {
   "cell_type": "code",
   "execution_count": 5,
   "id": "345fb383-fb06-4e2b-bfc0-de4f8d67b28d",
   "metadata": {},
   "outputs": [],
   "source": [
    "class Solution:\n",
    "    def findEvenNumbers(self, digits):\n",
    "        d = defaultdict(int)\n",
    "        for dig in digits:\n",
    "            d[dig] += 1\n",
    "        \n",
    "        res = []\n",
    "        for i in range(100, 1000):\n",
    "            td = d.copy()\n",
    "            Flag = True\n",
    "            \n",
    "            digit = i\n",
    "            while digit > 0:\n",
    "                trail = digit % 10\n",
    "                if td[trail] > 0:\n",
    "                    td[trail] -= 1\n",
    "                else:\n",
    "                    Flag = False\n",
    "                    break\n",
    "                digit //= 10\n",
    "            \n",
    "            if Flag and i % 2 == 0:\n",
    "                res.append(i)\n",
    "        \n",
    "        return res"
   ]
  },
  {
   "cell_type": "code",
   "execution_count": null,
   "id": "8135dbfa-2846-4134-ba5c-d2153332e387",
   "metadata": {},
   "outputs": [],
   "source": []
  }
 ],
 "metadata": {
  "kernelspec": {
   "display_name": "Python 3 (ipykernel)",
   "language": "python",
   "name": "python3"
  },
  "language_info": {
   "codemirror_mode": {
    "name": "ipython",
    "version": 3
   },
   "file_extension": ".py",
   "mimetype": "text/x-python",
   "name": "python",
   "nbconvert_exporter": "python",
   "pygments_lexer": "ipython3",
   "version": "3.11.7"
  }
 },
 "nbformat": 4,
 "nbformat_minor": 5
}
