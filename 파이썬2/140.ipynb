{
 "cells": [
  {
   "cell_type": "code",
   "execution_count": 1,
   "id": "0a57c6a9-b6a6-41c8-8fb0-636c2288ad51",
   "metadata": {},
   "outputs": [],
   "source": [
    "class Solution(object):\n",
    "    def haveConflict(self, event1, event2):\n",
    "        if event1[0] < event2[0]: \n",
    "            \n",
    "            if event1[1] < event2[0]:\n",
    "                return False\n",
    "            \n",
    "            else:\n",
    "                return True\n",
    "\n",
    "        else:\n",
    "            if event1[0] > event2[1]:\n",
    "                return False\n",
    "            else:\n",
    "                return True"
   ]
  },
  {
   "cell_type": "code",
   "execution_count": null,
   "id": "f38faa90-4756-4550-b45e-c5f2c8d4523f",
   "metadata": {},
   "outputs": [],
   "source": []
  }
 ],
 "metadata": {
  "kernelspec": {
   "display_name": "Python 3 (ipykernel)",
   "language": "python",
   "name": "python3"
  },
  "language_info": {
   "codemirror_mode": {
    "name": "ipython",
    "version": 3
   },
   "file_extension": ".py",
   "mimetype": "text/x-python",
   "name": "python",
   "nbconvert_exporter": "python",
   "pygments_lexer": "ipython3",
   "version": "3.11.7"
  }
 },
 "nbformat": 4,
 "nbformat_minor": 5
}
