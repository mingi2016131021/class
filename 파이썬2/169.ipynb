{
 "cells": [
  {
   "cell_type": "code",
   "execution_count": 7,
   "id": "7575c490-18c2-4c32-9b77-d9966ef0b1e9",
   "metadata": {},
   "outputs": [],
   "source": [
    "class Solution:\n",
    "    def containsPattern(self, arr, m, k):\n",
    "        n=len(arr)\n",
    "        for i in range(n-m):\n",
    "            pattern=arr[i:i+m]\n",
    "            count=1\n",
    "            for j in range(i+m, n):\n",
    "                # print(arr[j:j+m])\n",
    "                if pattern==arr[j:j+m]:\n",
    "                    count+=1\n",
    "                else:\n",
    "                    break\n",
    "            print(pattern, count)\n",
    "            if count>=k:\n",
    "                return True\n",
    "        return False"
   ]
  },
  {
   "cell_type": "code",
   "execution_count": null,
   "id": "8826c5af-21b5-4f18-a45a-c26b8616c23f",
   "metadata": {},
   "outputs": [],
   "source": []
  }
 ],
 "metadata": {
  "kernelspec": {
   "display_name": "Python 3 (ipykernel)",
   "language": "python",
   "name": "python3"
  },
  "language_info": {
   "codemirror_mode": {
    "name": "ipython",
    "version": 3
   },
   "file_extension": ".py",
   "mimetype": "text/x-python",
   "name": "python",
   "nbconvert_exporter": "python",
   "pygments_lexer": "ipython3",
   "version": "3.11.7"
  }
 },
 "nbformat": 4,
 "nbformat_minor": 5
}
