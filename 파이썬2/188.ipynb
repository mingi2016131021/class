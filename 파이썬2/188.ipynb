{
 "cells": [
  {
   "cell_type": "code",
   "execution_count": 10,
   "id": "084f18a7-1289-4384-9d1f-110a1545b6ac",
   "metadata": {},
   "outputs": [],
   "source": [
    "class Solution(object):\n",
    "    def countOperations(self, num1, num2):\n",
    "        count=0\n",
    "        while num1!=0 and num2!=0:\n",
    "            count+=1\n",
    "            if num1>=num2:\n",
    "                num1=num1-num2\n",
    "            else:\n",
    "                num2=num2-num1\n",
    "        return count"
   ]
  },
  {
   "cell_type": "code",
   "execution_count": null,
   "id": "14f3af89-ad42-4a15-bfcc-97a4ec6ea09c",
   "metadata": {},
   "outputs": [],
   "source": []
  }
 ],
 "metadata": {
  "kernelspec": {
   "display_name": "Python 3 (ipykernel)",
   "language": "python",
   "name": "python3"
  },
  "language_info": {
   "codemirror_mode": {
    "name": "ipython",
    "version": 3
   },
   "file_extension": ".py",
   "mimetype": "text/x-python",
   "name": "python",
   "nbconvert_exporter": "python",
   "pygments_lexer": "ipython3",
   "version": "3.11.7"
  }
 },
 "nbformat": 4,
 "nbformat_minor": 5
}
