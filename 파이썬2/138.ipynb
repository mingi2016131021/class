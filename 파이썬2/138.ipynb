{
 "cells": [
  {
   "cell_type": "code",
   "execution_count": 2,
   "id": "23816bd8-392e-4fae-87ca-72b7f56fb1e4",
   "metadata": {},
   "outputs": [],
   "source": [
    "class Solution(object):\n",
    "    def removeTrailingZeros(self, num):\n",
    "        num = list(num)\n",
    "        num.reverse()\n",
    "        while True:\n",
    "            if num[0] == '0':\n",
    "                num.pop(0)\n",
    "                continue\n",
    "            break\n",
    "        num.reverse()\n",
    "        return ''.join(str(i) for i in num)"
   ]
  },
  {
   "cell_type": "code",
   "execution_count": null,
   "id": "174787e9-88be-42ad-8f51-bf00405c2e3f",
   "metadata": {},
   "outputs": [],
   "source": []
  }
 ],
 "metadata": {
  "kernelspec": {
   "display_name": "Python 3 (ipykernel)",
   "language": "python",
   "name": "python3"
  },
  "language_info": {
   "codemirror_mode": {
    "name": "ipython",
    "version": 3
   },
   "file_extension": ".py",
   "mimetype": "text/x-python",
   "name": "python",
   "nbconvert_exporter": "python",
   "pygments_lexer": "ipython3",
   "version": "3.11.7"
  }
 },
 "nbformat": 4,
 "nbformat_minor": 5
}
