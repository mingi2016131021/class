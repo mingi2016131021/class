{
 "cells": [
  {
   "cell_type": "code",
   "execution_count": 8,
   "id": "b7c79564-9a3d-4356-a649-86e5405f3d1f",
   "metadata": {},
   "outputs": [],
   "source": [
    "class Solution:\n",
    "    def commonChars(self, words):\n",
    "        ans=collections.Counter(words[0])\n",
    "        for word in words:\n",
    "            ans &=collections.Counter(word)\n",
    "        return list(ans.elements())"
   ]
  },
  {
   "cell_type": "code",
   "execution_count": null,
   "id": "95bd103b-f2bd-400d-b6fe-96ed115a4339",
   "metadata": {},
   "outputs": [],
   "source": []
  }
 ],
 "metadata": {
  "kernelspec": {
   "display_name": "Python 3 (ipykernel)",
   "language": "python",
   "name": "python3"
  },
  "language_info": {
   "codemirror_mode": {
    "name": "ipython",
    "version": 3
   },
   "file_extension": ".py",
   "mimetype": "text/x-python",
   "name": "python",
   "nbconvert_exporter": "python",
   "pygments_lexer": "ipython3",
   "version": "3.11.7"
  }
 },
 "nbformat": 4,
 "nbformat_minor": 5
}
