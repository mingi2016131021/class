{
 "cells": [
  {
   "cell_type": "code",
   "execution_count": 2,
   "id": "fa2915fc-96ad-4547-8796-a75494bed3fd",
   "metadata": {},
   "outputs": [],
   "source": [
    "class Solution(object):\n",
    "    def countKDifference(self, nums, k):\n",
    "        count = 0\n",
    "        for i in range(len(nums)):\n",
    "            for j in range(i):\n",
    "                if abs(nums[i]-nums[j]) == k:\n",
    "                    count +=1\n",
    "        return count"
   ]
  },
  {
   "cell_type": "code",
   "execution_count": null,
   "id": "3c0ba182-05ab-4f21-b5de-93a624d4aeeb",
   "metadata": {},
   "outputs": [],
   "source": []
  }
 ],
 "metadata": {
  "kernelspec": {
   "display_name": "Python 3 (ipykernel)",
   "language": "python",
   "name": "python3"
  },
  "language_info": {
   "codemirror_mode": {
    "name": "ipython",
    "version": 3
   },
   "file_extension": ".py",
   "mimetype": "text/x-python",
   "name": "python",
   "nbconvert_exporter": "python",
   "pygments_lexer": "ipython3",
   "version": "3.11.7"
  }
 },
 "nbformat": 4,
 "nbformat_minor": 5
}
