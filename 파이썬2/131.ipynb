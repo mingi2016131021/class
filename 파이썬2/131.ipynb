{
 "cells": [
  {
   "cell_type": "code",
   "execution_count": 2,
   "id": "7f991987-e9a6-4194-8aef-10b134dd6fb8",
   "metadata": {},
   "outputs": [],
   "source": [
    "class Solution:\n",
    "    def kWeakestRows(self, mat, k):\n",
    "        tmp = []\n",
    "        for i, m in enumerate(mat):\n",
    "            cand = (sum(m), i)\n",
    "            tmp.append(cand)\n",
    "        tmp.sort()\n",
    "        return [i[1] for i in tmp[:k]]"
   ]
  },
  {
   "cell_type": "code",
   "execution_count": null,
   "id": "4befa965-ed83-4f1f-8518-a3a3ea91f0fa",
   "metadata": {},
   "outputs": [],
   "source": []
  }
 ],
 "metadata": {
  "kernelspec": {
   "display_name": "Python 3 (ipykernel)",
   "language": "python",
   "name": "python3"
  },
  "language_info": {
   "codemirror_mode": {
    "name": "ipython",
    "version": 3
   },
   "file_extension": ".py",
   "mimetype": "text/x-python",
   "name": "python",
   "nbconvert_exporter": "python",
   "pygments_lexer": "ipython3",
   "version": "3.11.7"
  }
 },
 "nbformat": 4,
 "nbformat_minor": 5
}
