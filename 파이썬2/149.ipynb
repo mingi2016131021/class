{
 "cells": [
  {
   "cell_type": "code",
   "execution_count": 2,
   "id": "14fd17ee-761e-481d-8a4e-8ad0f3c269b1",
   "metadata": {},
   "outputs": [],
   "source": [
    "class Solution:\n",
    "    def findTilt(self, root):\n",
    "        \n",
    "        def helper(node):\n",
    "            \n",
    "            if node is None:\n",
    "                return 0, 0\n",
    "            \n",
    "            else:\n",
    "                l = helper(node.left)\n",
    "                r = helper(node.right)\n",
    "                s = node.val + l[0] + r[0]\n",
    "                d = abs(l[0] - r[0]) + l[1] + r[1]\n",
    "                return s, d\n",
    "            \n",
    "        return helper(root)[1]"
   ]
  },
  {
   "cell_type": "code",
   "execution_count": null,
   "id": "58d854b1-45ae-47ab-a33b-02872625ad7f",
   "metadata": {},
   "outputs": [],
   "source": []
  }
 ],
 "metadata": {
  "kernelspec": {
   "display_name": "Python 3 (ipykernel)",
   "language": "python",
   "name": "python3"
  },
  "language_info": {
   "codemirror_mode": {
    "name": "ipython",
    "version": 3
   },
   "file_extension": ".py",
   "mimetype": "text/x-python",
   "name": "python",
   "nbconvert_exporter": "python",
   "pygments_lexer": "ipython3",
   "version": "3.11.7"
  }
 },
 "nbformat": 4,
 "nbformat_minor": 5
}
