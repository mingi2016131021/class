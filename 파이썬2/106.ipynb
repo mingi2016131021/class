{
 "cells": [
  {
   "cell_type": "code",
   "execution_count": 3,
   "id": "3c0f681c-d4b1-4b5c-8eb1-9bac7806425a",
   "metadata": {},
   "outputs": [],
   "source": [
    "class Solution:\n",
    "    def countBits(self, n):\n",
    "        dp=[0]\n",
    "        for i in range(1,n+1):\n",
    "            if i%2==1:\n",
    "                dp.append(dp[i-1]+1)\n",
    "            else:\n",
    "                dp.append(dp[i//2])\n",
    "        return dp             "
   ]
  },
  {
   "cell_type": "code",
   "execution_count": null,
   "id": "dc472d94-bf9a-4766-8bb4-94fcc386c4c1",
   "metadata": {},
   "outputs": [],
   "source": []
  }
 ],
 "metadata": {
  "kernelspec": {
   "display_name": "Python 3 (ipykernel)",
   "language": "python",
   "name": "python3"
  },
  "language_info": {
   "codemirror_mode": {
    "name": "ipython",
    "version": 3
   },
   "file_extension": ".py",
   "mimetype": "text/x-python",
   "name": "python",
   "nbconvert_exporter": "python",
   "pygments_lexer": "ipython3",
   "version": "3.11.7"
  }
 },
 "nbformat": 4,
 "nbformat_minor": 5
}
