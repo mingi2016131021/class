{
 "cells": [
  {
   "cell_type": "code",
   "execution_count": 10,
   "id": "d3905f94-7f86-48ab-bce8-19d30679227f",
   "metadata": {},
   "outputs": [],
   "source": [
    "class Solution(object):\n",
    "    def isPalindrome(self, s):\n",
    "        p1,p2=0,len(s)-1\n",
    "        while p1<p2:\n",
    "            while p1<p2 and not s[p1].isalnum():\n",
    "                p1+=1\n",
    "            while p1<p2 and not s[p2].isalnum():\n",
    "                p2-=1\n",
    "            \n",
    "            if s[p1].lower()!=s[p2].lower():\n",
    "                return False\n",
    "            p1+=1\n",
    "            p2-=1\n",
    "        return True"
   ]
  },
  {
   "cell_type": "code",
   "execution_count": null,
   "id": "8910429f-615a-4329-8dd8-b3f436b10acf",
   "metadata": {},
   "outputs": [],
   "source": []
  }
 ],
 "metadata": {
  "kernelspec": {
   "display_name": "Python 3 (ipykernel)",
   "language": "python",
   "name": "python3"
  },
  "language_info": {
   "codemirror_mode": {
    "name": "ipython",
    "version": 3
   },
   "file_extension": ".py",
   "mimetype": "text/x-python",
   "name": "python",
   "nbconvert_exporter": "python",
   "pygments_lexer": "ipython3",
   "version": "3.11.7"
  }
 },
 "nbformat": 4,
 "nbformat_minor": 5
}
