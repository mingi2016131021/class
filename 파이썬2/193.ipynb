{
 "cells": [
  {
   "cell_type": "code",
   "execution_count": 6,
   "id": "85967cc6-9546-478b-9232-7addb5517b34",
   "metadata": {},
   "outputs": [],
   "source": [
    "class Solution:\n",
    "    def getConcatenation(self, nums):\n",
    "        n=len(nums)\n",
    "        l=[]\n",
    "        for i in range(0,n):\n",
    "            l.insert(i,nums[i])\n",
    "            l.insert(i+n,nums[i])\n",
    "        return l"
   ]
  },
  {
   "cell_type": "code",
   "execution_count": null,
   "id": "ee0929b7-cd0a-48a7-a407-4f991c0c7d97",
   "metadata": {},
   "outputs": [],
   "source": []
  }
 ],
 "metadata": {
  "kernelspec": {
   "display_name": "Python 3 (ipykernel)",
   "language": "python",
   "name": "python3"
  },
  "language_info": {
   "codemirror_mode": {
    "name": "ipython",
    "version": 3
   },
   "file_extension": ".py",
   "mimetype": "text/x-python",
   "name": "python",
   "nbconvert_exporter": "python",
   "pygments_lexer": "ipython3",
   "version": "3.11.7"
  }
 },
 "nbformat": 4,
 "nbformat_minor": 5
}
