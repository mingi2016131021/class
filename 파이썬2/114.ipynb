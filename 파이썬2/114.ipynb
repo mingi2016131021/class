{
 "cells": [
  {
   "cell_type": "code",
   "execution_count": 1,
   "id": "95a44e78-37f5-4c88-baa9-6940653122e8",
   "metadata": {},
   "outputs": [],
   "source": [
    "class Solution(object):\n",
    "    def minOperations(self, nums):\n",
    "        count = 0\n",
    "        minus = 0\n",
    "        for i in range(len(nums) - 1):\n",
    "            if nums[i] >= nums[i + 1]:\n",
    "                minus = nums[i] - nums[i + 1] + 1\n",
    "                count += minus\n",
    "                nums[i+1] += minus\n",
    "        \n",
    "        return count"
   ]
  },
  {
   "cell_type": "code",
   "execution_count": null,
   "id": "ffb1ed5c-4f28-44d7-87cb-293f850b9d24",
   "metadata": {},
   "outputs": [],
   "source": []
  }
 ],
 "metadata": {
  "kernelspec": {
   "display_name": "Python 3 (ipykernel)",
   "language": "python",
   "name": "python3"
  },
  "language_info": {
   "codemirror_mode": {
    "name": "ipython",
    "version": 3
   },
   "file_extension": ".py",
   "mimetype": "text/x-python",
   "name": "python",
   "nbconvert_exporter": "python",
   "pygments_lexer": "ipython3",
   "version": "3.11.7"
  }
 },
 "nbformat": 4,
 "nbformat_minor": 5
}
