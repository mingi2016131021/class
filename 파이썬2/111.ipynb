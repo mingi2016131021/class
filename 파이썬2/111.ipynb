{
 "cells": [
  {
   "cell_type": "code",
   "execution_count": 1,
   "id": "f3a25612-0321-4473-9fa8-4e21eb82aaf7",
   "metadata": {},
   "outputs": [],
   "source": [
    "class ParkingSystem(object):\n",
    "\n",
    "    def __init__(self, big, medium, small):\n",
    "        self.big=big\n",
    "        self.medium=medium\n",
    "        self.small=small\n",
    "        \n",
    "\n",
    "    def addCar(self, carType):\n",
    "        if carType==1 and self.big>0:\n",
    "            self.big-=1\n",
    "            return True\n",
    "        elif carType==2 and self.medium>0:\n",
    "             self.medium-=1\n",
    "             return True\n",
    "        elif carType==3 and self.small>0:\n",
    "            self.small-=1\n",
    "            return True\n",
    "        return False"
   ]
  },
  {
   "cell_type": "code",
   "execution_count": null,
   "id": "74b74122-00c2-4443-b3b7-0cd200312425",
   "metadata": {},
   "outputs": [],
   "source": []
  }
 ],
 "metadata": {
  "kernelspec": {
   "display_name": "Python 3 (ipykernel)",
   "language": "python",
   "name": "python3"
  },
  "language_info": {
   "codemirror_mode": {
    "name": "ipython",
    "version": 3
   },
   "file_extension": ".py",
   "mimetype": "text/x-python",
   "name": "python",
   "nbconvert_exporter": "python",
   "pygments_lexer": "ipython3",
   "version": "3.11.7"
  }
 },
 "nbformat": 4,
 "nbformat_minor": 5
}
