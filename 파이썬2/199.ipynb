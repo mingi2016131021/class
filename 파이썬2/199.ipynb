{
 "cells": [
  {
   "cell_type": "code",
   "execution_count": 8,
   "id": "e76f2689-41d4-4943-9562-1e8e61819f35",
   "metadata": {},
   "outputs": [],
   "source": [
    "class Solution(object):\n",
    "    def areAlmostEqual(self, s1, s2):\n",
    "        c=0\n",
    "        for i,j in zip(s1,s2):\n",
    "            if i!=j:\n",
    "                c+=1\n",
    "        return s1==s2 or sorted(s1)==sorted(s2) and c==2"
   ]
  },
  {
   "cell_type": "code",
   "execution_count": null,
   "id": "9bb9d463-5bff-4e17-a18d-3135ab46f4ba",
   "metadata": {},
   "outputs": [],
   "source": []
  }
 ],
 "metadata": {
  "kernelspec": {
   "display_name": "Python 3 (ipykernel)",
   "language": "python",
   "name": "python3"
  },
  "language_info": {
   "codemirror_mode": {
    "name": "ipython",
    "version": 3
   },
   "file_extension": ".py",
   "mimetype": "text/x-python",
   "name": "python",
   "nbconvert_exporter": "python",
   "pygments_lexer": "ipython3",
   "version": "3.11.7"
  }
 },
 "nbformat": 4,
 "nbformat_minor": 5
}
