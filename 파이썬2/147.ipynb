{
 "cells": [
  {
   "cell_type": "code",
   "execution_count": 1,
   "id": "44162d4e-03ec-45fb-b020-560a173a8070",
   "metadata": {},
   "outputs": [],
   "source": [
    "class Solution:\n",
    "    def nextGreaterElement(self, nums1, nums2):\n",
    "        result = []\n",
    "        for num1 in nums1:\n",
    "            flag = 1\n",
    "            idx = nums2.index(num1)\n",
    "            for i in range(idx+1,len(nums2)):\n",
    "                if nums2[i]>num1:\n",
    "                    result.append(nums2[i])\n",
    "                    flag = 0\n",
    "                    break\n",
    "                else:\n",
    "                    flag = 1\n",
    "                    continue\n",
    "            if flag == 1:\n",
    "                result.append(-1)\n",
    "        return result"
   ]
  },
  {
   "cell_type": "code",
   "execution_count": null,
   "id": "322dae49-721a-4ba1-8806-0764dcddd4a7",
   "metadata": {},
   "outputs": [],
   "source": []
  }
 ],
 "metadata": {
  "kernelspec": {
   "display_name": "Python 3 (ipykernel)",
   "language": "python",
   "name": "python3"
  },
  "language_info": {
   "codemirror_mode": {
    "name": "ipython",
    "version": 3
   },
   "file_extension": ".py",
   "mimetype": "text/x-python",
   "name": "python",
   "nbconvert_exporter": "python",
   "pygments_lexer": "ipython3",
   "version": "3.11.7"
  }
 },
 "nbformat": 4,
 "nbformat_minor": 5
}
