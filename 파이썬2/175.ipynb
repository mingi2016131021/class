{
 "cells": [
  {
   "cell_type": "code",
   "execution_count": 2,
   "id": "51b58ad3-eae5-4138-90b8-913a14f891d7",
   "metadata": {},
   "outputs": [],
   "source": [
    "class Solution(object):\n",
    "    def findTheLongestBalancedSubstring(self, s):\n",
    "        temp = '01'\n",
    "        while temp in s:\n",
    "            temp = '0'+temp+'1'\n",
    "        return len(temp)-2"
   ]
  },
  {
   "cell_type": "code",
   "execution_count": null,
   "id": "1627e5a1-9624-4dc4-8498-f526cd05bf60",
   "metadata": {},
   "outputs": [],
   "source": []
  }
 ],
 "metadata": {
  "kernelspec": {
   "display_name": "Python 3 (ipykernel)",
   "language": "python",
   "name": "python3"
  },
  "language_info": {
   "codemirror_mode": {
    "name": "ipython",
    "version": 3
   },
   "file_extension": ".py",
   "mimetype": "text/x-python",
   "name": "python",
   "nbconvert_exporter": "python",
   "pygments_lexer": "ipython3",
   "version": "3.11.7"
  }
 },
 "nbformat": 4,
 "nbformat_minor": 5
}
