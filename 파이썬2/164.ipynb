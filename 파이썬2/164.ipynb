{
 "cells": [
  {
   "cell_type": "code",
   "execution_count": 8,
   "id": "dcbd3e97-b601-45c7-83ac-db2d081b05bc",
   "metadata": {},
   "outputs": [],
   "source": [
    "class Solution:\n",
    "    def allCellsDistOrder(self, rows, cols, rCenter, cCenter):\n",
    "        d={}\n",
    "        for i in range(rows):\n",
    "            for j in range(cols):\n",
    "                dist = abs(i-rCenter) + abs(j-cCenter)\n",
    "                if dist in d:\n",
    "                    d[dist].append([i,j])\n",
    "                else:\n",
    "                    d[dist] = [[i,j]]\n",
    "        ans=[]\n",
    "        for i in sorted(d):\n",
    "            ans.extend(d[i])\n",
    "        return ans"
   ]
  },
  {
   "cell_type": "code",
   "execution_count": null,
   "id": "1b9fd0b2-ca18-4d26-8105-d513fbf379c2",
   "metadata": {},
   "outputs": [],
   "source": []
  }
 ],
 "metadata": {
  "kernelspec": {
   "display_name": "Python 3 (ipykernel)",
   "language": "python",
   "name": "python3"
  },
  "language_info": {
   "codemirror_mode": {
    "name": "ipython",
    "version": 3
   },
   "file_extension": ".py",
   "mimetype": "text/x-python",
   "name": "python",
   "nbconvert_exporter": "python",
   "pygments_lexer": "ipython3",
   "version": "3.11.7"
  }
 },
 "nbformat": 4,
 "nbformat_minor": 5
}
