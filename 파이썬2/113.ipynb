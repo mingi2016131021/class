{
 "cells": [
  {
   "cell_type": "code",
   "execution_count": 1,
   "id": "fe0abec9-2743-442d-9998-8f9545401d14",
   "metadata": {},
   "outputs": [],
   "source": [
    "class Solution(object):\n",
    "    def largestAltitude(self, gain):\n",
    "        alt = 0\n",
    "        s = 0\n",
    "        for i in range(len(gain)):\n",
    "            s += gain[i]\n",
    "            if(s > 0):\n",
    "                alt = max(alt, s)\n",
    "        return alt"
   ]
  },
  {
   "cell_type": "code",
   "execution_count": null,
   "id": "9e331af1-e919-46f1-bcf2-c6f5a1c0313b",
   "metadata": {},
   "outputs": [],
   "source": []
  }
 ],
 "metadata": {
  "kernelspec": {
   "display_name": "Python 3 (ipykernel)",
   "language": "python",
   "name": "python3"
  },
  "language_info": {
   "codemirror_mode": {
    "name": "ipython",
    "version": 3
   },
   "file_extension": ".py",
   "mimetype": "text/x-python",
   "name": "python",
   "nbconvert_exporter": "python",
   "pygments_lexer": "ipython3",
   "version": "3.11.7"
  }
 },
 "nbformat": 4,
 "nbformat_minor": 5
}
