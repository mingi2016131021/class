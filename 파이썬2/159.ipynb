{
 "cells": [
  {
   "cell_type": "code",
   "execution_count": 2,
   "id": "dbe6a62c-8d0c-4c97-a5d0-0d25600dd996",
   "metadata": {},
   "outputs": [],
   "source": [
    "class Solution(object):\n",
    "    def fairCandySwap(self, aliceSizes, bobSizes):\n",
    "        diff=(sum(aliceSizes)-sum(bobSizes))//2\n",
    "        for b in bobSizes:\n",
    "            if diff+b in aliceSizes:\n",
    "                return [diff+b,b]      "
   ]
  },
  {
   "cell_type": "code",
   "execution_count": null,
   "id": "90e14098-cd4e-4c0e-9c59-149ef5bf9489",
   "metadata": {},
   "outputs": [],
   "source": []
  }
 ],
 "metadata": {
  "kernelspec": {
   "display_name": "Python 3 (ipykernel)",
   "language": "python",
   "name": "python3"
  },
  "language_info": {
   "codemirror_mode": {
    "name": "ipython",
    "version": 3
   },
   "file_extension": ".py",
   "mimetype": "text/x-python",
   "name": "python",
   "nbconvert_exporter": "python",
   "pygments_lexer": "ipython3",
   "version": "3.11.7"
  }
 },
 "nbformat": 4,
 "nbformat_minor": 5
}
