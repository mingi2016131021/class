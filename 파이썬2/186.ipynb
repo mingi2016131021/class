{
 "cells": [
  {
   "cell_type": "code",
   "execution_count": 8,
   "id": "77b7b672-c24f-4755-8cf3-f7d1d3dd513b",
   "metadata": {},
   "outputs": [],
   "source": [
    "class Solution(object):\n",
    "    def mergeSimilarItems(self, items1, items2):\n",
    "        result=[]\n",
    "        result_1=[]\n",
    "        \n",
    "        for i in range(len(items1)):\n",
    "            for j in range(len(items2)):\n",
    "                if items1[i][0]==items2[j][0]:\n",
    "                    result.append([items1[i][0],items1[i][1]+items2[j][1]])\n",
    "        for i in range(len(result)):\n",
    "            result_1.append(result[i][0])\n",
    "        for i in range(len(items1)):\n",
    "            if items1[i][0] not in result_1:\n",
    "               result.append([items1[i][0],items1[i][1]])\n",
    "        for i in range(len(items2)):\n",
    "            if items2[i][0] not in result_1:\n",
    "               result.append([items2[i][0],items2[i][1]])\n",
    "        result.sort()\n",
    "        return result"
   ]
  },
  {
   "cell_type": "code",
   "execution_count": null,
   "id": "b41a7e2a-8145-4d55-8c5f-9bd4e1a2610d",
   "metadata": {},
   "outputs": [],
   "source": []
  }
 ],
 "metadata": {
  "kernelspec": {
   "display_name": "Python 3 (ipykernel)",
   "language": "python",
   "name": "python3"
  },
  "language_info": {
   "codemirror_mode": {
    "name": "ipython",
    "version": 3
   },
   "file_extension": ".py",
   "mimetype": "text/x-python",
   "name": "python",
   "nbconvert_exporter": "python",
   "pygments_lexer": "ipython3",
   "version": "3.11.7"
  }
 },
 "nbformat": 4,
 "nbformat_minor": 5
}
