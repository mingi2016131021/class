{
 "cells": [
  {
   "cell_type": "code",
   "execution_count": 2,
   "id": "48c29a5f-958c-4a91-9d09-d2842bc415e5",
   "metadata": {},
   "outputs": [],
   "source": [
    "class Solution:\n",
    "    def sumOddLengthSubarrays(self, arr):\n",
    "        length = len(arr)\n",
    "        ans = 0        \n",
    "        for i in range(length) :\n",
    "            ans += ((i+1)*(length-i)+1)//2 * arr[i]\n",
    "        return ans"
   ]
  },
  {
   "cell_type": "code",
   "execution_count": null,
   "id": "5476f027-2769-4445-83ec-2dbf686ba421",
   "metadata": {},
   "outputs": [],
   "source": []
  }
 ],
 "metadata": {
  "kernelspec": {
   "display_name": "Python 3 (ipykernel)",
   "language": "python",
   "name": "python3"
  },
  "language_info": {
   "codemirror_mode": {
    "name": "ipython",
    "version": 3
   },
   "file_extension": ".py",
   "mimetype": "text/x-python",
   "name": "python",
   "nbconvert_exporter": "python",
   "pygments_lexer": "ipython3",
   "version": "3.11.7"
  }
 },
 "nbformat": 4,
 "nbformat_minor": 5
}
