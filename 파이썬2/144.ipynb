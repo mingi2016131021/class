{
 "cells": [
  {
   "cell_type": "code",
   "execution_count": 2,
   "id": "921380cf-c403-4cb6-9932-fde8a9ed1366",
   "metadata": {},
   "outputs": [],
   "source": [
    "class Solution(object):\n",
    "    def isSubsequence(self, s, t):\n",
    "        j = 0\n",
    "        for i in range(0, len(t)):\n",
    "            if j >= len(s):\n",
    "                break\n",
    "            if s[j] == t[i]:\n",
    "                j += 1\n",
    "        return j == len(s)"
   ]
  },
  {
   "cell_type": "code",
   "execution_count": null,
   "id": "05a3e8ee-aa1b-45fa-bd1c-afb09ff1e214",
   "metadata": {},
   "outputs": [],
   "source": []
  }
 ],
 "metadata": {
  "kernelspec": {
   "display_name": "Python 3 (ipykernel)",
   "language": "python",
   "name": "python3"
  },
  "language_info": {
   "codemirror_mode": {
    "name": "ipython",
    "version": 3
   },
   "file_extension": ".py",
   "mimetype": "text/x-python",
   "name": "python",
   "nbconvert_exporter": "python",
   "pygments_lexer": "ipython3",
   "version": "3.11.7"
  }
 },
 "nbformat": 4,
 "nbformat_minor": 5
}
