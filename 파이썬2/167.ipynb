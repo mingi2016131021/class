{
 "cells": [
  {
   "cell_type": "code",
   "execution_count": 10,
   "id": "55d7b4e1-bfad-422a-af9a-b9c8226f8733",
   "metadata": {},
   "outputs": [],
   "source": [
    "class Solution(object):\n",
    "    def kidsWithCandies(self, candies, extraCandies):\n",
    "        l = len(candies)\n",
    "        i=0\n",
    "        greatest = max(candies)\n",
    "        \n",
    "        while i<l:\n",
    "            if (candies[i] + extraCandies) >= greatest:\n",
    "                candies[i] = True\n",
    "            else:\n",
    "                candies[i] = False\n",
    "            i += 1\n",
    "        return candies"
   ]
  },
  {
   "cell_type": "code",
   "execution_count": null,
   "id": "f9c67818-5a6b-417f-afa1-502707c76991",
   "metadata": {},
   "outputs": [],
   "source": []
  }
 ],
 "metadata": {
  "kernelspec": {
   "display_name": "Python 3 (ipykernel)",
   "language": "python",
   "name": "python3"
  },
  "language_info": {
   "codemirror_mode": {
    "name": "ipython",
    "version": 3
   },
   "file_extension": ".py",
   "mimetype": "text/x-python",
   "name": "python",
   "nbconvert_exporter": "python",
   "pygments_lexer": "ipython3",
   "version": "3.11.7"
  }
 },
 "nbformat": 4,
 "nbformat_minor": 5
}
