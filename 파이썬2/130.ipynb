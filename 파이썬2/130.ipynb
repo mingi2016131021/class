{
 "cells": [
  {
   "cell_type": "code",
   "execution_count": 2,
   "id": "3fce028a-d6cf-4678-b049-9627b34fb8a0",
   "metadata": {},
   "outputs": [],
   "source": [
    "class Solution:\n",
    "    def findJudge(self, n, trust):\n",
    "        if len(trust) < n-1:\n",
    "            return -1\n",
    "\n",
    "        score = [0]*(n+1)\n",
    "\n",
    "        for a,b in trust:\n",
    "            score[a] -= 1\n",
    "            score[b] += 1\n",
    "\n",
    "        for i, s in enumerate(score[1:], 1):\n",
    "            if s == n-1:\n",
    "                return i\n",
    "\n",
    "        return -1"
   ]
  },
  {
   "cell_type": "code",
   "execution_count": null,
   "id": "7749063d-a004-4ea9-bd01-8b4d6f83295a",
   "metadata": {},
   "outputs": [],
   "source": []
  }
 ],
 "metadata": {
  "kernelspec": {
   "display_name": "Python 3 (ipykernel)",
   "language": "python",
   "name": "python3"
  },
  "language_info": {
   "codemirror_mode": {
    "name": "ipython",
    "version": 3
   },
   "file_extension": ".py",
   "mimetype": "text/x-python",
   "name": "python",
   "nbconvert_exporter": "python",
   "pygments_lexer": "ipython3",
   "version": "3.11.7"
  }
 },
 "nbformat": 4,
 "nbformat_minor": 5
}
