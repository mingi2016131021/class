{
 "cells": [
  {
   "cell_type": "code",
   "execution_count": 2,
   "id": "062a1ad1-5908-475d-ba0c-42954d86559e",
   "metadata": {},
   "outputs": [],
   "source": [
    "class Solution:\n",
    "    def isPowerOfFour(self, n):\n",
    "        if n<=0:\n",
    "            return False\n",
    "        return n>0 and log(n,4).is_integer()    "
   ]
  },
  {
   "cell_type": "code",
   "execution_count": null,
   "id": "6182dad4-9457-4fa7-bb3b-b834e724d83b",
   "metadata": {},
   "outputs": [],
   "source": []
  }
 ],
 "metadata": {
  "kernelspec": {
   "display_name": "Python 3 (ipykernel)",
   "language": "python",
   "name": "python3"
  },
  "language_info": {
   "codemirror_mode": {
    "name": "ipython",
    "version": 3
   },
   "file_extension": ".py",
   "mimetype": "text/x-python",
   "name": "python",
   "nbconvert_exporter": "python",
   "pygments_lexer": "ipython3",
   "version": "3.11.7"
  }
 },
 "nbformat": 4,
 "nbformat_minor": 5
}
