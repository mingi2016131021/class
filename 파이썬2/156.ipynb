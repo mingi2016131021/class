{
 "cells": [
  {
   "cell_type": "code",
   "execution_count": 3,
   "id": "f4891223-e6f2-410e-9532-93519779a310",
   "metadata": {},
   "outputs": [],
   "source": [
    "class Solution(object):\n",
    "    def maxProfit(self, prices):\n",
    "    \tbest = 0\n",
    "    \tbuy = prices[0]\n",
    "    \tfor i in range(1, len(prices)):\n",
    "    \t\tprofit = prices[i] - buy\n",
    "    \t\tbest = max(best, profit)\n",
    "    \t\tbuy = min(buy, prices[i])\n",
    "    \treturn best"
   ]
  },
  {
   "cell_type": "code",
   "execution_count": null,
   "id": "31ced637-28db-41c5-8f52-2b3cbbd3d113",
   "metadata": {},
   "outputs": [],
   "source": []
  }
 ],
 "metadata": {
  "kernelspec": {
   "display_name": "Python 3 (ipykernel)",
   "language": "python",
   "name": "python3"
  },
  "language_info": {
   "codemirror_mode": {
    "name": "ipython",
    "version": 3
   },
   "file_extension": ".py",
   "mimetype": "text/x-python",
   "name": "python",
   "nbconvert_exporter": "python",
   "pygments_lexer": "ipython3",
   "version": "3.11.7"
  }
 },
 "nbformat": 4,
 "nbformat_minor": 5
}
