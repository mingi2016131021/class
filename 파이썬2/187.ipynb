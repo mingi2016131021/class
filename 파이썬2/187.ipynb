{
 "cells": [
  {
   "cell_type": "code",
   "execution_count": 12,
   "id": "46d16e30-d369-40ff-9ea1-fa4bb28b3431",
   "metadata": {},
   "outputs": [],
   "source": [
    "class Solution(object):\n",
    "    def countAsterisks(self, s):        \n",
    "        if s.count('|') < 2:\n",
    "            return s.count('*')\n",
    "        \n",
    "        arr = s.split('|')\n",
    "\n",
    "        res = 0\n",
    "        for i in range( len(arr)):\n",
    "            if (i+1) <= len(arr) and (i+1)%2==0:\n",
    "                continue\n",
    "            res += arr[i].count('*')\n",
    "        return res"
   ]
  },
  {
   "cell_type": "code",
   "execution_count": null,
   "id": "83538423-ce56-4c4a-ad3a-f7504c8f29c7",
   "metadata": {},
   "outputs": [],
   "source": []
  }
 ],
 "metadata": {
  "kernelspec": {
   "display_name": "Python 3 (ipykernel)",
   "language": "python",
   "name": "python3"
  },
  "language_info": {
   "codemirror_mode": {
    "name": "ipython",
    "version": 3
   },
   "file_extension": ".py",
   "mimetype": "text/x-python",
   "name": "python",
   "nbconvert_exporter": "python",
   "pygments_lexer": "ipython3",
   "version": "3.11.7"
  }
 },
 "nbformat": 4,
 "nbformat_minor": 5
}
