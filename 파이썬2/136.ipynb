{
 "cells": [
  {
   "cell_type": "code",
   "execution_count": 2,
   "id": "88d04f1d-1fed-4f6c-ab1a-f9a54d108ef5",
   "metadata": {},
   "outputs": [],
   "source": [
    "class Solution:\n",
    "    def isCircularSentence(self, sentence):\n",
    "        arr = sentence.split()\n",
    "\n",
    "        for i in range(0 , len(arr)):\n",
    "            if i < len(arr) - 1:\n",
    "                last_char = arr[i][len(arr[i]) - 1]\n",
    "                first_char = arr[i + 1][0]\n",
    "            else:\n",
    "                last_char = arr[i][len(arr[i]) - 1]\n",
    "                first_char = arr[0][0]\n",
    "            \n",
    "            if last_char == first_char:\n",
    "                continue\n",
    "            else:\n",
    "                return False\n",
    "        \n",
    "        return True"
   ]
  },
  {
   "cell_type": "code",
   "execution_count": null,
   "id": "2bb0ddde-df4a-4fda-ad2c-54e921c040ab",
   "metadata": {},
   "outputs": [],
   "source": []
  }
 ],
 "metadata": {
  "kernelspec": {
   "display_name": "Python 3 (ipykernel)",
   "language": "python",
   "name": "python3"
  },
  "language_info": {
   "codemirror_mode": {
    "name": "ipython",
    "version": 3
   },
   "file_extension": ".py",
   "mimetype": "text/x-python",
   "name": "python",
   "nbconvert_exporter": "python",
   "pygments_lexer": "ipython3",
   "version": "3.11.7"
  }
 },
 "nbformat": 4,
 "nbformat_minor": 5
}
