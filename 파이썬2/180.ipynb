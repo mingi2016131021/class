{
 "cells": [
  {
   "cell_type": "code",
   "execution_count": 6,
   "id": "3ba7050a-43e9-4fc7-a7db-444c6949a39f",
   "metadata": {},
   "outputs": [],
   "source": [
    "class Solution:\n",
    "    def clearDigits(self, s):\n",
    "        l1=[]\n",
    "        r=\"\"\n",
    "        l=['0','1','2','3','4','5','6','7','8','9']\n",
    "        for i in s:\n",
    "            if(i not in l):\n",
    "                l1.append(i)\n",
    "                print(r)\n",
    "            else:\n",
    "                l1.pop()\n",
    "                print(l1)\n",
    "        for i in l1:\n",
    "            r=r+i\n",
    "        return r"
   ]
  },
  {
   "cell_type": "code",
   "execution_count": null,
   "id": "ddbc164d-1269-43f7-a6c8-fb41365540f8",
   "metadata": {},
   "outputs": [],
   "source": []
  }
 ],
 "metadata": {
  "kernelspec": {
   "display_name": "Python 3 (ipykernel)",
   "language": "python",
   "name": "python3"
  },
  "language_info": {
   "codemirror_mode": {
    "name": "ipython",
    "version": 3
   },
   "file_extension": ".py",
   "mimetype": "text/x-python",
   "name": "python",
   "nbconvert_exporter": "python",
   "pygments_lexer": "ipython3",
   "version": "3.11.7"
  }
 },
 "nbformat": 4,
 "nbformat_minor": 5
}
