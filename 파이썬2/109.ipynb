{
 "cells": [
  {
   "cell_type": "code",
   "execution_count": 1,
   "id": "b9e09449-aff9-4fa9-9822-7570b75a358f",
   "metadata": {},
   "outputs": [],
   "source": [
    "class Solution(object):\n",
    "    def isPathCrossing(self, path):\n",
    "        [a,b]=[0,0]\n",
    "        my_list=[[a,b]]\n",
    "        for i in path:\n",
    "            if i == 'N':\n",
    "                b+=1\n",
    "            if i == 'S':\n",
    "                b-=1\n",
    "            if i == 'E':\n",
    "                a+=1\n",
    "            if i == 'W':\n",
    "                a-=1\n",
    "            if [a,b] in my_list:\n",
    "                return True\n",
    "            my_list.append([a,b])\n",
    "        return False        "
   ]
  },
  {
   "cell_type": "code",
   "execution_count": null,
   "id": "c3dab8d8-a63c-4c9f-ad74-902c39994231",
   "metadata": {},
   "outputs": [],
   "source": []
  }
 ],
 "metadata": {
  "kernelspec": {
   "display_name": "Python 3 (ipykernel)",
   "language": "python",
   "name": "python3"
  },
  "language_info": {
   "codemirror_mode": {
    "name": "ipython",
    "version": 3
   },
   "file_extension": ".py",
   "mimetype": "text/x-python",
   "name": "python",
   "nbconvert_exporter": "python",
   "pygments_lexer": "ipython3",
   "version": "3.11.7"
  }
 },
 "nbformat": 4,
 "nbformat_minor": 5
}
