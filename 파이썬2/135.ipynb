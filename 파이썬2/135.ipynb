{
 "cells": [
  {
   "cell_type": "code",
   "execution_count": 1,
   "id": "ea60a5a2-002b-481e-8725-fed248c93629",
   "metadata": {},
   "outputs": [],
   "source": [
    "class Solution(object):\n",
    "    def checkDistances(self, s, distance):\n",
    "        alpha = \"abcdefghijklmnopqrstuvwxyz\"\n",
    "        res = {}\n",
    "        for ele in range(len(alpha)):\n",
    "            res[alpha[ele]]=distance[ele]\n",
    "        hm={}\n",
    "        print(res)\n",
    "        for i in range(len(s)):\n",
    "            if(s[i] not in hm):\n",
    "                hm[s[i]]=i+1\n",
    "            else:\n",
    "                if(i-hm[s[i]]!=res[s[i]]):\n",
    "                    print(hm[s[i]],res[s[i]],i)\n",
    "                    return False\n",
    "                hm[s[i]]=i+1\n",
    "        return True"
   ]
  },
  {
   "cell_type": "code",
   "execution_count": null,
   "id": "1bf6d2d3-ecb5-44c2-9196-ad41727d3aa4",
   "metadata": {},
   "outputs": [],
   "source": []
  }
 ],
 "metadata": {
  "kernelspec": {
   "display_name": "Python 3 (ipykernel)",
   "language": "python",
   "name": "python3"
  },
  "language_info": {
   "codemirror_mode": {
    "name": "ipython",
    "version": 3
   },
   "file_extension": ".py",
   "mimetype": "text/x-python",
   "name": "python",
   "nbconvert_exporter": "python",
   "pygments_lexer": "ipython3",
   "version": "3.11.7"
  }
 },
 "nbformat": 4,
 "nbformat_minor": 5
}
