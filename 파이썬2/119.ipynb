{
 "cells": [
  {
   "cell_type": "code",
   "execution_count": 1,
   "id": "5231384d-6b11-47b2-a41e-ff35d6be025c",
   "metadata": {},
   "outputs": [],
   "source": [
    "class Solution(object):\n",
    "    def minMovesToSeat(self, seats, students):\n",
    "        x=sorted(students)\n",
    "        y=sorted(seats)\n",
    "        z=0\n",
    "        for i in range(0,len(seats)):\n",
    "            z+=abs(x[i]-y[i])\n",
    "            #print(z)\n",
    "        return z"
   ]
  },
  {
   "cell_type": "code",
   "execution_count": null,
   "id": "9d03adb1-1746-4a3b-8997-d0725ebca945",
   "metadata": {},
   "outputs": [],
   "source": []
  }
 ],
 "metadata": {
  "kernelspec": {
   "display_name": "Python 3 (ipykernel)",
   "language": "python",
   "name": "python3"
  },
  "language_info": {
   "codemirror_mode": {
    "name": "ipython",
    "version": 3
   },
   "file_extension": ".py",
   "mimetype": "text/x-python",
   "name": "python",
   "nbconvert_exporter": "python",
   "pygments_lexer": "ipython3",
   "version": "3.11.7"
  }
 },
 "nbformat": 4,
 "nbformat_minor": 5
}
