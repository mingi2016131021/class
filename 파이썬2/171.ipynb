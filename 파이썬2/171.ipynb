{
 "cells": [
  {
   "cell_type": "code",
   "execution_count": 6,
   "id": "8ddaf36e-e410-4e5c-9fbc-650ce8efaec2",
   "metadata": {},
   "outputs": [],
   "source": [
    "class Solution:\n",
    "    def numberOfMatches(self, n):\n",
    "        res = 0\n",
    "        while n != 1:\n",
    "            if n % 2 == 0:\n",
    "                res += n // 2\n",
    "                n //= 2\n",
    "            else:\n",
    "                res += (n - 1) // 2\n",
    "                n = ((n - 1) // 2) + 1\n",
    "        return res"
   ]
  },
  {
   "cell_type": "code",
   "execution_count": null,
   "id": "77c77058-46cc-42e5-a1ce-f35566986039",
   "metadata": {},
   "outputs": [],
   "source": []
  }
 ],
 "metadata": {
  "kernelspec": {
   "display_name": "Python 3 (ipykernel)",
   "language": "python",
   "name": "python3"
  },
  "language_info": {
   "codemirror_mode": {
    "name": "ipython",
    "version": 3
   },
   "file_extension": ".py",
   "mimetype": "text/x-python",
   "name": "python",
   "nbconvert_exporter": "python",
   "pygments_lexer": "ipython3",
   "version": "3.11.7"
  }
 },
 "nbformat": 4,
 "nbformat_minor": 5
}
