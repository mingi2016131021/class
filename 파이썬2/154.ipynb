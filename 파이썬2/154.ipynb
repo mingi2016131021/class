{
 "cells": [
  {
   "cell_type": "code",
   "execution_count": 2,
   "id": "52c3ea5b-702c-44f7-a17a-bbd8d620c044",
   "metadata": {},
   "outputs": [],
   "source": [
    "class Solution(object):\n",
    "    def postorderTraversal(self, root):\n",
    "        return self.postorderTraversal(root.left) + self.postorderTraversal(root.right) + [root.val] if root else []"
   ]
  },
  {
   "cell_type": "code",
   "execution_count": null,
   "id": "cc0f01c2-226c-4c66-9245-e276c4f9dd39",
   "metadata": {},
   "outputs": [],
   "source": []
  }
 ],
 "metadata": {
  "kernelspec": {
   "display_name": "Python 3 (ipykernel)",
   "language": "python",
   "name": "python3"
  },
  "language_info": {
   "codemirror_mode": {
    "name": "ipython",
    "version": 3
   },
   "file_extension": ".py",
   "mimetype": "text/x-python",
   "name": "python",
   "nbconvert_exporter": "python",
   "pygments_lexer": "ipython3",
   "version": "3.11.7"
  }
 },
 "nbformat": 4,
 "nbformat_minor": 5
}
