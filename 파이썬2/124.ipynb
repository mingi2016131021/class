{
 "cells": [
  {
   "cell_type": "code",
   "execution_count": 2,
   "id": "822a1aee-9e55-40e2-9842-b51be1a10e01",
   "metadata": {},
   "outputs": [],
   "source": [
    "class Solution(object):\n",
    "    def isCovered(self, ranges, left, right):\n",
    "\n",
    "        arr = sorted([i for i in range(left, right+1)])\n",
    "        ranges, j, l, = sorted(ranges), 0, len(arr)\n",
    "        for i in ranges:\n",
    "            while arr[j] in range(i[0], i[1]+1):\n",
    "                j += 1\n",
    "                if j == l:\n",
    "                    return True\n",
    "        return False"
   ]
  },
  {
   "cell_type": "code",
   "execution_count": null,
   "id": "e2d420d3-4ba6-41c7-9a07-911db9efae3a",
   "metadata": {},
   "outputs": [],
   "source": []
  }
 ],
 "metadata": {
  "kernelspec": {
   "display_name": "Python 3 (ipykernel)",
   "language": "python",
   "name": "python3"
  },
  "language_info": {
   "codemirror_mode": {
    "name": "ipython",
    "version": 3
   },
   "file_extension": ".py",
   "mimetype": "text/x-python",
   "name": "python",
   "nbconvert_exporter": "python",
   "pygments_lexer": "ipython3",
   "version": "3.11.7"
  }
 },
 "nbformat": 4,
 "nbformat_minor": 5
}
