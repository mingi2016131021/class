{
 "cells": [
  {
   "cell_type": "code",
   "execution_count": 1,
   "id": "805715c6-a0c5-4756-8198-eb55b0f1bb62",
   "metadata": {},
   "outputs": [],
   "source": [
    "class Solution:\n",
    "    def findGCD(self, nums):\n",
    "        nums.sort()\n",
    "        a, b = nums[0], nums[len(nums) - 1]\n",
    "        \n",
    "        maxi = 0\n",
    "        for i in range(1, a+1):\n",
    "            if a % i == 0 and b % i == 0:\n",
    "                maxi = i\n",
    "        return maxi"
   ]
  },
  {
   "cell_type": "code",
   "execution_count": null,
   "id": "4ae5f958-a1a8-48c5-9f32-3414a79c4d25",
   "metadata": {},
   "outputs": [],
   "source": []
  }
 ],
 "metadata": {
  "kernelspec": {
   "display_name": "Python 3 (ipykernel)",
   "language": "python",
   "name": "python3"
  },
  "language_info": {
   "codemirror_mode": {
    "name": "ipython",
    "version": 3
   },
   "file_extension": ".py",
   "mimetype": "text/x-python",
   "name": "python",
   "nbconvert_exporter": "python",
   "pygments_lexer": "ipython3",
   "version": "3.11.7"
  }
 },
 "nbformat": 4,
 "nbformat_minor": 5
}
