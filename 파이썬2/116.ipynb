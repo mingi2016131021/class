{
 "cells": [
  {
   "cell_type": "markdown",
   "id": "63656ce0-dd1c-4329-bfc5-6681cf05f5a4",
   "metadata": {},
   "source": [
    "###### class Solution(object):\n",
    "    def canBeIncreasing(self, nums):\n",
    "    n = len(nums)\n",
    "\tdef isIncreasing(arr):\n",
    "\t\ti =0\n",
    "\t\twhile i <len(arr)-1:\n",
    "\t\t\tif arr[i] >= arr[i +1]:\n",
    "\t\t\t\treturn False\n",
    "\t\t\ti +=1\n",
    "\t\treturn True \n",
    "\n",
    "\tfor i in range(n-1,-1,-1):\n",
    "\t\ttemp = nums.pop(i)\n",
    "\t\tif isIncreasing(nums):\n",
    "\t\t\treturn True\n",
    "\t\tnums.insert(i,temp)\n",
    "\treturn False"
   ]
  },
  {
   "cell_type": "code",
   "execution_count": null,
   "id": "07fbf219-28e5-4320-86cc-5d951002adfa",
   "metadata": {},
   "outputs": [],
   "source": []
  }
 ],
 "metadata": {
  "kernelspec": {
   "display_name": "Python 3 (ipykernel)",
   "language": "python",
   "name": "python3"
  },
  "language_info": {
   "codemirror_mode": {
    "name": "ipython",
    "version": 3
   },
   "file_extension": ".py",
   "mimetype": "text/x-python",
   "name": "python",
   "nbconvert_exporter": "python",
   "pygments_lexer": "ipython3",
   "version": "3.11.7"
  }
 },
 "nbformat": 4,
 "nbformat_minor": 5
}
