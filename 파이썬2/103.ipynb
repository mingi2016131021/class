{
 "cells": [
  {
   "cell_type": "code",
   "execution_count": 1,
   "id": "166255cb-3391-4edc-aae3-16f20b539379",
   "metadata": {},
   "outputs": [],
   "source": [
    "class Solution:\n",
    "    def findErrorNums(self, nums):\n",
    "        c=Counter(nums)\n",
    "        l=[0,0]\n",
    "        for i in range(1,len(nums)+1):\n",
    "            if c[i]==2:\n",
    "                l[0]=i\n",
    "            if c[i]==0:\n",
    "                l[1]=i\n",
    "        return l"
   ]
  },
  {
   "cell_type": "code",
   "execution_count": null,
   "id": "2daef36e-778c-499b-bd02-ac976afea5f8",
   "metadata": {},
   "outputs": [],
   "source": []
  }
 ],
 "metadata": {
  "kernelspec": {
   "display_name": "Python 3 (ipykernel)",
   "language": "python",
   "name": "python3"
  },
  "language_info": {
   "codemirror_mode": {
    "name": "ipython",
    "version": 3
   },
   "file_extension": ".py",
   "mimetype": "text/x-python",
   "name": "python",
   "nbconvert_exporter": "python",
   "pygments_lexer": "ipython3",
   "version": "3.11.7"
  }
 },
 "nbformat": 4,
 "nbformat_minor": 5
}
