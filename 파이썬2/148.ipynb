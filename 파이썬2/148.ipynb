{
 "cells": [
  {
   "cell_type": "code",
   "execution_count": 2,
   "id": "161240f0-46a6-470f-a07c-7fb3e20f1223",
   "metadata": {},
   "outputs": [],
   "source": [
    "class Solution:\n",
    "    def findRelativeRanks(self, score):\n",
    "        \n",
    "        \n",
    "        tmp = sorted(score)\n",
    "        \n",
    "        hash_map = {}\n",
    "        \n",
    "        for idx, val in enumerate(tmp[::-1]):\n",
    "            \n",
    "            if idx == 0:\n",
    "                hash_map[val] = \"Gold Medal\"\n",
    "            \n",
    "            elif idx == 1:\n",
    "                hash_map[val] = \"Silver Medal\"\n",
    "            \n",
    "            elif idx == 2:\n",
    "                hash_map[val] = \"Bronze Medal\"\n",
    "            \n",
    "            else:\n",
    "                hash_map[val] = str(idx+1)\n",
    "        \n",
    "        for idx, val in enumerate(score):\n",
    "            \n",
    "            score[idx] = hash_map[val]\n",
    "        \n",
    "        return score"
   ]
  },
  {
   "cell_type": "code",
   "execution_count": null,
   "id": "1c53f89d-9a14-415a-8fd4-320b50687ba9",
   "metadata": {},
   "outputs": [],
   "source": []
  }
 ],
 "metadata": {
  "kernelspec": {
   "display_name": "Python 3 (ipykernel)",
   "language": "python",
   "name": "python3"
  },
  "language_info": {
   "codemirror_mode": {
    "name": "ipython",
    "version": 3
   },
   "file_extension": ".py",
   "mimetype": "text/x-python",
   "name": "python",
   "nbconvert_exporter": "python",
   "pygments_lexer": "ipython3",
   "version": "3.11.7"
  }
 },
 "nbformat": 4,
 "nbformat_minor": 5
}
