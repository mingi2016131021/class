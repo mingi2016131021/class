{
 "cells": [
  {
   "cell_type": "code",
   "execution_count": 1,
   "id": "b86ad455-0e75-4f1e-a70e-c5b56240bcff",
   "metadata": {},
   "outputs": [],
   "source": [
    "class Solution(object):\n",
    "    def numberOfPairs(self, nums):\n",
    "        ans = [0, 0]\n",
    "        for n in set(nums):\n",
    "            count = nums.count(n)\n",
    "            if count == 1:\n",
    "                ans[1] += 1\n",
    "            elif count % 2 == 0:\n",
    "                ans[0] += count // 2\n",
    "            elif count % 2 != 0:\n",
    "                ans[0] += (count - 1) // 2\n",
    "                ans[1] += 1\n",
    "        return ans"
   ]
  },
  {
   "cell_type": "code",
   "execution_count": null,
   "id": "725346a8-61ba-4444-b8b2-9c751fc0d06a",
   "metadata": {},
   "outputs": [],
   "source": []
  }
 ],
 "metadata": {
  "kernelspec": {
   "display_name": "Python 3 (ipykernel)",
   "language": "python",
   "name": "python3"
  },
  "language_info": {
   "codemirror_mode": {
    "name": "ipython",
    "version": 3
   },
   "file_extension": ".py",
   "mimetype": "text/x-python",
   "name": "python",
   "nbconvert_exporter": "python",
   "pygments_lexer": "ipython3",
   "version": "3.11.7"
  }
 },
 "nbformat": 4,
 "nbformat_minor": 5
}
