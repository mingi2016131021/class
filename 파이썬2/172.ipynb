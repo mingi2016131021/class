{
 "cells": [
  {
   "cell_type": "code",
   "execution_count": 6,
   "id": "1c6e6ee4-2479-478e-bad3-2a1ed52382dd",
   "metadata": {},
   "outputs": [],
   "source": [
    "class Solution(object):\n",
    "    def maximumPopulation(self, logs):\n",
    "                t=[]\n",
    "                for i in range(0,101,1):\n",
    "                    t.append(0)\n",
    "                 \n",
    "                for a in logs:\n",
    "                    a=a\n",
    "                    for j in range(a[0],(a[1]),1):\n",
    "                        j=j-1950\n",
    "                        t[j]=t[j]+1\n",
    "                m=max(t)\n",
    "                my=[]\n",
    "                for i in range(len(t)):\n",
    "                    if t[i]==m:\n",
    "                        i=i+1950\n",
    "                        my.append(i)\n",
    "                mp=min(my)\n",
    "                return mp"
   ]
  },
  {
   "cell_type": "code",
   "execution_count": null,
   "id": "70b31fb5-979d-4e87-b3cd-ad6e7c4b32c8",
   "metadata": {},
   "outputs": [],
   "source": []
  }
 ],
 "metadata": {
  "kernelspec": {
   "display_name": "Python 3 (ipykernel)",
   "language": "python",
   "name": "python3"
  },
  "language_info": {
   "codemirror_mode": {
    "name": "ipython",
    "version": 3
   },
   "file_extension": ".py",
   "mimetype": "text/x-python",
   "name": "python",
   "nbconvert_exporter": "python",
   "pygments_lexer": "ipython3",
   "version": "3.11.7"
  }
 },
 "nbformat": 4,
 "nbformat_minor": 5
}
