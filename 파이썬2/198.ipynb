{
 "cells": [
  {
   "cell_type": "code",
   "execution_count": 6,
   "id": "c154aac7-4fa1-4a9c-9464-c4ddb1a6816f",
   "metadata": {},
   "outputs": [],
   "source": [
    "class Solution:\n",
    "    def countGoodSubstrings(self, s):\n",
    "        ans = 0\n",
    "        \n",
    "        for i in range(len(s)-2):\n",
    "            if len(set(s[i:i+3])) == len(s[i:i+3]):\n",
    "                ans += 1\n",
    "            \n",
    "        return ans"
   ]
  },
  {
   "cell_type": "code",
   "execution_count": null,
   "id": "3a161cc6-2e1c-4fb1-8b06-e2486fbff746",
   "metadata": {},
   "outputs": [],
   "source": []
  }
 ],
 "metadata": {
  "kernelspec": {
   "display_name": "Python 3 (ipykernel)",
   "language": "python",
   "name": "python3"
  },
  "language_info": {
   "codemirror_mode": {
    "name": "ipython",
    "version": 3
   },
   "file_extension": ".py",
   "mimetype": "text/x-python",
   "name": "python",
   "nbconvert_exporter": "python",
   "pygments_lexer": "ipython3",
   "version": "3.11.7"
  }
 },
 "nbformat": 4,
 "nbformat_minor": 5
}
