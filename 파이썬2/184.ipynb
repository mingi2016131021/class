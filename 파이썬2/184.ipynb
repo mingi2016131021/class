{
 "cells": [
  {
   "cell_type": "code",
   "execution_count": 10,
   "id": "e2c3d2db-6ba3-402f-8a03-2394634d8a72",
   "metadata": {},
   "outputs": [],
   "source": [
    "class Solution(object):\n",
    "    def leftRightDifference(self, nums):\n",
    "        leftsum=[]\n",
    "        rightsum=[]\n",
    "        for i in range(len(nums)):\n",
    "            rightsum +=[sum(nums[i+1:])]\n",
    "            leftsum +=[sum(nums[0:i])]\n",
    "        return [abs(leftsum[i] - rightsum[i]) for i in range(len(nums))]"
   ]
  },
  {
   "cell_type": "code",
   "execution_count": null,
   "id": "57747500-c6b1-4354-a9d4-f76c1c02d053",
   "metadata": {},
   "outputs": [],
   "source": []
  }
 ],
 "metadata": {
  "kernelspec": {
   "display_name": "Python 3 (ipykernel)",
   "language": "python",
   "name": "python3"
  },
  "language_info": {
   "codemirror_mode": {
    "name": "ipython",
    "version": 3
   },
   "file_extension": ".py",
   "mimetype": "text/x-python",
   "name": "python",
   "nbconvert_exporter": "python",
   "pygments_lexer": "ipython3",
   "version": "3.11.7"
  }
 },
 "nbformat": 4,
 "nbformat_minor": 5
}
