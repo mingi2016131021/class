{
 "cells": [
  {
   "cell_type": "code",
   "execution_count": 11,
   "id": "a0ec677e-4156-4027-a6d2-e861fb72c5ad",
   "metadata": {},
   "outputs": [],
   "source": [
    "class Solution:\n",
    "    def numPrimeArrangements(self, n):\n",
    "        primes=[2, 3, 5, 7, 11, 13, 17, 19, 23, 29, 31, 37, 41, 43, 47, 53, 59, 61, 67, 71, 73, 79, 83, 89, 97]\n",
    "        m=0\n",
    "        for i in primes:\n",
    "            if i<=n:\n",
    "                m+=1\n",
    "        return (math.factorial(m)*math.factorial(n-m))%(10**9 + 7)"
   ]
  },
  {
   "cell_type": "code",
   "execution_count": null,
   "id": "9605117b-faf1-4e18-a404-6d206887265b",
   "metadata": {},
   "outputs": [],
   "source": []
  }
 ],
 "metadata": {
  "kernelspec": {
   "display_name": "Python 3 (ipykernel)",
   "language": "python",
   "name": "python3"
  },
  "language_info": {
   "codemirror_mode": {
    "name": "ipython",
    "version": 3
   },
   "file_extension": ".py",
   "mimetype": "text/x-python",
   "name": "python",
   "nbconvert_exporter": "python",
   "pygments_lexer": "ipython3",
   "version": "3.11.7"
  }
 },
 "nbformat": 4,
 "nbformat_minor": 5
}
