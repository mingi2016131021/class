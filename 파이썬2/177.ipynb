{
 "cells": [
  {
   "cell_type": "code",
   "execution_count": 9,
   "id": "e3b2fa1a-627b-40cc-bd9c-c862da645970",
   "metadata": {},
   "outputs": [],
   "source": [
    "class Solution(object):\n",
    "    def hasTrailingZeros(self, nums):\n",
    "        t, i = [], 0\n",
    "        while i < len(nums) - 1:\n",
    "            for j in range(i, len(nums) - 1):\n",
    "                if (nums[i], nums[j + 1]) not in t and bin(nums[i] | nums[j + 1])[-1] == '0':\n",
    "                    t.append((nums[i], nums[j + 1]))\n",
    "                    return True\n",
    "                    i = len(nums) - 1\n",
    "                    \n",
    "            i += 1\n",
    "        if len(t) == 0:\n",
    "            return False"
   ]
  },
  {
   "cell_type": "code",
   "execution_count": null,
   "id": "aa8403cd-a6bc-4c9e-937e-b7d78eed0688",
   "metadata": {},
   "outputs": [],
   "source": []
  }
 ],
 "metadata": {
  "kernelspec": {
   "display_name": "Python 3 (ipykernel)",
   "language": "python",
   "name": "python3"
  },
  "language_info": {
   "codemirror_mode": {
    "name": "ipython",
    "version": 3
   },
   "file_extension": ".py",
   "mimetype": "text/x-python",
   "name": "python",
   "nbconvert_exporter": "python",
   "pygments_lexer": "ipython3",
   "version": "3.11.7"
  }
 },
 "nbformat": 4,
 "nbformat_minor": 5
}
