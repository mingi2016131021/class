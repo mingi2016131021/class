{
 "cells": [
  {
   "cell_type": "code",
   "execution_count": 8,
   "id": "e06073a4-0ad9-4bbf-ae64-d560e9a81e54",
   "metadata": {},
   "outputs": [],
   "source": [
    "class Solution:\n",
    "    def areNumbersAscending(self, s):\n",
    "        k = 0\n",
    "        for i in s.split():\n",
    "            if i.isdigit():\n",
    "                if int(i) > k:\n",
    "                    k = int(i)\n",
    "                else:\n",
    "                    return False\n",
    "        return True"
   ]
  },
  {
   "cell_type": "code",
   "execution_count": null,
   "id": "fbc35e4a-6c61-45d5-a038-cab93568cd2c",
   "metadata": {},
   "outputs": [],
   "source": []
  }
 ],
 "metadata": {
  "kernelspec": {
   "display_name": "Python 3 (ipykernel)",
   "language": "python",
   "name": "python3"
  },
  "language_info": {
   "codemirror_mode": {
    "name": "ipython",
    "version": 3
   },
   "file_extension": ".py",
   "mimetype": "text/x-python",
   "name": "python",
   "nbconvert_exporter": "python",
   "pygments_lexer": "ipython3",
   "version": "3.11.7"
  }
 },
 "nbformat": 4,
 "nbformat_minor": 5
}
