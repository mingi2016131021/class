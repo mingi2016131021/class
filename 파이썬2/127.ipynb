{
 "cells": [
  {
   "cell_type": "code",
   "execution_count": 1,
   "id": "3293d163-d55b-4243-bd16-d94e21b010c3",
   "metadata": {},
   "outputs": [],
   "source": [
    "class Solution(object):\n",
    "    def judgeCircle(self, moves):\n",
    "        c=0\n",
    "        r=0\n",
    "        for each in moves:\n",
    "            if each=='U':\n",
    "                c+=1\n",
    "            elif each=='D':\n",
    "                c-=1\n",
    "            elif each=='L':\n",
    "                r+=1\n",
    "            else:\n",
    "                r-=1\n",
    "        if c==0 and r==0:\n",
    "            return True\n",
    "        return False"
   ]
  },
  {
   "cell_type": "code",
   "execution_count": null,
   "id": "4aaa05da-f1fc-4711-8336-aa96d8587dcd",
   "metadata": {},
   "outputs": [],
   "source": []
  }
 ],
 "metadata": {
  "kernelspec": {
   "display_name": "Python 3 (ipykernel)",
   "language": "python",
   "name": "python3"
  },
  "language_info": {
   "codemirror_mode": {
    "name": "ipython",
    "version": 3
   },
   "file_extension": ".py",
   "mimetype": "text/x-python",
   "name": "python",
   "nbconvert_exporter": "python",
   "pygments_lexer": "ipython3",
   "version": "3.11.7"
  }
 },
 "nbformat": 4,
 "nbformat_minor": 5
}
