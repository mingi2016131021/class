{
 "cells": [
  {
   "cell_type": "code",
   "execution_count": 9,
   "id": "c558a368-d2b1-4f15-a9b0-cca2018c042e",
   "metadata": {},
   "outputs": [],
   "source": [
    "class Solution(object):\n",
    "    def checkZeroOnes(self, s):\n",
    "        max_one, cnt_one, max_zero, cnt_zero = 0, 0, 0, 0\n",
    "        for c in s:\n",
    "            if c == '1':\n",
    "                cnt_one += 1\n",
    "            else:\n",
    "                max_one = max(max_one, cnt_one)\n",
    "                cnt_one = 0\n",
    "\n",
    "            if c == '0':\n",
    "                cnt_zero += 1\n",
    "            else:\n",
    "                max_zero = max(max_zero, cnt_zero)\n",
    "                cnt_zero = 0\n",
    "\n",
    "        max_one =  max(max_one, cnt_one) \n",
    "        max_zero = max(max_zero, cnt_zero)\n",
    "\n",
    "        return max_one > max_zero        "
   ]
  },
  {
   "cell_type": "code",
   "execution_count": null,
   "id": "a0fc3bab-b103-499f-93d8-ce67b80959e0",
   "metadata": {},
   "outputs": [],
   "source": []
  }
 ],
 "metadata": {
  "kernelspec": {
   "display_name": "Python 3 (ipykernel)",
   "language": "python",
   "name": "python3"
  },
  "language_info": {
   "codemirror_mode": {
    "name": "ipython",
    "version": 3
   },
   "file_extension": ".py",
   "mimetype": "text/x-python",
   "name": "python",
   "nbconvert_exporter": "python",
   "pygments_lexer": "ipython3",
   "version": "3.11.7"
  }
 },
 "nbformat": 4,
 "nbformat_minor": 5
}
