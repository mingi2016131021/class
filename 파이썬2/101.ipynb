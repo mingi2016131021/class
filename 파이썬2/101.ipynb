{
 "cells": [
  {
   "cell_type": "code",
   "execution_count": 1,
   "id": "c7536903-c8d7-4d7e-ba4d-715fbc29ae9d",
   "metadata": {},
   "outputs": [],
   "source": [
    "class Solution(object):\n",
    "    def check(self,nums):\n",
    "        if len(nums)==0:\n",
    "            return True\n",
    "        for i in range(len(nums)-1):\n",
    "            if nums[i]>=nums[i+1]:\n",
    "                return False\n",
    "\n",
    "        return True\n",
    "                \n",
    "    def incremovableSubarrayCount(self, nums):\n",
    "       \n",
    "        c=0\n",
    "        for i in range(len(nums)):\n",
    "            for j in range(i,len(nums)+1):\n",
    "                lst=nums[i:j]\n",
    "                temp=nums[:i]+nums[j:]\n",
    "                if len(lst)>0 and self.check(temp):\n",
    "                    #print(lst)\n",
    "                    c+=1\n",
    "        return c"
   ]
  },
  {
   "cell_type": "code",
   "execution_count": null,
   "id": "f4959045-0ca5-4f71-9ff9-04bf7d5ea652",
   "metadata": {},
   "outputs": [],
   "source": []
  }
 ],
 "metadata": {
  "kernelspec": {
   "display_name": "Python 3 (ipykernel)",
   "language": "python",
   "name": "python3"
  },
  "language_info": {
   "codemirror_mode": {
    "name": "ipython",
    "version": 3
   },
   "file_extension": ".py",
   "mimetype": "text/x-python",
   "name": "python",
   "nbconvert_exporter": "python",
   "pygments_lexer": "ipython3",
   "version": "3.11.7"
  }
 },
 "nbformat": 4,
 "nbformat_minor": 5
}
