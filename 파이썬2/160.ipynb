{
 "cells": [
  {
   "cell_type": "code",
   "execution_count": 12,
   "id": "497dcb88-eb02-4393-ad1f-812ebb35a156",
   "metadata": {},
   "outputs": [],
   "source": [
    "class Solution:\n",
    "    def rangeSumBST(self, root, low, high):\n",
    "        self.result = 0\n",
    "        self.dfs(root, low, high)\n",
    "        \n",
    "        return self.result\n",
    "    \n",
    "    \n",
    "    \n",
    "    def dfs(self, root, low, high):\n",
    "        if not root:\n",
    "            return\n",
    "        \n",
    "        if low <= root.val <= high:\n",
    "            self.result += root.val\n",
    "            \n",
    "        if root.left:\n",
    "            self.dfs(root.left, low, high)\n",
    "            \n",
    "        if root.right:\n",
    "            self.dfs(root.right, low, high)"
   ]
  },
  {
   "cell_type": "code",
   "execution_count": null,
   "id": "915acca5-1c44-4b3e-b4f8-7bb55c3a28ba",
   "metadata": {},
   "outputs": [],
   "source": []
  }
 ],
 "metadata": {
  "kernelspec": {
   "display_name": "Python 3 (ipykernel)",
   "language": "python",
   "name": "python3"
  },
  "language_info": {
   "codemirror_mode": {
    "name": "ipython",
    "version": 3
   },
   "file_extension": ".py",
   "mimetype": "text/x-python",
   "name": "python",
   "nbconvert_exporter": "python",
   "pygments_lexer": "ipython3",
   "version": "3.11.7"
  }
 },
 "nbformat": 4,
 "nbformat_minor": 5
}
