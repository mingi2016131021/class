{
 "cells": [
  {
   "cell_type": "code",
   "execution_count": 6,
   "id": "5d891b47-a242-461e-b47e-4d80e43f6a03",
   "metadata": {},
   "outputs": [],
   "source": [
    "class Solution:\n",
    "    def arraySign(self, nums):\n",
    "        neg = 0\n",
    "        for x in nums:\n",
    "            if x < 0:\n",
    "                neg += 1\n",
    "            elif x == 0:\n",
    "                return 0\n",
    "        if neg % 2 == 1:\n",
    "            return -1\n",
    "        return 1"
   ]
  },
  {
   "cell_type": "code",
   "execution_count": null,
   "id": "416a6d00-c22f-4c3a-8493-ea7ea20d02b3",
   "metadata": {},
   "outputs": [],
   "source": []
  }
 ],
 "metadata": {
  "kernelspec": {
   "display_name": "Python 3 (ipykernel)",
   "language": "python",
   "name": "python3"
  },
  "language_info": {
   "codemirror_mode": {
    "name": "ipython",
    "version": 3
   },
   "file_extension": ".py",
   "mimetype": "text/x-python",
   "name": "python",
   "nbconvert_exporter": "python",
   "pygments_lexer": "ipython3",
   "version": "3.11.7"
  }
 },
 "nbformat": 4,
 "nbformat_minor": 5
}
