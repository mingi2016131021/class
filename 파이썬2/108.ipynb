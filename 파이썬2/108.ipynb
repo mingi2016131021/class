{
 "cells": [
  {
   "cell_type": "code",
   "execution_count": 2,
   "id": "30dc52e6-84b4-4659-b07d-c7cc165171f1",
   "metadata": {},
   "outputs": [],
   "source": [
    "class Solution:\n",
    "    def reformat(self, s):\n",
    "        #\n",
    "        digit = \"0123456789\"\n",
    "        stackd,stackn = [], []\n",
    "        for i in s:\n",
    "            if i in digit:\n",
    "                stackd.append(i)\n",
    "            else:\n",
    "                stackn.append(i)\n",
    "        \n",
    "        if abs(len(stackd)-len(stackn)) > 1:\n",
    "            return \"\"\n",
    "        \n",
    "        def reString(l1, l2):\n",
    "            res = l1.pop()\n",
    "            k = 1\n",
    "            while l1 or l2:\n",
    "                if k%2 == 1:\n",
    "                    res += l2.pop()\n",
    "                else:\n",
    "                    res += l1.pop()\n",
    "                k += 1\n",
    "            return res if not l1 else \"\"\n",
    "        \n",
    "        return reString(stackd,stackn) if len(stackd)>= len(stackn) else reString(stackn,stackd)"
   ]
  },
  {
   "cell_type": "code",
   "execution_count": null,
   "id": "dd4ba4b6-6e94-4a66-a577-4db6199c55ec",
   "metadata": {},
   "outputs": [],
   "source": []
  }
 ],
 "metadata": {
  "kernelspec": {
   "display_name": "Python 3 (ipykernel)",
   "language": "python",
   "name": "python3"
  },
  "language_info": {
   "codemirror_mode": {
    "name": "ipython",
    "version": 3
   },
   "file_extension": ".py",
   "mimetype": "text/x-python",
   "name": "python",
   "nbconvert_exporter": "python",
   "pygments_lexer": "ipython3",
   "version": "3.11.7"
  }
 },
 "nbformat": 4,
 "nbformat_minor": 5
}
