{
 "cells": [
  {
   "cell_type": "code",
   "execution_count": 5,
   "id": "4f362370-5126-476e-b087-eff45f0adae1",
   "metadata": {},
   "outputs": [],
   "source": [
    "class Solution:\n",
    "    def returnToBoundaryCount(self, nums):\n",
    "        curr, count = 0, 0\n",
    "        for val in nums:\n",
    "            curr += val\n",
    "            if curr == 0:\n",
    "                count += 1\n",
    "        return count "
   ]
  },
  {
   "cell_type": "code",
   "execution_count": null,
   "id": "6b2b3e49-95bc-45a7-a763-d3a385b9d094",
   "metadata": {},
   "outputs": [],
   "source": []
  }
 ],
 "metadata": {
  "kernelspec": {
   "display_name": "Python 3 (ipykernel)",
   "language": "python",
   "name": "python3"
  },
  "language_info": {
   "codemirror_mode": {
    "name": "ipython",
    "version": 3
   },
   "file_extension": ".py",
   "mimetype": "text/x-python",
   "name": "python",
   "nbconvert_exporter": "python",
   "pygments_lexer": "ipython3",
   "version": "3.11.7"
  }
 },
 "nbformat": 4,
 "nbformat_minor": 5
}
