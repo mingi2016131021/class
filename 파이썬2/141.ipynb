{
 "cells": [
  {
   "cell_type": "code",
   "execution_count": 2,
   "id": "07812162-bf10-42a2-b4c0-4a9185819bff",
   "metadata": {},
   "outputs": [],
   "source": [
    "class Solution(object):\n",
    "    def isSameAfterReversals(self, num):\n",
    "        return False if num != 0 and num % 10 == 0 else True"
   ]
  },
  {
   "cell_type": "code",
   "execution_count": null,
   "id": "45245205-6b01-4f06-a6ad-8fa68efb065b",
   "metadata": {},
   "outputs": [],
   "source": []
  }
 ],
 "metadata": {
  "kernelspec": {
   "display_name": "Python 3 (ipykernel)",
   "language": "python",
   "name": "python3"
  },
  "language_info": {
   "codemirror_mode": {
    "name": "ipython",
    "version": 3
   },
   "file_extension": ".py",
   "mimetype": "text/x-python",
   "name": "python",
   "nbconvert_exporter": "python",
   "pygments_lexer": "ipython3",
   "version": "3.11.7"
  }
 },
 "nbformat": 4,
 "nbformat_minor": 5
}
