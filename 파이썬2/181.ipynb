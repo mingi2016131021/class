{
 "cells": [
  {
   "cell_type": "code",
   "execution_count": 6,
   "id": "5a4899ba-eaa5-4ca5-bad0-29ae27e37a62",
   "metadata": {},
   "outputs": [],
   "source": [
    "class Solution(object):\n",
    "    def areSimilar(self, mat, k):\n",
    "        lft,rigt=[],[]\n",
    "        n=len(mat[0])\n",
    "        r=k%n\n",
    "        for j,lst in enumerate(mat):\n",
    "            temp=[]\n",
    "            orig=lst[:]\n",
    "            if j%2==0:\n",
    "                for i in range(r):\n",
    "                    item=lst.pop()\n",
    "                    temp.append(item)\n",
    "                temp=temp[::-1]+lst\n",
    "            else:\n",
    "                for i in range(r):\n",
    "                    item=lst.pop(0)\n",
    "                    temp.append(item)\n",
    "                temp=lst+temp[:]\n",
    "            \n",
    "\n",
    "            rigt.append(temp)\n",
    "            if temp != orig:\n",
    "                print(temp,orig)\n",
    "                return False\n",
    "        \n",
    "        return True"
   ]
  },
  {
   "cell_type": "code",
   "execution_count": null,
   "id": "a74e8c26-3832-423f-a670-83f3cf327013",
   "metadata": {},
   "outputs": [],
   "source": []
  }
 ],
 "metadata": {
  "kernelspec": {
   "display_name": "Python 3 (ipykernel)",
   "language": "python",
   "name": "python3"
  },
  "language_info": {
   "codemirror_mode": {
    "name": "ipython",
    "version": 3
   },
   "file_extension": ".py",
   "mimetype": "text/x-python",
   "name": "python",
   "nbconvert_exporter": "python",
   "pygments_lexer": "ipython3",
   "version": "3.11.7"
  }
 },
 "nbformat": 4,
 "nbformat_minor": 5
}
