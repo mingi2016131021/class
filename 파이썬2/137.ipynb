{
 "cells": [
  {
   "cell_type": "code",
   "execution_count": 2,
   "id": "3bee6fb3-2fc0-4790-9243-65bb624e8dee",
   "metadata": {},
   "outputs": [],
   "source": [
    "class Solution(object):\n",
    "    def kItemsWithMaximumSum(self, numOnes, numZeros, numNegOnes, k):\n",
    "        ans=0\n",
    "        for i in range(k):\n",
    "            if numOnes>0:\n",
    "                ans+=1\n",
    "                numOnes-=1\n",
    "            elif numZeros>0:\n",
    "                numZeros-=1\n",
    "            elif numNegOnes>0:\n",
    "                ans-=1\n",
    "                numNegOnes-=1\n",
    "            else:\n",
    "                break\n",
    "        return ans"
   ]
  },
  {
   "cell_type": "code",
   "execution_count": null,
   "id": "a5dd4848-6e08-49ae-b25b-a28007517ba5",
   "metadata": {},
   "outputs": [],
   "source": []
  }
 ],
 "metadata": {
  "kernelspec": {
   "display_name": "Python 3 (ipykernel)",
   "language": "python",
   "name": "python3"
  },
  "language_info": {
   "codemirror_mode": {
    "name": "ipython",
    "version": 3
   },
   "file_extension": ".py",
   "mimetype": "text/x-python",
   "name": "python",
   "nbconvert_exporter": "python",
   "pygments_lexer": "ipython3",
   "version": "3.11.7"
  }
 },
 "nbformat": 4,
 "nbformat_minor": 5
}
