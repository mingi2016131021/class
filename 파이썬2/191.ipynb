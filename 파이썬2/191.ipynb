{
 "cells": [
  {
   "cell_type": "code",
   "execution_count": 6,
   "id": "30cc4996-777f-4ca1-b4f6-7e368ba26150",
   "metadata": {},
   "outputs": [],
   "source": [
    "class Solution(object):\n",
    "    def kthDistinct(self, arr, k):\n",
    "        a=0\n",
    "        for x in arr:\n",
    "            if arr.count(x)<2:\n",
    "                a=a+1\n",
    "                if a==k:\n",
    "                    return x\n",
    "        return \"\""
   ]
  },
  {
   "cell_type": "code",
   "execution_count": null,
   "id": "a73ddb12-09ae-49e9-b673-f88f0919c43d",
   "metadata": {},
   "outputs": [],
   "source": []
  }
 ],
 "metadata": {
  "kernelspec": {
   "display_name": "Python 3 (ipykernel)",
   "language": "python",
   "name": "python3"
  },
  "language_info": {
   "codemirror_mode": {
    "name": "ipython",
    "version": 3
   },
   "file_extension": ".py",
   "mimetype": "text/x-python",
   "name": "python",
   "nbconvert_exporter": "python",
   "pygments_lexer": "ipython3",
   "version": "3.11.7"
  }
 },
 "nbformat": 4,
 "nbformat_minor": 5
}
