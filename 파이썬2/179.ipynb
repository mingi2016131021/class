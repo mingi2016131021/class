{
 "cells": [
  {
   "cell_type": "code",
   "execution_count": 6,
   "id": "23106f75-f1ef-4421-a1ec-5740ee0aa26c",
   "metadata": {},
   "outputs": [],
   "source": [
    "class Solution(object):\n",
    "    def maximumLengthSubstring(self, s):\n",
    "        max_l=0\n",
    "        start_str=\"\"\n",
    "        while len(s) >0:\n",
    "            if s==\"\":\n",
    "                break\n",
    "            for q in s:\n",
    "                start_str+=q\n",
    "                if start_str.count(q) >2:\n",
    "                    start_str=start_str[:-1]\n",
    "                    break\n",
    "            if len(start_str)> max_l:\n",
    "                max_l=len(start_str)\n",
    "            start_str=\"\"\n",
    "            s=s[1:]\n",
    "        return max_l"
   ]
  },
  {
   "cell_type": "code",
   "execution_count": null,
   "id": "c5d5bb34-6745-4136-8cae-e5f6b0c56c7b",
   "metadata": {},
   "outputs": [],
   "source": []
  }
 ],
 "metadata": {
  "kernelspec": {
   "display_name": "Python 3 (ipykernel)",
   "language": "python",
   "name": "python3"
  },
  "language_info": {
   "codemirror_mode": {
    "name": "ipython",
    "version": 3
   },
   "file_extension": ".py",
   "mimetype": "text/x-python",
   "name": "python",
   "nbconvert_exporter": "python",
   "pygments_lexer": "ipython3",
   "version": "3.11.7"
  }
 },
 "nbformat": 4,
 "nbformat_minor": 5
}
