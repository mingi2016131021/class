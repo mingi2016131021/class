{
 "cells": [
  {
   "cell_type": "code",
   "execution_count": 8,
   "id": "1b8e2ae8-7ea5-45f4-9bd5-b2122e03dda2",
   "metadata": {},
   "outputs": [],
   "source": [
    "class Solution:\n",
    "    def capitalizeTitle(self, title):\n",
    "        title = title.split()\n",
    "        word = \"\"\n",
    "        for i in range(len(title)):\n",
    "            if len(title[i]) < 3:\n",
    "                word = word + title[i].lower() + \" \"\n",
    "            else:\n",
    "                word = word + title[i].capitalize() + \" \"\n",
    "        return word[:-1]"
   ]
  },
  {
   "cell_type": "code",
   "execution_count": null,
   "id": "a96c7c47-de36-4495-a020-03d637ebcb13",
   "metadata": {},
   "outputs": [],
   "source": []
  }
 ],
 "metadata": {
  "kernelspec": {
   "display_name": "Python 3 (ipykernel)",
   "language": "python",
   "name": "python3"
  },
  "language_info": {
   "codemirror_mode": {
    "name": "ipython",
    "version": 3
   },
   "file_extension": ".py",
   "mimetype": "text/x-python",
   "name": "python",
   "nbconvert_exporter": "python",
   "pygments_lexer": "ipython3",
   "version": "3.11.7"
  }
 },
 "nbformat": 4,
 "nbformat_minor": 5
}
