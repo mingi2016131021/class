{
 "cells": [
  {
   "cell_type": "code",
   "execution_count": 1,
   "id": "06399ca9-ecec-49d5-86cd-bc4480541c14",
   "metadata": {},
   "outputs": [],
   "source": [
    "class Solution(object):\n",
    "    def checkString(self, s):\n",
    "        a=0\n",
    "        flag=False\n",
    "        for x in range(0,len(s)):\n",
    "            if s[x]==\"b\":\n",
    "                a=x\n",
    "                flag=True\n",
    "                break\n",
    "        if flag==False:\n",
    "            return True\n",
    "        for y in range(a,len(s)):\n",
    "            if s[y]==\"a\":\n",
    "                return False\n",
    "        return True"
   ]
  },
  {
   "cell_type": "code",
   "execution_count": null,
   "id": "3f7f3edb-7866-4efd-98e6-daf937fb0dd5",
   "metadata": {},
   "outputs": [],
   "source": []
  }
 ],
 "metadata": {
  "kernelspec": {
   "display_name": "Python 3 (ipykernel)",
   "language": "python",
   "name": "python3"
  },
  "language_info": {
   "codemirror_mode": {
    "name": "ipython",
    "version": 3
   },
   "file_extension": ".py",
   "mimetype": "text/x-python",
   "name": "python",
   "nbconvert_exporter": "python",
   "pygments_lexer": "ipython3",
   "version": "3.11.7"
  }
 },
 "nbformat": 4,
 "nbformat_minor": 5
}
