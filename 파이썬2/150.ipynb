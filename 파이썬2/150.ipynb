{
 "cells": [
  {
   "cell_type": "code",
   "execution_count": 2,
   "id": "a2cd492a-be70-4785-a860-e030d4887dad",
   "metadata": {},
   "outputs": [],
   "source": [
    "class Solution(object):\n",
    "    def findRestaurant(self, list1, list2):\n",
    "        s = list(set(list1).intersection(set(list2)))\n",
    "        r = []\n",
    "        m = float('inf')\n",
    "        for i in s:\n",
    "            p = list1.index(i)+list2.index(i)\n",
    "            if p<m:\n",
    "                r = [i]\n",
    "                m = p\n",
    "            elif p == m:\n",
    "                r.append(i)\n",
    "        return r"
   ]
  },
  {
   "cell_type": "code",
   "execution_count": null,
   "id": "ec664fc1-e8b1-4a56-8bfd-bd6362d62e06",
   "metadata": {},
   "outputs": [],
   "source": []
  }
 ],
 "metadata": {
  "kernelspec": {
   "display_name": "Python 3 (ipykernel)",
   "language": "python",
   "name": "python3"
  },
  "language_info": {
   "codemirror_mode": {
    "name": "ipython",
    "version": 3
   },
   "file_extension": ".py",
   "mimetype": "text/x-python",
   "name": "python",
   "nbconvert_exporter": "python",
   "pygments_lexer": "ipython3",
   "version": "3.11.7"
  }
 },
 "nbformat": 4,
 "nbformat_minor": 5
}
