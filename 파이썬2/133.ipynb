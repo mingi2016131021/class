{
 "cells": [
  {
   "cell_type": "code",
   "execution_count": 1,
   "id": "80c1cc7f-0461-48bf-b0b2-485e6966de77",
   "metadata": {},
   "outputs": [],
   "source": [
    "class Solution(object):\n",
    "    def largestInteger(self, num):\n",
    "        str_num = str(num)\n",
    "        arr_sort = sorted(str_num)\n",
    "        even = []\n",
    "        odd = []\n",
    "        for el in arr_sort:\n",
    "            if int(el) % 2 == 0:\n",
    "                even.append(el)\n",
    "            else:\n",
    "                odd.append(el)\n",
    "        ans = ''\n",
    "        for el in str_num:\n",
    "            if int(el) % 2 == 0:\n",
    "                ans += even.pop()\n",
    "            else:\n",
    "                ans += odd.pop()\n",
    "        return int(ans)"
   ]
  },
  {
   "cell_type": "code",
   "execution_count": null,
   "id": "af85f553-3f48-4dbf-976f-88f0f2c96022",
   "metadata": {},
   "outputs": [],
   "source": []
  }
 ],
 "metadata": {
  "kernelspec": {
   "display_name": "Python 3 (ipykernel)",
   "language": "python",
   "name": "python3"
  },
  "language_info": {
   "codemirror_mode": {
    "name": "ipython",
    "version": 3
   },
   "file_extension": ".py",
   "mimetype": "text/x-python",
   "name": "python",
   "nbconvert_exporter": "python",
   "pygments_lexer": "ipython3",
   "version": "3.11.7"
  }
 },
 "nbformat": 4,
 "nbformat_minor": 5
}
